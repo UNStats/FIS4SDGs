{
 "cells": [
  {
   "cell_type": "markdown",
   "metadata": {},
   "source": [
    "# Pivoting script\n",
    "This script pivots into \"wide\" format and split regional and country data "
   ]
  },
  {
   "cell_type": "markdown",
   "metadata": {},
   "source": [
    "## Load necessary libraries"
   ]
  },
  {
   "cell_type": "code",
   "execution_count": 9,
   "metadata": {},
   "outputs": [],
   "source": [
    "import csv\n",
    "import json\n",
    "import urllib3  # allows to access a URL with python\n",
    "import math\n",
    "import os\n",
    "import io\n",
    "import collections\n",
    "import numpy as np\n",
    "import pandas as pd\n",
    "import xlsxwriter\n",
    "\n",
    "# https://volderette.de/jupyter-notebook-tip-multiple-outputs/\n",
    "from IPython.core.interactiveshell import InteractiveShell\n",
    "InteractiveShell.ast_node_interactivity = \"all\"\n"
   ]
  },
  {
   "cell_type": "markdown",
   "metadata": {},
   "source": [
    "## User parameters"
   ]
  },
  {
   "cell_type": "code",
   "execution_count": 10,
   "metadata": {},
   "outputs": [
    {
     "name": "stdout",
     "output_type": "stream",
     "text": [
      "C:\\Users\\L.GonzalezMorales\\Documents\\GitHub\\FIS4SDGs\\unsd\\notebooks\n",
      "Main dir: ../\n"
     ]
    }
   ],
   "source": [
    "release = '2019.Q1.G.02' # Make sure to have the correct release here\n",
    "\n",
    "dir_path = os.path.dirname(os.path.realpath('__file__'))\n",
    "print(dir_path)\n",
    "\n",
    "wd_dir = r'../'\n",
    "print('Main dir: ' + wd_dir)"
   ]
  },
  {
   "cell_type": "markdown",
   "metadata": {},
   "source": [
    "## Utilities"
   ]
  },
  {
   "cell_type": "markdown",
   "metadata": {},
   "source": [
    "#### Convert string to camelCase"
   ]
  },
  {
   "cell_type": "code",
   "execution_count": 11,
   "metadata": {},
   "outputs": [],
   "source": [
    "def camelCase(st):\n",
    "    \"\"\"\n",
    "    https://stackoverflow.com/questions/8347048/camelcase-every-string-any-standard-library\n",
    "    \n",
    "    \"\"\"\n",
    "    output = ''.join(x for x in st.title() if x.isalnum())\n",
    "    return output[0].lower() + output[1:]"
   ]
  },
  {
   "cell_type": "markdown",
   "metadata": {},
   "source": [
    "## Create `JSON` with metadata on each long data table"
   ]
  },
  {
   "cell_type": "code",
   "execution_count": 14,
   "metadata": {},
   "outputs": [
    {
     "data": {
      "text/plain": [
       "['Data_1.1.1_SI_POV_DAY1.xlsx',\n",
       " 'Data_1.1.1_SI_POV_EMP1.xlsx',\n",
       " 'Data_1.2.1_SI_POV_NAHC.xlsx',\n",
       " 'Data_1.3.1_SI_COV_BENFTS.xlsx',\n",
       " 'Data_1.3.1_SI_COV_CHLD.xlsx',\n",
       " 'Data_1.3.1_SI_COV_DISAB.xlsx',\n",
       " 'Data_1.3.1_SI_COV_LMKT.xlsx',\n",
       " 'Data_1.3.1_SI_COV_LMKTPQ.xlsx',\n",
       " 'Data_1.3.1_SI_COV_MATNL.xlsx',\n",
       " 'Data_1.3.1_SI_COV_PENSN.xlsx']"
      ]
     },
     "execution_count": 14,
     "metadata": {},
     "output_type": "execute_result"
    }
   ],
   "source": [
    "path = wd_dir + r'data/' + release + '/' \n",
    "files = os.listdir(path)\n",
    "files[0:10]"
   ]
  },
  {
   "cell_type": "code",
   "execution_count": 158,
   "metadata": {},
   "outputs": [
    {
     "ename": "NameError",
     "evalue": "name 'NaN' is not defined",
     "output_type": "error",
     "traceback": [
      "\u001b[1;31m---------------------------------------------------------------------------\u001b[0m",
      "\u001b[1;31mNameError\u001b[0m                                 Traceback (most recent call last)",
      "\u001b[1;32m<ipython-input-158-d684017fc90e>\u001b[0m in \u001b[0;36masync-def-wrapper\u001b[1;34m()\u001b[0m\n\u001b[0;32m     29\u001b[0m             \u001b[0mprint\u001b[0m\u001b[1;33m(\u001b[0m\u001b[0mv\u001b[0m\u001b[1;33m)\u001b[0m\u001b[1;33m\u001b[0m\u001b[1;33m\u001b[0m\u001b[0m\n\u001b[0;32m     30\u001b[0m \u001b[1;33m\u001b[0m\u001b[0m\n\u001b[1;32m---> 31\u001b[1;33m     \u001b[1;31m#geo = x.loc[np.isnan(x.value) == False,['geoAreaCode', 'geoAreaName','type']].drop_duplicates()\u001b[0m\u001b[1;33m\u001b[0m\u001b[1;33m\u001b[0m\u001b[1;33m\u001b[0m\u001b[0m\n\u001b[0m",
      "\u001b[1;31mNameError\u001b[0m: name 'NaN' is not defined"
     ]
    }
   ],
   "source": [
    "#for f in files:\n",
    "    f = 'Data_1.5.2_VC_DSR_LSGP.xlsx'\n",
    "    #counter_f = counter_f + 1\n",
    "    \n",
    "    xlsx = pd.ExcelFile(path + f)\n",
    "    x = pd.read_excel(xlsx, 'Sheet1')\n",
    "    \n",
    "    dict = {}\n",
    "    \n",
    "    dict['fileName'] = f\n",
    "\n",
    "    #----------------------------------------\n",
    "    series_metadata = ['goalCode', 'goalDesc', 'targetCode', 'targetDesc', 'indicatorCode',\n",
    "                  'indicatorDesc', 'indicatorTier', 'seriesCode', 'seriesDesc', 'seriesRelease']\n",
    "    \n",
    "    for i in series_metadata:\n",
    "        dict[i] = x[i][0]\n",
    "        \n",
    "    #----------------------------------------\n",
    "    \n",
    "    time_coverage = list(pd.unique(x['timePeriod']))\n",
    "    time_coverage.sort()\n",
    "    dict['time_coverage'] = time_coverage\n",
    "\n",
    "    #----------------------------------------\n",
    "    geo_dict = {}\n",
    "    geo = x.loc[np.isnan(x.value) == False,['geoAreaCode', 'geoAreaName','type']].drop_duplicates()\n",
    "\n",
    "    \n",
    "    groups = list(geo['geoAreaCode'][geo.type == 'Group'])\n",
    "    regions = list(geo['geoAreaCode'][geo.type == 'Region'])\n",
    "    countries = list(geo['geoAreaCode'][geo.type == 'Country'])\n",
    "\n",
    "    groups.sort()\n",
    "    regions.sort()\n",
    "    countries.sort()\n",
    "\n",
    "    geo_dict['groups'] = groups\n",
    "    geo_dict['regions'] = regions\n",
    "    geo_dict['countries'] = countries\n",
    "\n",
    "    dict['geoArea_coverage'] = geo_dict\n",
    "\n",
    "    # --------------------------------------------\n",
    "    \n",
    "    disaggregations = np.setdiff1d(x.columns,['goalCode', 'goalDesc', \n",
    "                                              'targetCode', 'targetDesc', \n",
    "                                              'indicatorCode','indicatorDesc', 'indicatorTier', \n",
    "                                              'seriesRelease', \n",
    "                                              'timePeriod', \n",
    "                                              'geoAreaCode', 'geoAreaName','level', 'parentCode', 'parentName', 'type', 'CountryProfile', 'ISO3CD','UNMember', 'X', 'Y', \n",
    "                                              'value', 'valueType', \n",
    "                                              'timeDetail', 'source','footnotes', 'natureCode', 'unitsCode', 'natureDesc', 'unitsDesc'])\n",
    "\n",
    "\n",
    "    d = []\n",
    "    for i in disaggregations:\n",
    "        d.append(i[0:len(i)-4]+ 'Code')\n",
    "\n",
    "    disaggregations = list(set(d))\n",
    "\n",
    "    slices_df = x.loc[np.isnan(x.value) == False, disaggregations].drop_duplicates()\n",
    "    \n",
    "    slices = []\n",
    "\n",
    "    for s in range(len(slices_df.index)):\n",
    "        temp_dict = {}\n",
    "        temp_dict['sliceId'] = s\n",
    "        temp_dict['sliceValues'] = {}\n",
    "        for d in disaggregations:\n",
    "            temp_dict['sliceValues'][d] = slices_df[d].iloc[s]\n",
    "\n",
    "        slices.append(temp_dict)\n",
    "\n",
    "    dict['slices'] = slices\n",
    "    \n",
    "    file_metadata.append(dict)\n",
    "    \n",
    "    print(\"creating metadata entry for file \" + f + \" (\" + str(counter_f) + \" of \" + str(len(files)) + \")\")\n",
    "\n"
   ]
  },
  {
   "cell_type": "code",
   "execution_count": null,
   "metadata": {},
   "outputs": [],
   "source": [
    "\n",
    "    "
   ]
  }
 ],
 "metadata": {
  "kernelspec": {
   "display_name": "Python 3",
   "language": "python",
   "name": "python3"
  },
  "language_info": {
   "codemirror_mode": {
    "name": "ipython",
    "version": 3
   },
   "file_extension": ".py",
   "mimetype": "text/x-python",
   "name": "python",
   "nbconvert_exporter": "python",
   "pygments_lexer": "ipython3",
   "version": "3.6.8"
  }
 },
 "nbformat": 4,
 "nbformat_minor": 2
}
