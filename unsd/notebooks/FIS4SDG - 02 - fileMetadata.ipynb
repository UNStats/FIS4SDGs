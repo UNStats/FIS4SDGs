{
 "cells": [
  {
   "cell_type": "markdown",
   "metadata": {},
   "source": [
    "# Create the metadata describing each data file"
   ]
  },
  {
   "cell_type": "markdown",
   "metadata": {},
   "source": [
    "## Load necessary libraries"
   ]
  },
  {
   "cell_type": "code",
   "execution_count": null,
   "metadata": {},
   "outputs": [],
   "source": [
    "import csv\n",
    "import json\n",
    "import urllib3  # allows to access a URL with python\n",
    "import math\n",
    "import os\n",
    "import io\n",
    "import collections\n",
    "import copy\n",
    "import re\n",
    "import numpy as np\n",
    "import pandas as pd\n",
    "import xlsxwriter\n",
    "\n",
    "# https://volderette.de/jupyter-notebook-tip-multiple-outputs/\n",
    "from IPython.core.interactiveshell import InteractiveShell\n",
    "InteractiveShell.ast_node_interactivity = \"all\"\n"
   ]
  },
  {
   "cell_type": "markdown",
   "metadata": {},
   "source": [
    "## User parameters"
   ]
  },
  {
   "cell_type": "code",
   "execution_count": null,
   "metadata": {},
   "outputs": [],
   "source": [
    "release = '2019.Q1.G.02' # Make sure to have the correct release here\n",
    "\n",
    "dir_path = os.path.dirname(os.path.realpath('__file__'))\n",
    "print(\"Path: \" + dir_path)\n",
    "\n",
    "wd_dir = r'../'\n",
    "print('Main dir: ' + wd_dir)"
   ]
  },
  {
   "cell_type": "markdown",
   "metadata": {},
   "source": [
    "## Utilities"
   ]
  },
  {
   "cell_type": "markdown",
   "metadata": {},
   "source": [
    "#### Convert string to camelCase"
   ]
  },
  {
   "cell_type": "code",
   "execution_count": null,
   "metadata": {},
   "outputs": [],
   "source": [
    "def camelCase(st):\n",
    "    \"\"\"\n",
    "    https://stackoverflow.com/questions/8347048/camelcase-every-string-any-standard-library\n",
    "    \n",
    "    \"\"\"\n",
    "    output = ''.join(x for x in st.title() if x.isalnum())\n",
    "    return output[0].lower() + output[1:]"
   ]
  },
  {
   "cell_type": "markdown",
   "metadata": {},
   "source": [
    "## Create `JSON` file with the metadata for each long data table"
   ]
  },
  {
   "cell_type": "markdown",
   "metadata": {},
   "source": [
    "### Read list of excel files with data for each series"
   ]
  },
  {
   "cell_type": "code",
   "execution_count": null,
   "metadata": {},
   "outputs": [],
   "source": [
    "path = wd_dir + r'data/' + release + '/' \n",
    "print(\"path: \" + path)\n",
    "files = os.listdir(path)\n",
    "files[0:10]"
   ]
  },
  {
   "cell_type": "markdown",
   "metadata": {},
   "source": [
    "### For a selected file:"
   ]
  },
  {
   "cell_type": "markdown",
   "metadata": {},
   "source": [
    "#### 1)  Convert content of data file into a pandas DataFrame"
   ]
  },
  {
   "cell_type": "code",
   "execution_count": null,
   "metadata": {},
   "outputs": [],
   "source": [
    "f = 'Data_1.5.2_VC_DSR_LSGP.xlsx'\n",
    "\n",
    "xlsx = pd.ExcelFile(path + f)\n",
    "x = pd.read_excel(xlsx, 'Sheet1')\n",
    "x.shape\n",
    "x.columns\n",
    "x.head(3)\n",
    "\n",
    "\n"
   ]
  },
  {
   "cell_type": "markdown",
   "metadata": {},
   "source": [
    "#### 2) Keep only rows with non-null value:"
   ]
  },
  {
   "cell_type": "code",
   "execution_count": null,
   "metadata": {},
   "outputs": [],
   "source": [
    "x = x[x.value.notnull()]\n",
    "x = x.reset_index(drop=True)\n",
    "\n",
    "for c in x.columns:\n",
    "    x[c] = x[c].astype(str)\n",
    "    #x[c].replace({r'[^\\x00-\\x7F]+':''}, regex=True, inplace=True)\n",
    "\n",
    "x.shape\n",
    "x.columns\n",
    "x.head(3)\n"
   ]
  },
  {
   "cell_type": "markdown",
   "metadata": {},
   "source": [
    "#### Identify country names with non-ascii characters"
   ]
  },
  {
   "cell_type": "code",
   "execution_count": null,
   "metadata": {},
   "outputs": [],
   "source": [
    "f = 'Data_1.5.2_VC_DSR_LSGP.xlsx'\n",
    "\n",
    "xlsx = pd.ExcelFile(path + f)\n",
    "x = pd.read_excel(xlsx, 'Sheet1')\n",
    "\n",
    "non_ascii_list = []\n",
    "\n",
    "for c in x['geoAreaName']:\n",
    "    hasNonASCII = re.search(r'[^\\x00-\\x7F]+', c)\n",
    "    if hasNonASCII:\n",
    "        non_ascii_list.append(c)\n",
    "\n",
    "non_ascii_list = set(non_ascii_list)\n",
    "non_ascii_list\n"
   ]
  },
  {
   "cell_type": "markdown",
   "metadata": {},
   "source": [
    "#### Read 'long' excel file, remove null values, and convert all columns to string type"
   ]
  },
  {
   "cell_type": "code",
   "execution_count": null,
   "metadata": {},
   "outputs": [],
   "source": [
    "def read_excel_file(path,fileName):\n",
    "    xlsx = pd.ExcelFile(path + fileName)\n",
    "    x = pd.read_excel(xlsx, 'Sheet1')\n",
    "    x = x[x.value.notnull()]\n",
    "    x = x.reset_index(drop=True)\n",
    "    \n",
    "    for c in x.columns:\n",
    "        x[c] = x[c].astype(str)\n",
    "       # x[c].replace({r'[^\\x00-\\x7F]+':''}, regex=True, inplace=True)\n",
    "\n",
    "    return x"
   ]
  },
  {
   "cell_type": "markdown",
   "metadata": {},
   "source": [
    "#### Add series metadata from file `x` into an existing `dict`"
   ]
  },
  {
   "cell_type": "code",
   "execution_count": null,
   "metadata": {},
   "outputs": [],
   "source": [
    "def add_series_metadata(dict,x):\n",
    "    series_metadata = ['goalCode', 'goalDesc', 'targetCode', 'targetDesc', 'indicatorCode',\n",
    "                  'indicatorDesc', 'indicatorTier', 'seriesCode', 'seriesDesc', 'seriesRelease']\n",
    "\n",
    "    for i in series_metadata:\n",
    "        dict[i] = x[i][0]\n",
    "    return dict\n",
    "\n",
    "    "
   ]
  },
  {
   "cell_type": "markdown",
   "metadata": {},
   "source": [
    "#### Add time-coverage metadata from file `x` into an existing `dict`"
   ]
  },
  {
   "cell_type": "code",
   "execution_count": null,
   "metadata": {},
   "outputs": [],
   "source": [
    "def add_time_coverage_metadata(dict,x):\n",
    "    time_coverage = list(pd.unique(x['timePeriod']))\n",
    "    time_coverage.sort()\n",
    "    dict['time_coverage'] = time_coverage\n",
    "    return dict"
   ]
  },
  {
   "cell_type": "markdown",
   "metadata": {},
   "source": [
    "#### Add geographic coverage for groups, regions and countries from file `x` into an existing `dict`"
   ]
  },
  {
   "cell_type": "code",
   "execution_count": null,
   "metadata": {},
   "outputs": [],
   "source": [
    "def add_geo_coverage(dict,x):\n",
    "    \n",
    "    geo = x[['geoAreaCode', 'geoAreaName','type']].drop_duplicates()\n",
    "\n",
    "    groups = geo[['geoAreaCode', 'geoAreaName']][geo.type == 'Group']\n",
    "    regions = geo[['geoAreaCode', 'geoAreaName']][geo.type == 'Region']\n",
    "    countries = geo[['geoAreaCode', 'geoAreaName']][geo.type == 'Country']\n",
    "\n",
    "    dict['geo_coverage_groups'] = groups.to_dict('records')\n",
    "    dict['geo_coverage_regions'] = regions.to_dict('records')\n",
    "    dict['geo_coverage_countries'] = countries.to_dict('records')\n",
    "\n",
    "    return dict\n"
   ]
  },
  {
   "cell_type": "markdown",
   "metadata": {},
   "source": [
    "#### Add list of data-cube slices included in file `x` to an existing `dict`"
   ]
  },
  {
   "cell_type": "code",
   "execution_count": null,
   "metadata": {},
   "outputs": [],
   "source": [
    "def add_slices_metadata(dict,x):\n",
    "\n",
    "    disaggregations = np.setdiff1d(x.columns,['goalCode', 'goalDesc', \n",
    "                                              'targetCode', 'targetDesc', \n",
    "                                              'indicatorCode','indicatorDesc', 'indicatorTier', \n",
    "                                              'seriesRelease', \n",
    "                                              'timePeriod', \n",
    "                                              'geoAreaCode', 'geoAreaName','level', 'parentCode', 'parentName', 'type', 'CountryProfile', 'ISO3CD','UNMember', 'X', 'Y', \n",
    "                                              'value', 'valueType', \n",
    "                                              'timeDetail', 'source','footnotes', 'natureCode', 'unitsCode', 'natureDesc', 'unitsDesc'])\n",
    "\n",
    "    disaggregations = list(disaggregations)\n",
    "    disaggregations_new = copy.deepcopy(disaggregations)\n",
    "\n",
    "    for i in range(len(disaggregations)):\n",
    "        d = disaggregations[i] \n",
    "        if d[-4:] == 'Desc':\n",
    "            disaggregations_new.remove(d)\n",
    "\n",
    "    slices = x[disaggregations_new].drop_duplicates()\n",
    "    slices = slices.reset_index(drop=True)\n",
    "\n",
    "    dict['slices'] = slices.to_dict('records')\n",
    "\n",
    "    return dict\n",
    "\n",
    "\n",
    "    "
   ]
  },
  {
   "cell_type": "markdown",
   "metadata": {},
   "source": [
    "#### Create metadata dictionary for a specific data file"
   ]
  },
  {
   "cell_type": "code",
   "execution_count": null,
   "metadata": {},
   "outputs": [],
   "source": [
    "def file_metadata(path, fileName):\n",
    "    \n",
    "    x = read_excel_file(path,fileName)\n",
    "   \n",
    "    dict = {}\n",
    "    dict['fileName'] = fileName\n",
    "    dict = add_series_metadata(dict,x)\n",
    "    dict = add_slices_metadata(dict,x)\n",
    "    dict = add_time_coverage_metadata(dict,x)\n",
    "    dict = add_geo_coverage(dict,x)    \n",
    "    return dict\n",
    "\n",
    "\n",
    "    "
   ]
  },
  {
   "cell_type": "code",
   "execution_count": null,
   "metadata": {},
   "outputs": [],
   "source": [
    "file_metadata( path , 'Data_1.5.2_VC_DSR_LSGP.xlsx')"
   ]
  },
  {
   "cell_type": "markdown",
   "metadata": {},
   "source": [
    "#### Create object with file_metadata for all files"
   ]
  },
  {
   "cell_type": "code",
   "execution_count": null,
   "metadata": {},
   "outputs": [],
   "source": [
    "file_metadata_set = []\n",
    "counter_f = 0\n",
    "\n",
    "for f in files:\n",
    "    counter_f = counter_f + 1\n",
    "    print(\"creating metadata entry for file \" + f + \" (\" + str(counter_f) + \" of \" + str(len(files)) + \")\")\n",
    "    file_metadata_set.append(file_metadata( path , f))\n",
    "    \n",
    "    with open (wd_dir + 'data/metadta_'+f+'.json', 'w') as file:\n",
    "        json.dump(file_metadata( path , f), file, indent=4)\n",
    "\n",
    "with open(wd_dir + 'data/file_metadata.json', 'w') as file:\n",
    "    json.dump(file_metadata_set,file,indent=4)\n"
   ]
  },
  {
   "cell_type": "code",
   "execution_count": null,
   "metadata": {},
   "outputs": [],
   "source": [
    "len(file_metadata_set)\n",
    "file_metadata_set[428]"
   ]
  },
  {
   "cell_type": "code",
   "execution_count": null,
   "metadata": {},
   "outputs": [],
   "source": []
  },
  {
   "cell_type": "code",
   "execution_count": null,
   "metadata": {},
   "outputs": [],
   "source": []
  }
 ],
 "metadata": {
  "kernelspec": {
   "display_name": "Python 3",
   "language": "python",
   "name": "python3"
  },
  "language_info": {
   "codemirror_mode": {
    "name": "ipython",
    "version": 3
   },
   "file_extension": ".py",
   "mimetype": "text/x-python",
   "name": "python",
   "nbconvert_exporter": "python",
   "pygments_lexer": "ipython3",
   "version": "3.6.8"
  }
 },
 "nbformat": 4,
 "nbformat_minor": 2
}
