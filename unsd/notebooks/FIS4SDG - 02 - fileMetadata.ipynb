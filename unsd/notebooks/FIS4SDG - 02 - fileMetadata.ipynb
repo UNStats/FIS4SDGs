{
 "cells": [
  {
   "cell_type": "markdown",
   "metadata": {},
   "source": [
    "# Pivoting script\n",
    "This script pivots into \"wide\" format and split regional and country data "
   ]
  },
  {
   "cell_type": "markdown",
   "metadata": {},
   "source": [
    "## Load necessary libraries"
   ]
  },
  {
   "cell_type": "code",
   "execution_count": 9,
   "metadata": {},
   "outputs": [],
   "source": [
    "import csv\n",
    "import json\n",
    "import urllib3  # allows to access a URL with python\n",
    "import math\n",
    "import os\n",
    "import io\n",
    "import collections\n",
    "import numpy as np\n",
    "import pandas as pd\n",
    "import xlsxwriter\n",
    "\n",
    "# https://volderette.de/jupyter-notebook-tip-multiple-outputs/\n",
    "from IPython.core.interactiveshell import InteractiveShell\n",
    "InteractiveShell.ast_node_interactivity = \"all\"\n"
   ]
  },
  {
   "cell_type": "markdown",
   "metadata": {},
   "source": [
    "## User parameters"
   ]
  },
  {
   "cell_type": "code",
   "execution_count": 10,
   "metadata": {},
   "outputs": [
    {
     "name": "stdout",
     "output_type": "stream",
     "text": [
      "C:\\Users\\L.GonzalezMorales\\Documents\\GitHub\\FIS4SDGs\\unsd\\notebooks\n",
      "Main dir: ../\n"
     ]
    }
   ],
   "source": [
    "release = '2019.Q1.G.02' # Make sure to have the correct release here\n",
    "\n",
    "dir_path = os.path.dirname(os.path.realpath('__file__'))\n",
    "print(dir_path)\n",
    "\n",
    "wd_dir = r'../'\n",
    "print('Main dir: ' + wd_dir)"
   ]
  },
  {
   "cell_type": "markdown",
   "metadata": {},
   "source": [
    "## Utilities"
   ]
  },
  {
   "cell_type": "markdown",
   "metadata": {},
   "source": [
    "#### Convert string to camelCase"
   ]
  },
  {
   "cell_type": "code",
   "execution_count": 11,
   "metadata": {},
   "outputs": [],
   "source": [
    "def camelCase(st):\n",
    "    \"\"\"\n",
    "    https://stackoverflow.com/questions/8347048/camelcase-every-string-any-standard-library\n",
    "    \n",
    "    \"\"\"\n",
    "    output = ''.join(x for x in st.title() if x.isalnum())\n",
    "    return output[0].lower() + output[1:]"
   ]
  },
  {
   "cell_type": "markdown",
   "metadata": {},
   "source": [
    "## Create `JSON` with metadata on each long data table"
   ]
  },
  {
   "cell_type": "code",
   "execution_count": 14,
   "metadata": {},
   "outputs": [
    {
     "data": {
      "text/plain": [
       "['Data_1.1.1_SI_POV_DAY1.xlsx',\n",
       " 'Data_1.1.1_SI_POV_EMP1.xlsx',\n",
       " 'Data_1.2.1_SI_POV_NAHC.xlsx',\n",
       " 'Data_1.3.1_SI_COV_BENFTS.xlsx',\n",
       " 'Data_1.3.1_SI_COV_CHLD.xlsx',\n",
       " 'Data_1.3.1_SI_COV_DISAB.xlsx',\n",
       " 'Data_1.3.1_SI_COV_LMKT.xlsx',\n",
       " 'Data_1.3.1_SI_COV_LMKTPQ.xlsx',\n",
       " 'Data_1.3.1_SI_COV_MATNL.xlsx',\n",
       " 'Data_1.3.1_SI_COV_PENSN.xlsx']"
      ]
     },
     "execution_count": 14,
     "metadata": {},
     "output_type": "execute_result"
    }
   ],
   "source": [
    "path = wd_dir + r'data/' + release + '/' \n",
    "files = os.listdir(path)\n",
    "files[0:10]"
   ]
  },
  {
   "cell_type": "code",
   "execution_count": 15,
   "metadata": {},
   "outputs": [],
   "source": [
    "xlsx = pd.ExcelFile(path + files[0])"
   ]
  },
  {
   "cell_type": "code",
   "execution_count": 24,
   "metadata": {},
   "outputs": [
    {
     "data": {
      "text/html": [
       "<div>\n",
       "<style scoped>\n",
       "    .dataframe tbody tr th:only-of-type {\n",
       "        vertical-align: middle;\n",
       "    }\n",
       "\n",
       "    .dataframe tbody tr th {\n",
       "        vertical-align: top;\n",
       "    }\n",
       "\n",
       "    .dataframe thead th {\n",
       "        text-align: right;\n",
       "    }\n",
       "</style>\n",
       "<table border=\"1\" class=\"dataframe\">\n",
       "  <thead>\n",
       "    <tr style=\"text-align: right;\">\n",
       "      <th></th>\n",
       "      <th>goalCode</th>\n",
       "      <th>goalDesc</th>\n",
       "      <th>targetCode</th>\n",
       "      <th>targetDesc</th>\n",
       "      <th>indicatorCode</th>\n",
       "      <th>indicatorDesc</th>\n",
       "      <th>indicatorTier</th>\n",
       "      <th>seriesCode</th>\n",
       "      <th>seriesDesc</th>\n",
       "      <th>seriesRelease</th>\n",
       "      <th>...</th>\n",
       "      <th>valueType</th>\n",
       "      <th>timeDetail</th>\n",
       "      <th>source</th>\n",
       "      <th>footnotes</th>\n",
       "      <th>natureCode</th>\n",
       "      <th>unitsCode</th>\n",
       "      <th>reportingTypeCode</th>\n",
       "      <th>natureDesc</th>\n",
       "      <th>unitsDesc</th>\n",
       "      <th>reportingTypeDesc</th>\n",
       "    </tr>\n",
       "  </thead>\n",
       "  <tbody>\n",
       "    <tr>\n",
       "      <th>0</th>\n",
       "      <td>1</td>\n",
       "      <td>End poverty in all its forms everywhere</td>\n",
       "      <td>1.1</td>\n",
       "      <td>By 2030, eradicate extreme poverty for all peo...</td>\n",
       "      <td>1.1.1</td>\n",
       "      <td>Proportion of population below the internation...</td>\n",
       "      <td>1</td>\n",
       "      <td>SI_POV_DAY1</td>\n",
       "      <td>Proportion of population below international p...</td>\n",
       "      <td>2019.Q1.G.02</td>\n",
       "      <td>...</td>\n",
       "      <td>Float</td>\n",
       "      <td>NaN</td>\n",
       "      <td>World Bank, Development Research Group. Data a...</td>\n",
       "      <td>World aggregate.</td>\n",
       "      <td>G</td>\n",
       "      <td>PERCENT</td>\n",
       "      <td>G</td>\n",
       "      <td>Global monitoring data</td>\n",
       "      <td>Percentage</td>\n",
       "      <td>Global</td>\n",
       "    </tr>\n",
       "    <tr>\n",
       "      <th>1</th>\n",
       "      <td>1</td>\n",
       "      <td>End poverty in all its forms everywhere</td>\n",
       "      <td>1.1</td>\n",
       "      <td>By 2030, eradicate extreme poverty for all peo...</td>\n",
       "      <td>1.1.1</td>\n",
       "      <td>Proportion of population below the internation...</td>\n",
       "      <td>1</td>\n",
       "      <td>SI_POV_DAY1</td>\n",
       "      <td>Proportion of population below international p...</td>\n",
       "      <td>2019.Q1.G.02</td>\n",
       "      <td>...</td>\n",
       "      <td>NaN</td>\n",
       "      <td>NaN</td>\n",
       "      <td>NaN</td>\n",
       "      <td>NaN</td>\n",
       "      <td>NaN</td>\n",
       "      <td>NaN</td>\n",
       "      <td>NaN</td>\n",
       "      <td>NaN</td>\n",
       "      <td>NaN</td>\n",
       "      <td>NaN</td>\n",
       "    </tr>\n",
       "    <tr>\n",
       "      <th>2</th>\n",
       "      <td>1</td>\n",
       "      <td>End poverty in all its forms everywhere</td>\n",
       "      <td>1.1</td>\n",
       "      <td>By 2030, eradicate extreme poverty for all peo...</td>\n",
       "      <td>1.1.1</td>\n",
       "      <td>Proportion of population below the internation...</td>\n",
       "      <td>1</td>\n",
       "      <td>SI_POV_DAY1</td>\n",
       "      <td>Proportion of population below international p...</td>\n",
       "      <td>2019.Q1.G.02</td>\n",
       "      <td>...</td>\n",
       "      <td>NaN</td>\n",
       "      <td>NaN</td>\n",
       "      <td>NaN</td>\n",
       "      <td>NaN</td>\n",
       "      <td>NaN</td>\n",
       "      <td>NaN</td>\n",
       "      <td>NaN</td>\n",
       "      <td>NaN</td>\n",
       "      <td>NaN</td>\n",
       "      <td>NaN</td>\n",
       "    </tr>\n",
       "    <tr>\n",
       "      <th>3</th>\n",
       "      <td>1</td>\n",
       "      <td>End poverty in all its forms everywhere</td>\n",
       "      <td>1.1</td>\n",
       "      <td>By 2030, eradicate extreme poverty for all peo...</td>\n",
       "      <td>1.1.1</td>\n",
       "      <td>Proportion of population below the internation...</td>\n",
       "      <td>1</td>\n",
       "      <td>SI_POV_DAY1</td>\n",
       "      <td>Proportion of population below international p...</td>\n",
       "      <td>2019.Q1.G.02</td>\n",
       "      <td>...</td>\n",
       "      <td>NaN</td>\n",
       "      <td>NaN</td>\n",
       "      <td>NaN</td>\n",
       "      <td>NaN</td>\n",
       "      <td>NaN</td>\n",
       "      <td>NaN</td>\n",
       "      <td>NaN</td>\n",
       "      <td>NaN</td>\n",
       "      <td>NaN</td>\n",
       "      <td>NaN</td>\n",
       "    </tr>\n",
       "    <tr>\n",
       "      <th>4</th>\n",
       "      <td>1</td>\n",
       "      <td>End poverty in all its forms everywhere</td>\n",
       "      <td>1.1</td>\n",
       "      <td>By 2030, eradicate extreme poverty for all peo...</td>\n",
       "      <td>1.1.1</td>\n",
       "      <td>Proportion of population below the internation...</td>\n",
       "      <td>1</td>\n",
       "      <td>SI_POV_DAY1</td>\n",
       "      <td>Proportion of population below international p...</td>\n",
       "      <td>2019.Q1.G.02</td>\n",
       "      <td>...</td>\n",
       "      <td>Float</td>\n",
       "      <td>NaN</td>\n",
       "      <td>World Bank, Development Research Group. Data a...</td>\n",
       "      <td>NaN</td>\n",
       "      <td>G</td>\n",
       "      <td>PERCENT</td>\n",
       "      <td>G</td>\n",
       "      <td>Global monitoring data</td>\n",
       "      <td>Percentage</td>\n",
       "      <td>Global</td>\n",
       "    </tr>\n",
       "  </tbody>\n",
       "</table>\n",
       "<p>5 rows × 33 columns</p>\n",
       "</div>"
      ],
      "text/plain": [
       "   goalCode                                 goalDesc  targetCode  \\\n",
       "0         1  End poverty in all its forms everywhere         1.1   \n",
       "1         1  End poverty in all its forms everywhere         1.1   \n",
       "2         1  End poverty in all its forms everywhere         1.1   \n",
       "3         1  End poverty in all its forms everywhere         1.1   \n",
       "4         1  End poverty in all its forms everywhere         1.1   \n",
       "\n",
       "                                          targetDesc indicatorCode  \\\n",
       "0  By 2030, eradicate extreme poverty for all peo...         1.1.1   \n",
       "1  By 2030, eradicate extreme poverty for all peo...         1.1.1   \n",
       "2  By 2030, eradicate extreme poverty for all peo...         1.1.1   \n",
       "3  By 2030, eradicate extreme poverty for all peo...         1.1.1   \n",
       "4  By 2030, eradicate extreme poverty for all peo...         1.1.1   \n",
       "\n",
       "                                       indicatorDesc  indicatorTier  \\\n",
       "0  Proportion of population below the internation...              1   \n",
       "1  Proportion of population below the internation...              1   \n",
       "2  Proportion of population below the internation...              1   \n",
       "3  Proportion of population below the internation...              1   \n",
       "4  Proportion of population below the internation...              1   \n",
       "\n",
       "    seriesCode                                         seriesDesc  \\\n",
       "0  SI_POV_DAY1  Proportion of population below international p...   \n",
       "1  SI_POV_DAY1  Proportion of population below international p...   \n",
       "2  SI_POV_DAY1  Proportion of population below international p...   \n",
       "3  SI_POV_DAY1  Proportion of population below international p...   \n",
       "4  SI_POV_DAY1  Proportion of population below international p...   \n",
       "\n",
       "  seriesRelease  ...  valueType  timeDetail  \\\n",
       "0  2019.Q1.G.02  ...      Float         NaN   \n",
       "1  2019.Q1.G.02  ...        NaN         NaN   \n",
       "2  2019.Q1.G.02  ...        NaN         NaN   \n",
       "3  2019.Q1.G.02  ...        NaN         NaN   \n",
       "4  2019.Q1.G.02  ...      Float         NaN   \n",
       "\n",
       "                                              source         footnotes  \\\n",
       "0  World Bank, Development Research Group. Data a...  World aggregate.   \n",
       "1                                                NaN               NaN   \n",
       "2                                                NaN               NaN   \n",
       "3                                                NaN               NaN   \n",
       "4  World Bank, Development Research Group. Data a...               NaN   \n",
       "\n",
       "   natureCode unitsCode reportingTypeCode              natureDesc   unitsDesc  \\\n",
       "0           G   PERCENT                 G  Global monitoring data  Percentage   \n",
       "1         NaN       NaN               NaN                     NaN         NaN   \n",
       "2         NaN       NaN               NaN                     NaN         NaN   \n",
       "3         NaN       NaN               NaN                     NaN         NaN   \n",
       "4           G   PERCENT                 G  Global monitoring data  Percentage   \n",
       "\n",
       "   reportingTypeDesc  \n",
       "0             Global  \n",
       "1                NaN  \n",
       "2                NaN  \n",
       "3                NaN  \n",
       "4             Global  \n",
       "\n",
       "[5 rows x 33 columns]"
      ]
     },
     "execution_count": 24,
     "metadata": {},
     "output_type": "execute_result"
    },
    {
     "data": {
      "text/plain": [
       "Index(['goalCode', 'goalDesc', 'targetCode', 'targetDesc', 'indicatorCode',\n",
       "       'indicatorDesc', 'indicatorTier', 'seriesCode', 'seriesDesc',\n",
       "       'seriesRelease', 'timePeriod', 'geoAreaCode', 'geoAreaName', 'level',\n",
       "       'parentCode', 'parentName', 'type', 'CountryProfile', 'ISO3CD',\n",
       "       'UNMember', 'X', 'Y', 'value', 'valueType', 'timeDetail', 'source',\n",
       "       'footnotes', 'natureCode', 'unitsCode', 'reportingTypeCode',\n",
       "       'natureDesc', 'unitsDesc', 'reportingTypeDesc'],\n",
       "      dtype='object')"
      ]
     },
     "execution_count": 24,
     "metadata": {},
     "output_type": "execute_result"
    }
   ],
   "source": [
    "x = pd.read_excel(xlsx, 'Sheet1')\n",
    "x.head()\n",
    "x.columns"
   ]
  },
  {
   "cell_type": "markdown",
   "metadata": {},
   "source": [
    "A column in a DataFrame can be retrieved as a Series either by dict-like notation or by attribute:"
   ]
  },
  {
   "cell_type": "code",
   "execution_count": 40,
   "metadata": {},
   "outputs": [
    {
     "data": {
      "text/plain": [
       "{'goalCode': 1,\n",
       " 'goalDesc': 'End poverty in all its forms everywhere',\n",
       " 'targetCode': 1.1,\n",
       " 'targetDesc': 'By 2030, eradicate extreme poverty for all people everywhere, currently measured as people living on less than $1.25 a day',\n",
       " 'indicatorCode': '1.1.1',\n",
       " 'indicatorDesc': 'Proportion of population below the international poverty line, by sex, age, employment status and geographical location (urban/rural)',\n",
       " 'indicatorTier': 1,\n",
       " 'seriesCode': 'SI_POV_DAY1',\n",
       " 'seriesDesc': 'Proportion of population below international poverty line (%)',\n",
       " 'seriesRelease': '2019.Q1.G.02',\n",
       " 'time_coverage': [1990,\n",
       "  1991,\n",
       "  1992,\n",
       "  1993,\n",
       "  1994,\n",
       "  1995,\n",
       "  1996,\n",
       "  1997,\n",
       "  1998,\n",
       "  1999,\n",
       "  2000,\n",
       "  2001,\n",
       "  2002,\n",
       "  2003,\n",
       "  2004,\n",
       "  2005,\n",
       "  2006,\n",
       "  2007,\n",
       "  2008,\n",
       "  2009,\n",
       "  2010,\n",
       "  2011,\n",
       "  2012,\n",
       "  2013,\n",
       "  2014,\n",
       "  2015,\n",
       "  2016,\n",
       "  2017]}"
      ]
     },
     "execution_count": 40,
     "metadata": {},
     "output_type": "execute_result"
    }
   ],
   "source": [
    "dict = {}\n",
    "\n",
    "series_metadata = ['goalCode', 'goalDesc', 'targetCode', 'targetDesc', 'indicatorCode',\n",
    "              'indicatorDesc', 'indicatorTier', 'seriesCode', 'seriesDesc', 'seriesRelease']\n",
    "for i in series_metadata:\n",
    "    dict[i] = x[i][0]\n",
    "\n",
    "time_coverage = list(pd.unique(x['timePeriod']))\n",
    "time_coverage.sort()\n",
    "dict['time_coverage'] = time_coverage\n",
    "\n",
    "dict\n",
    "\n"
   ]
  },
  {
   "cell_type": "code",
   "execution_count": 27,
   "metadata": {},
   "outputs": [
    {
     "data": {
      "text/plain": [
       "array([1990, 1991, 1992, 1993, 1994, 1995, 1996, 1997, 1998, 1999, 2000,\n",
       "       2001, 2002, 2003, 2004, 2005, 2006, 2007, 2008, 2009, 2010, 2011,\n",
       "       2012, 2013, 2014, 2015, 2016, 2017], dtype=int64)"
      ]
     },
     "execution_count": 27,
     "metadata": {},
     "output_type": "execute_result"
    }
   ],
   "source": []
  },
  {
   "cell_type": "code",
   "execution_count": null,
   "metadata": {},
   "outputs": [],
   "source": []
  }
 ],
 "metadata": {
  "kernelspec": {
   "display_name": "Python 3",
   "language": "python",
   "name": "python3"
  },
  "language_info": {
   "codemirror_mode": {
    "name": "ipython",
    "version": 3
   },
   "file_extension": ".py",
   "mimetype": "text/x-python",
   "name": "python",
   "nbconvert_exporter": "python",
   "pygments_lexer": "ipython3",
   "version": "3.6.8"
  }
 },
 "nbformat": 4,
 "nbformat_minor": 2
}
