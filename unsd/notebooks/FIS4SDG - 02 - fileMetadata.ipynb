{
 "cells": [
  {
   "cell_type": "markdown",
   "metadata": {},
   "source": [
    "# Pivoting script\n",
    "This script pivots into \"wide\" format and split regional and country data "
   ]
  },
  {
   "cell_type": "markdown",
   "metadata": {},
   "source": [
    "## Load necessary libraries"
   ]
  },
  {
   "cell_type": "code",
   "execution_count": 2,
   "metadata": {},
   "outputs": [],
   "source": [
    "import csv\n",
    "import json\n",
    "import urllib3  # allows to access a URL with python\n",
    "import math\n",
    "import os\n",
    "import io\n",
    "import collections\n",
    "import copy\n",
    "import numpy as np\n",
    "import pandas as pd\n",
    "import xlsxwriter\n",
    "\n",
    "# https://volderette.de/jupyter-notebook-tip-multiple-outputs/\n",
    "from IPython.core.interactiveshell import InteractiveShell\n",
    "InteractiveShell.ast_node_interactivity = \"all\"\n"
   ]
  },
  {
   "cell_type": "markdown",
   "metadata": {},
   "source": [
    "## User parameters"
   ]
  },
  {
   "cell_type": "code",
   "execution_count": 3,
   "metadata": {},
   "outputs": [
    {
     "name": "stdout",
     "output_type": "stream",
     "text": [
      "C:\\Users\\L.GonzalezMorales\\Documents\\GitHub\\FIS4SDGs\\unsd\\notebooks\n",
      "Main dir: ../\n"
     ]
    }
   ],
   "source": [
    "release = '2019.Q1.G.02' # Make sure to have the correct release here\n",
    "\n",
    "dir_path = os.path.dirname(os.path.realpath('__file__'))\n",
    "print(dir_path)\n",
    "\n",
    "wd_dir = r'../'\n",
    "print('Main dir: ' + wd_dir)"
   ]
  },
  {
   "cell_type": "markdown",
   "metadata": {},
   "source": [
    "## Utilities"
   ]
  },
  {
   "cell_type": "markdown",
   "metadata": {},
   "source": [
    "#### Convert string to camelCase"
   ]
  },
  {
   "cell_type": "code",
   "execution_count": 4,
   "metadata": {},
   "outputs": [],
   "source": [
    "def camelCase(st):\n",
    "    \"\"\"\n",
    "    https://stackoverflow.com/questions/8347048/camelcase-every-string-any-standard-library\n",
    "    \n",
    "    \"\"\"\n",
    "    output = ''.join(x for x in st.title() if x.isalnum())\n",
    "    return output[0].lower() + output[1:]"
   ]
  },
  {
   "cell_type": "markdown",
   "metadata": {},
   "source": [
    "## Create `JSON` with metadata on each long data table"
   ]
  },
  {
   "cell_type": "markdown",
   "metadata": {},
   "source": [
    "### Read list of excel files with data for each series"
   ]
  },
  {
   "cell_type": "code",
   "execution_count": 5,
   "metadata": {},
   "outputs": [
    {
     "data": {
      "text/plain": [
       "['Data_1.1.1_SI_POV_DAY1.xlsx',\n",
       " 'Data_1.1.1_SI_POV_EMP1.xlsx',\n",
       " 'Data_1.2.1_SI_POV_NAHC.xlsx',\n",
       " 'Data_1.3.1_SI_COV_BENFTS.xlsx',\n",
       " 'Data_1.3.1_SI_COV_CHLD.xlsx',\n",
       " 'Data_1.3.1_SI_COV_DISAB.xlsx',\n",
       " 'Data_1.3.1_SI_COV_LMKT.xlsx',\n",
       " 'Data_1.3.1_SI_COV_LMKTPQ.xlsx',\n",
       " 'Data_1.3.1_SI_COV_MATNL.xlsx',\n",
       " 'Data_1.3.1_SI_COV_PENSN.xlsx']"
      ]
     },
     "execution_count": 5,
     "metadata": {},
     "output_type": "execute_result"
    }
   ],
   "source": [
    "path = wd_dir + r'data/' + release + '/' \n",
    "files = os.listdir(path)\n",
    "files[0:10]"
   ]
  },
  {
   "cell_type": "code",
   "execution_count": null,
   "metadata": {},
   "outputs": [],
   "source": []
  },
  {
   "cell_type": "markdown",
   "metadata": {},
   "source": [
    "### For a selected file:"
   ]
  },
  {
   "cell_type": "markdown",
   "metadata": {},
   "source": [
    "#### 1)  Convert content of data file into a pandas DataFrame"
   ]
  },
  {
   "cell_type": "code",
   "execution_count": 6,
   "metadata": {},
   "outputs": [
    {
     "data": {
      "text/plain": [
       "(8060, 33)"
      ]
     },
     "execution_count": 6,
     "metadata": {},
     "output_type": "execute_result"
    },
    {
     "data": {
      "text/html": [
       "<div>\n",
       "<style scoped>\n",
       "    .dataframe tbody tr th:only-of-type {\n",
       "        vertical-align: middle;\n",
       "    }\n",
       "\n",
       "    .dataframe tbody tr th {\n",
       "        vertical-align: top;\n",
       "    }\n",
       "\n",
       "    .dataframe thead th {\n",
       "        text-align: right;\n",
       "    }\n",
       "</style>\n",
       "<table border=\"1\" class=\"dataframe\">\n",
       "  <thead>\n",
       "    <tr style=\"text-align: right;\">\n",
       "      <th></th>\n",
       "      <th>goalCode</th>\n",
       "      <th>goalDesc</th>\n",
       "      <th>targetCode</th>\n",
       "      <th>targetDesc</th>\n",
       "      <th>indicatorCode</th>\n",
       "      <th>indicatorDesc</th>\n",
       "      <th>indicatorTier</th>\n",
       "      <th>seriesCode</th>\n",
       "      <th>seriesDesc</th>\n",
       "      <th>seriesRelease</th>\n",
       "      <th>...</th>\n",
       "      <th>valueType</th>\n",
       "      <th>timeDetail</th>\n",
       "      <th>source</th>\n",
       "      <th>footnotes</th>\n",
       "      <th>natureCode</th>\n",
       "      <th>unitsCode</th>\n",
       "      <th>reportingTypeCode</th>\n",
       "      <th>natureDesc</th>\n",
       "      <th>unitsDesc</th>\n",
       "      <th>reportingTypeDesc</th>\n",
       "    </tr>\n",
       "  </thead>\n",
       "  <tbody>\n",
       "    <tr>\n",
       "      <th>0</th>\n",
       "      <td>1</td>\n",
       "      <td>End poverty in all its forms everywhere</td>\n",
       "      <td>1.5</td>\n",
       "      <td>By 2030, build the resilience of the poor and ...</td>\n",
       "      <td>1.5.2</td>\n",
       "      <td>Direct economic loss attributed to disasters i...</td>\n",
       "      <td>1</td>\n",
       "      <td>VC_DSR_LSGP</td>\n",
       "      <td>Direct economic loss attributed to disasters r...</td>\n",
       "      <td>2019.Q1.G.02</td>\n",
       "      <td>...</td>\n",
       "      <td>NaN</td>\n",
       "      <td>NaN</td>\n",
       "      <td>NaN</td>\n",
       "      <td>NaN</td>\n",
       "      <td>NaN</td>\n",
       "      <td>NaN</td>\n",
       "      <td>NaN</td>\n",
       "      <td>NaN</td>\n",
       "      <td>NaN</td>\n",
       "      <td>NaN</td>\n",
       "    </tr>\n",
       "    <tr>\n",
       "      <th>1</th>\n",
       "      <td>1</td>\n",
       "      <td>End poverty in all its forms everywhere</td>\n",
       "      <td>1.5</td>\n",
       "      <td>By 2030, build the resilience of the poor and ...</td>\n",
       "      <td>1.5.2</td>\n",
       "      <td>Direct economic loss attributed to disasters i...</td>\n",
       "      <td>1</td>\n",
       "      <td>VC_DSR_LSGP</td>\n",
       "      <td>Direct economic loss attributed to disasters r...</td>\n",
       "      <td>2019.Q1.G.02</td>\n",
       "      <td>...</td>\n",
       "      <td>NaN</td>\n",
       "      <td>NaN</td>\n",
       "      <td>NaN</td>\n",
       "      <td>NaN</td>\n",
       "      <td>NaN</td>\n",
       "      <td>NaN</td>\n",
       "      <td>NaN</td>\n",
       "      <td>NaN</td>\n",
       "      <td>NaN</td>\n",
       "      <td>NaN</td>\n",
       "    </tr>\n",
       "    <tr>\n",
       "      <th>2</th>\n",
       "      <td>1</td>\n",
       "      <td>End poverty in all its forms everywhere</td>\n",
       "      <td>1.5</td>\n",
       "      <td>By 2030, build the resilience of the poor and ...</td>\n",
       "      <td>1.5.2</td>\n",
       "      <td>Direct economic loss attributed to disasters i...</td>\n",
       "      <td>1</td>\n",
       "      <td>VC_DSR_LSGP</td>\n",
       "      <td>Direct economic loss attributed to disasters r...</td>\n",
       "      <td>2019.Q1.G.02</td>\n",
       "      <td>...</td>\n",
       "      <td>NaN</td>\n",
       "      <td>NaN</td>\n",
       "      <td>NaN</td>\n",
       "      <td>NaN</td>\n",
       "      <td>NaN</td>\n",
       "      <td>NaN</td>\n",
       "      <td>NaN</td>\n",
       "      <td>NaN</td>\n",
       "      <td>NaN</td>\n",
       "      <td>NaN</td>\n",
       "    </tr>\n",
       "  </tbody>\n",
       "</table>\n",
       "<p>3 rows × 33 columns</p>\n",
       "</div>"
      ],
      "text/plain": [
       "   goalCode                                 goalDesc  targetCode  \\\n",
       "0         1  End poverty in all its forms everywhere         1.5   \n",
       "1         1  End poverty in all its forms everywhere         1.5   \n",
       "2         1  End poverty in all its forms everywhere         1.5   \n",
       "\n",
       "                                          targetDesc indicatorCode  \\\n",
       "0  By 2030, build the resilience of the poor and ...         1.5.2   \n",
       "1  By 2030, build the resilience of the poor and ...         1.5.2   \n",
       "2  By 2030, build the resilience of the poor and ...         1.5.2   \n",
       "\n",
       "                                       indicatorDesc  indicatorTier  \\\n",
       "0  Direct economic loss attributed to disasters i...              1   \n",
       "1  Direct economic loss attributed to disasters i...              1   \n",
       "2  Direct economic loss attributed to disasters i...              1   \n",
       "\n",
       "    seriesCode                                         seriesDesc  \\\n",
       "0  VC_DSR_LSGP  Direct economic loss attributed to disasters r...   \n",
       "1  VC_DSR_LSGP  Direct economic loss attributed to disasters r...   \n",
       "2  VC_DSR_LSGP  Direct economic loss attributed to disasters r...   \n",
       "\n",
       "  seriesRelease  ...  valueType  timeDetail source  footnotes  natureCode  \\\n",
       "0  2019.Q1.G.02  ...        NaN         NaN    NaN        NaN         NaN   \n",
       "1  2019.Q1.G.02  ...        NaN         NaN    NaN        NaN         NaN   \n",
       "2  2019.Q1.G.02  ...        NaN         NaN    NaN        NaN         NaN   \n",
       "\n",
       "  unitsCode reportingTypeCode  natureDesc unitsDesc  reportingTypeDesc  \n",
       "0       NaN               NaN         NaN       NaN                NaN  \n",
       "1       NaN               NaN         NaN       NaN                NaN  \n",
       "2       NaN               NaN         NaN       NaN                NaN  \n",
       "\n",
       "[3 rows x 33 columns]"
      ]
     },
     "execution_count": 6,
     "metadata": {},
     "output_type": "execute_result"
    }
   ],
   "source": [
    "f = 'Data_1.5.2_VC_DSR_LSGP.xlsx'\n",
    "\n",
    "xlsx = pd.ExcelFile(path + f)\n",
    "x = pd.read_excel(xlsx, 'Sheet1')\n",
    "x.shape\n",
    "x.head(3)\n",
    "\n"
   ]
  },
  {
   "cell_type": "markdown",
   "metadata": {},
   "source": [
    "#### 2) Keep only rows with non-null value:"
   ]
  },
  {
   "cell_type": "code",
   "execution_count": 57,
   "metadata": {},
   "outputs": [
    {
     "data": {
      "text/plain": [
       "(1714, 33)"
      ]
     },
     "execution_count": 57,
     "metadata": {},
     "output_type": "execute_result"
    },
    {
     "data": {
      "text/html": [
       "<div>\n",
       "<style scoped>\n",
       "    .dataframe tbody tr th:only-of-type {\n",
       "        vertical-align: middle;\n",
       "    }\n",
       "\n",
       "    .dataframe tbody tr th {\n",
       "        vertical-align: top;\n",
       "    }\n",
       "\n",
       "    .dataframe thead th {\n",
       "        text-align: right;\n",
       "    }\n",
       "</style>\n",
       "<table border=\"1\" class=\"dataframe\">\n",
       "  <thead>\n",
       "    <tr style=\"text-align: right;\">\n",
       "      <th></th>\n",
       "      <th>goalCode</th>\n",
       "      <th>goalDesc</th>\n",
       "      <th>targetCode</th>\n",
       "      <th>targetDesc</th>\n",
       "      <th>indicatorCode</th>\n",
       "      <th>indicatorDesc</th>\n",
       "      <th>indicatorTier</th>\n",
       "      <th>seriesCode</th>\n",
       "      <th>seriesDesc</th>\n",
       "      <th>seriesRelease</th>\n",
       "      <th>...</th>\n",
       "      <th>valueType</th>\n",
       "      <th>timeDetail</th>\n",
       "      <th>source</th>\n",
       "      <th>footnotes</th>\n",
       "      <th>natureCode</th>\n",
       "      <th>unitsCode</th>\n",
       "      <th>reportingTypeCode</th>\n",
       "      <th>natureDesc</th>\n",
       "      <th>unitsDesc</th>\n",
       "      <th>reportingTypeDesc</th>\n",
       "    </tr>\n",
       "  </thead>\n",
       "  <tbody>\n",
       "    <tr>\n",
       "      <th>0</th>\n",
       "      <td>1</td>\n",
       "      <td>End poverty in all its forms everywhere</td>\n",
       "      <td>1.5</td>\n",
       "      <td>By 2030, build the resilience of the poor and ...</td>\n",
       "      <td>1.5.2</td>\n",
       "      <td>Direct economic loss attributed to disasters i...</td>\n",
       "      <td>1</td>\n",
       "      <td>VC_DSR_LSGP</td>\n",
       "      <td>Direct economic loss attributed to disasters r...</td>\n",
       "      <td>2019.Q1.G.02</td>\n",
       "      <td>...</td>\n",
       "      <td>Float</td>\n",
       "      <td>nan</td>\n",
       "      <td>UNISDR (2018). Sendai Framework Monitor : Unit...</td>\n",
       "      <td>Disclaimer: the data being submitted by UNISDR...</td>\n",
       "      <td>C</td>\n",
       "      <td>PERCENT</td>\n",
       "      <td>G</td>\n",
       "      <td>Country data</td>\n",
       "      <td>Percentage</td>\n",
       "      <td>Global</td>\n",
       "    </tr>\n",
       "    <tr>\n",
       "      <th>1</th>\n",
       "      <td>1</td>\n",
       "      <td>End poverty in all its forms everywhere</td>\n",
       "      <td>1.5</td>\n",
       "      <td>By 2030, build the resilience of the poor and ...</td>\n",
       "      <td>1.5.2</td>\n",
       "      <td>Direct economic loss attributed to disasters i...</td>\n",
       "      <td>1</td>\n",
       "      <td>VC_DSR_LSGP</td>\n",
       "      <td>Direct economic loss attributed to disasters r...</td>\n",
       "      <td>2019.Q1.G.02</td>\n",
       "      <td>...</td>\n",
       "      <td>Float</td>\n",
       "      <td>nan</td>\n",
       "      <td>UNISDR (2018). Sendai Framework Monitor : Unit...</td>\n",
       "      <td>Disclaimer: the data being submitted by UNISDR...</td>\n",
       "      <td>C</td>\n",
       "      <td>PERCENT</td>\n",
       "      <td>G</td>\n",
       "      <td>Country data</td>\n",
       "      <td>Percentage</td>\n",
       "      <td>Global</td>\n",
       "    </tr>\n",
       "    <tr>\n",
       "      <th>2</th>\n",
       "      <td>1</td>\n",
       "      <td>End poverty in all its forms everywhere</td>\n",
       "      <td>1.5</td>\n",
       "      <td>By 2030, build the resilience of the poor and ...</td>\n",
       "      <td>1.5.2</td>\n",
       "      <td>Direct economic loss attributed to disasters i...</td>\n",
       "      <td>1</td>\n",
       "      <td>VC_DSR_LSGP</td>\n",
       "      <td>Direct economic loss attributed to disasters r...</td>\n",
       "      <td>2019.Q1.G.02</td>\n",
       "      <td>...</td>\n",
       "      <td>Float</td>\n",
       "      <td>nan</td>\n",
       "      <td>UNISDR (2018). Sendai Framework Monitor : Unit...</td>\n",
       "      <td>Disclaimer: the data being submitted by UNISDR...</td>\n",
       "      <td>C</td>\n",
       "      <td>PERCENT</td>\n",
       "      <td>G</td>\n",
       "      <td>Country data</td>\n",
       "      <td>Percentage</td>\n",
       "      <td>Global</td>\n",
       "    </tr>\n",
       "  </tbody>\n",
       "</table>\n",
       "<p>3 rows × 33 columns</p>\n",
       "</div>"
      ],
      "text/plain": [
       "  goalCode                                 goalDesc targetCode  \\\n",
       "0        1  End poverty in all its forms everywhere        1.5   \n",
       "1        1  End poverty in all its forms everywhere        1.5   \n",
       "2        1  End poverty in all its forms everywhere        1.5   \n",
       "\n",
       "                                          targetDesc indicatorCode  \\\n",
       "0  By 2030, build the resilience of the poor and ...         1.5.2   \n",
       "1  By 2030, build the resilience of the poor and ...         1.5.2   \n",
       "2  By 2030, build the resilience of the poor and ...         1.5.2   \n",
       "\n",
       "                                       indicatorDesc indicatorTier  \\\n",
       "0  Direct economic loss attributed to disasters i...             1   \n",
       "1  Direct economic loss attributed to disasters i...             1   \n",
       "2  Direct economic loss attributed to disasters i...             1   \n",
       "\n",
       "    seriesCode                                         seriesDesc  \\\n",
       "0  VC_DSR_LSGP  Direct economic loss attributed to disasters r...   \n",
       "1  VC_DSR_LSGP  Direct economic loss attributed to disasters r...   \n",
       "2  VC_DSR_LSGP  Direct economic loss attributed to disasters r...   \n",
       "\n",
       "  seriesRelease  ... valueType timeDetail  \\\n",
       "0  2019.Q1.G.02  ...     Float        nan   \n",
       "1  2019.Q1.G.02  ...     Float        nan   \n",
       "2  2019.Q1.G.02  ...     Float        nan   \n",
       "\n",
       "                                              source  \\\n",
       "0  UNISDR (2018). Sendai Framework Monitor : Unit...   \n",
       "1  UNISDR (2018). Sendai Framework Monitor : Unit...   \n",
       "2  UNISDR (2018). Sendai Framework Monitor : Unit...   \n",
       "\n",
       "                                           footnotes natureCode unitsCode  \\\n",
       "0  Disclaimer: the data being submitted by UNISDR...          C   PERCENT   \n",
       "1  Disclaimer: the data being submitted by UNISDR...          C   PERCENT   \n",
       "2  Disclaimer: the data being submitted by UNISDR...          C   PERCENT   \n",
       "\n",
       "  reportingTypeCode    natureDesc   unitsDesc reportingTypeDesc  \n",
       "0                 G  Country data  Percentage            Global  \n",
       "1                 G  Country data  Percentage            Global  \n",
       "2                 G  Country data  Percentage            Global  \n",
       "\n",
       "[3 rows x 33 columns]"
      ]
     },
     "execution_count": 57,
     "metadata": {},
     "output_type": "execute_result"
    }
   ],
   "source": [
    "x = x[x.value.notnull()]\n",
    "x = x.reset_index(drop=True)\n",
    "\n",
    "for c in x.columns:\n",
    "    x[c] = x[c].astype(str)\n",
    "    x[c].replace({r'[^\\x00-\\x7F]+':''}, regex=True, inplace=True)\n",
    "\n",
    "x.shape\n",
    "x.head(3)\n"
   ]
  },
  {
   "cell_type": "code",
   "execution_count": 58,
   "metadata": {},
   "outputs": [],
   "source": [
    "def read_excel_file(path,fileName):\n",
    "    xlsx = pd.ExcelFile(path + fileName)\n",
    "    x = pd.read_excel(xlsx, 'Sheet1')\n",
    "    x = x[x.value.notnull()]\n",
    "    x = x.reset_index(drop=True)\n",
    "    \n",
    "    for c in x.columns:\n",
    "        x[c] = x[c].astype(str)\n",
    "        x[c].replace({r'[^\\x00-\\x7F]+':''}, regex=True, inplace=True)\n",
    "\n",
    "    return x"
   ]
  },
  {
   "cell_type": "markdown",
   "metadata": {},
   "source": [
    "#### Add series metadata"
   ]
  },
  {
   "cell_type": "code",
   "execution_count": 59,
   "metadata": {},
   "outputs": [],
   "source": [
    "def add_series_metadata(dict,x):\n",
    "    series_metadata = ['goalCode', 'goalDesc', 'targetCode', 'targetDesc', 'indicatorCode',\n",
    "                  'indicatorDesc', 'indicatorTier', 'seriesCode', 'seriesDesc', 'seriesRelease']\n",
    "\n",
    "    for i in series_metadata:\n",
    "        dict[i] = x[i][0]\n",
    "    return dict\n",
    "\n",
    "    "
   ]
  },
  {
   "cell_type": "markdown",
   "metadata": {},
   "source": [
    "#### Add time-coverage metadata"
   ]
  },
  {
   "cell_type": "code",
   "execution_count": 60,
   "metadata": {},
   "outputs": [],
   "source": [
    "def add_time_coverage_metadata(dict,x):\n",
    "    time_coverage = list(pd.unique(x['timePeriod']))\n",
    "    time_coverage.sort()\n",
    "    dict['time_coverage'] = time_coverage\n",
    "    return dict"
   ]
  },
  {
   "cell_type": "markdown",
   "metadata": {},
   "source": [
    "#### Add geographic coverage for groups, regions and countries"
   ]
  },
  {
   "cell_type": "code",
   "execution_count": 61,
   "metadata": {},
   "outputs": [],
   "source": [
    "def add_geo_coverage(dict,x):\n",
    "    \n",
    "    geo = x[['geoAreaCode', 'geoAreaName','type']].drop_duplicates()\n",
    "\n",
    "    groups = geo[['geoAreaCode', 'geoAreaName']][geo.type == 'Group']\n",
    "    regions = geo[['geoAreaCode', 'geoAreaName']][geo.type == 'Region']\n",
    "    countries = geo[['geoAreaCode', 'geoAreaName']][geo.type == 'Country']\n",
    "\n",
    "    dict['geo_coverage_groups'] = groups.to_dict('records')\n",
    "    dict['geo_coverage_regions'] = regions.to_dict('records')\n",
    "    dict['geo_coverage_countries'] = countries.to_dict('records')\n",
    "\n",
    "    return dict\n"
   ]
  },
  {
   "cell_type": "markdown",
   "metadata": {},
   "source": [
    "#### Add specification of slices included in the file"
   ]
  },
  {
   "cell_type": "code",
   "execution_count": 62,
   "metadata": {},
   "outputs": [],
   "source": [
    "def add_slices_metadata(dict,x):\n",
    "\n",
    "    disaggregations = np.setdiff1d(x.columns,['goalCode', 'goalDesc', \n",
    "                                              'targetCode', 'targetDesc', \n",
    "                                              'indicatorCode','indicatorDesc', 'indicatorTier', \n",
    "                                              'seriesRelease', \n",
    "                                              'timePeriod', \n",
    "                                              'geoAreaCode', 'geoAreaName','level', 'parentCode', 'parentName', 'type', 'CountryProfile', 'ISO3CD','UNMember', 'X', 'Y', \n",
    "                                              'value', 'valueType', \n",
    "                                              'timeDetail', 'source','footnotes', 'natureCode', 'unitsCode', 'natureDesc', 'unitsDesc'])\n",
    "\n",
    "    disaggregations = list(disaggregations)\n",
    "    disaggregations_new = copy.deepcopy(disaggregations)\n",
    "\n",
    "    for i in range(len(disaggregations)):\n",
    "        d = disaggregations[i] \n",
    "        if d[-4:] == 'Desc':\n",
    "            disaggregations_new.remove(d)\n",
    "\n",
    "    slices = x[disaggregations_new].drop_duplicates()\n",
    "    slices = slices.reset_index(drop=True)\n",
    "\n",
    "    dict['slices'] = slices.to_dict('records')\n",
    "\n",
    "    return dict\n",
    "\n",
    "\n",
    "    "
   ]
  },
  {
   "cell_type": "markdown",
   "metadata": {},
   "source": [
    "#### Create file metadata dictionary"
   ]
  },
  {
   "cell_type": "code",
   "execution_count": 63,
   "metadata": {},
   "outputs": [],
   "source": [
    "def file_metadata(path, fileName):\n",
    "    \n",
    "    x = read_excel_file(path,fileName)\n",
    "   \n",
    "    dict = {}\n",
    "    dict['fileName'] = fileName\n",
    "    dict = add_series_metadata(dict,x)\n",
    "    dict = add_slices_metadata(dict,x)\n",
    "    dict = add_time_coverage_metadata(dict,x)\n",
    "    dict = add_geo_coverage(dict,x)    \n",
    "    return dict\n",
    "\n",
    "\n",
    "    "
   ]
  },
  {
   "cell_type": "code",
   "execution_count": 64,
   "metadata": {},
   "outputs": [
    {
     "data": {
      "text/plain": [
       "{'fileName': 'Data_1.5.2_VC_DSR_LSGP.xlsx',\n",
       " 'goalCode': '1',\n",
       " 'goalDesc': 'End poverty in all its forms everywhere',\n",
       " 'targetCode': '1.5',\n",
       " 'targetDesc': 'By 2030, build the resilience of the poor and those in vulnerable situations and reduce their exposure and vulnerability to climate-related extreme events and other economic, social and environmental shocks and disasters',\n",
       " 'indicatorCode': '1.5.2',\n",
       " 'indicatorDesc': 'Direct economic loss attributed to disasters in relation to global gross domestic product (GDP)',\n",
       " 'indicatorTier': '1',\n",
       " 'seriesCode': 'VC_DSR_LSGP',\n",
       " 'seriesDesc': 'Direct economic loss attributed to disasters relative to GDP (%)',\n",
       " 'seriesRelease': '2019.Q1.G.02',\n",
       " 'slices': [{'reportingTypeCode': 'G', 'seriesCode': 'VC_DSR_LSGP'}],\n",
       " 'time_coverage': ['2005',\n",
       "  '2006',\n",
       "  '2007',\n",
       "  '2008',\n",
       "  '2009',\n",
       "  '2010',\n",
       "  '2011',\n",
       "  '2012',\n",
       "  '2013',\n",
       "  '2014',\n",
       "  '2015',\n",
       "  '2016',\n",
       "  '2017'],\n",
       " 'geo_coverage_groups': [],\n",
       " 'geo_coverage_regions': [],\n",
       " 'geo_coverage_countries': [{'geoAreaCode': '8', 'geoAreaName': 'Albania'},\n",
       "  {'geoAreaCode': '24', 'geoAreaName': 'Angola'},\n",
       "  {'geoAreaCode': '28', 'geoAreaName': 'Antigua and Barbuda'},\n",
       "  {'geoAreaCode': '32', 'geoAreaName': 'Argentina'},\n",
       "  {'geoAreaCode': '52', 'geoAreaName': 'Barbados'},\n",
       "  {'geoAreaCode': '68', 'geoAreaName': 'Bolivia (Plurinational State of)'},\n",
       "  {'geoAreaCode': '84', 'geoAreaName': 'Belize'},\n",
       "  {'geoAreaCode': '104', 'geoAreaName': 'Myanmar'},\n",
       "  {'geoAreaCode': '116', 'geoAreaName': 'Cambodia'},\n",
       "  {'geoAreaCode': '144', 'geoAreaName': 'Sri Lanka'},\n",
       "  {'geoAreaCode': '152', 'geoAreaName': 'Chile'},\n",
       "  {'geoAreaCode': '170', 'geoAreaName': 'Colombia'},\n",
       "  {'geoAreaCode': '174', 'geoAreaName': 'Comoros'},\n",
       "  {'geoAreaCode': '184', 'geoAreaName': 'Cook Islands'},\n",
       "  {'geoAreaCode': '188', 'geoAreaName': 'Costa Rica'},\n",
       "  {'geoAreaCode': '196', 'geoAreaName': 'Cyprus'},\n",
       "  {'geoAreaCode': '218', 'geoAreaName': 'Ecuador'},\n",
       "  {'geoAreaCode': '222', 'geoAreaName': 'El Salvador'},\n",
       "  {'geoAreaCode': '231', 'geoAreaName': 'Ethiopia'},\n",
       "  {'geoAreaCode': '242', 'geoAreaName': 'Fiji'},\n",
       "  {'geoAreaCode': '262', 'geoAreaName': 'Djibouti'},\n",
       "  {'geoAreaCode': '275', 'geoAreaName': 'State of Palestine'},\n",
       "  {'geoAreaCode': '308', 'geoAreaName': 'Grenada'},\n",
       "  {'geoAreaCode': '320', 'geoAreaName': 'Guatemala'},\n",
       "  {'geoAreaCode': '328', 'geoAreaName': 'Guyana'},\n",
       "  {'geoAreaCode': '340', 'geoAreaName': 'Honduras'},\n",
       "  {'geoAreaCode': '364', 'geoAreaName': 'Iran (Islamic Republic of)'},\n",
       "  {'geoAreaCode': '388', 'geoAreaName': 'Jamaica'},\n",
       "  {'geoAreaCode': '398', 'geoAreaName': 'Kazakhstan'},\n",
       "  {'geoAreaCode': '400', 'geoAreaName': 'Jordan'},\n",
       "  {'geoAreaCode': '404', 'geoAreaName': 'Kenya'},\n",
       "  {'geoAreaCode': '417', 'geoAreaName': 'Kyrgyzstan'},\n",
       "  {'geoAreaCode': '418', 'geoAreaName': \"Lao People's Democratic Republic\"},\n",
       "  {'geoAreaCode': '422', 'geoAreaName': 'Lebanon'},\n",
       "  {'geoAreaCode': '450', 'geoAreaName': 'Madagascar'},\n",
       "  {'geoAreaCode': '462', 'geoAreaName': 'Maldives'},\n",
       "  {'geoAreaCode': '466', 'geoAreaName': 'Mali'},\n",
       "  {'geoAreaCode': '480', 'geoAreaName': 'Mauritius'},\n",
       "  {'geoAreaCode': '484', 'geoAreaName': 'Mexico'},\n",
       "  {'geoAreaCode': '504', 'geoAreaName': 'Morocco'},\n",
       "  {'geoAreaCode': '508', 'geoAreaName': 'Mozambique'},\n",
       "  {'geoAreaCode': '524', 'geoAreaName': 'Nepal'},\n",
       "  {'geoAreaCode': '548', 'geoAreaName': 'Vanuatu'},\n",
       "  {'geoAreaCode': '558', 'geoAreaName': 'Nicaragua'},\n",
       "  {'geoAreaCode': '562', 'geoAreaName': 'Niger'},\n",
       "  {'geoAreaCode': '586', 'geoAreaName': 'Pakistan'},\n",
       "  {'geoAreaCode': '591', 'geoAreaName': 'Panama'},\n",
       "  {'geoAreaCode': '598', 'geoAreaName': 'Papua New Guinea'},\n",
       "  {'geoAreaCode': '600', 'geoAreaName': 'Paraguay'},\n",
       "  {'geoAreaCode': '604', 'geoAreaName': 'Peru'},\n",
       "  {'geoAreaCode': '659', 'geoAreaName': 'Saint Kitts and Nevis'},\n",
       "  {'geoAreaCode': '670', 'geoAreaName': 'Saint Vincent and the Grenadines'},\n",
       "  {'geoAreaCode': '686', 'geoAreaName': 'Senegal'},\n",
       "  {'geoAreaCode': '688', 'geoAreaName': 'Serbia'},\n",
       "  {'geoAreaCode': '690', 'geoAreaName': 'Seychelles'},\n",
       "  {'geoAreaCode': '704', 'geoAreaName': 'Viet Nam'},\n",
       "  {'geoAreaCode': '724', 'geoAreaName': 'Spain'},\n",
       "  {'geoAreaCode': '760', 'geoAreaName': 'Syrian Arab Republic'},\n",
       "  {'geoAreaCode': '768', 'geoAreaName': 'Togo'},\n",
       "  {'geoAreaCode': '772', 'geoAreaName': 'Tokelau'},\n",
       "  {'geoAreaCode': '776', 'geoAreaName': 'Tonga'},\n",
       "  {'geoAreaCode': '780', 'geoAreaName': 'Trinidad and Tobago'},\n",
       "  {'geoAreaCode': '788', 'geoAreaName': 'Tunisia'},\n",
       "  {'geoAreaCode': '792', 'geoAreaName': 'Turkey'},\n",
       "  {'geoAreaCode': '800', 'geoAreaName': 'Uganda'},\n",
       "  {'geoAreaCode': '804', 'geoAreaName': 'Ukraine'},\n",
       "  {'geoAreaCode': '834', 'geoAreaName': 'United Republic of Tanzania'},\n",
       "  {'geoAreaCode': '854', 'geoAreaName': 'Burkina Faso'},\n",
       "  {'geoAreaCode': '858', 'geoAreaName': 'Uruguay'},\n",
       "  {'geoAreaCode': '862', 'geoAreaName': 'Venezuela (Bolivarian Republic of)'},\n",
       "  {'geoAreaCode': '882', 'geoAreaName': 'Samoa'},\n",
       "  {'geoAreaCode': '887', 'geoAreaName': 'Yemen'},\n",
       "  {'geoAreaCode': '90', 'geoAreaName': 'Solomon Islands'},\n",
       "  {'geoAreaCode': '132', 'geoAreaName': 'Cabo Verde'},\n",
       "  {'geoAreaCode': '496', 'geoAreaName': 'Mongolia'},\n",
       "  {'geoAreaCode': '583', 'geoAreaName': 'Micronesia (Federated States of)'},\n",
       "  {'geoAreaCode': '584', 'geoAreaName': 'Marshall Islands'},\n",
       "  {'geoAreaCode': '585', 'geoAreaName': 'Palau'},\n",
       "  {'geoAreaCode': '626', 'geoAreaName': 'Timor-Leste'},\n",
       "  {'geoAreaCode': '662', 'geoAreaName': 'Saint Lucia'},\n",
       "  {'geoAreaCode': '694', 'geoAreaName': 'Sierra Leone'},\n",
       "  {'geoAreaCode': '212', 'geoAreaName': 'Dominica'},\n",
       "  {'geoAreaCode': '258', 'geoAreaName': 'French Polynesia'},\n",
       "  {'geoAreaCode': '296', 'geoAreaName': 'Kiribati'},\n",
       "  {'geoAreaCode': '540', 'geoAreaName': 'New Caledonia'},\n",
       "  {'geoAreaCode': '798', 'geoAreaName': 'Tuvalu'},\n",
       "  {'geoAreaCode': '16', 'geoAreaName': 'American Samoa'},\n",
       "  {'geoAreaCode': '64', 'geoAreaName': 'Bhutan'},\n",
       "  {'geoAreaCode': '876', 'geoAreaName': 'Wallis and Futuna Islands'},\n",
       "  {'geoAreaCode': '226', 'geoAreaName': 'Equatorial Guinea'},\n",
       "  {'geoAreaCode': '570', 'geoAreaName': 'Niue'},\n",
       "  {'geoAreaCode': '72', 'geoAreaName': 'Botswana'},\n",
       "  {'geoAreaCode': '324', 'geoAreaName': 'Guinea'},\n",
       "  {'geoAreaCode': '430', 'geoAreaName': 'Liberia'},\n",
       "  {'geoAreaCode': '580', 'geoAreaName': 'Northern Mariana Islands'},\n",
       "  {'geoAreaCode': '316', 'geoAreaName': 'Guam'},\n",
       "  {'geoAreaCode': '748', 'geoAreaName': 'Eswatini'},\n",
       "  {'geoAreaCode': '191', 'geoAreaName': 'Croatia'},\n",
       "  {'geoAreaCode': '410', 'geoAreaName': 'Republic of Korea'},\n",
       "  {'geoAreaCode': '458', 'geoAreaName': 'Malaysia'},\n",
       "  {'geoAreaCode': '646', 'geoAreaName': 'Rwanda'},\n",
       "  {'geoAreaCode': '705', 'geoAreaName': 'Slovenia'},\n",
       "  {'geoAreaCode': '818', 'geoAreaName': 'Egypt'},\n",
       "  {'geoAreaCode': '31', 'geoAreaName': 'Azerbaijan'},\n",
       "  {'geoAreaCode': '40', 'geoAreaName': 'Austria'},\n",
       "  {'geoAreaCode': '51', 'geoAreaName': 'Armenia'},\n",
       "  {'geoAreaCode': '100', 'geoAreaName': 'Bulgaria'},\n",
       "  {'geoAreaCode': '208', 'geoAreaName': 'Denmark'},\n",
       "  {'geoAreaCode': '270', 'geoAreaName': 'Gambia'},\n",
       "  {'geoAreaCode': '276', 'geoAreaName': 'Germany'},\n",
       "  {'geoAreaCode': '372', 'geoAreaName': 'Ireland'},\n",
       "  {'geoAreaCode': '414', 'geoAreaName': 'Kuwait'},\n",
       "  {'geoAreaCode': '454', 'geoAreaName': 'Malawi'},\n",
       "  {'geoAreaCode': '554', 'geoAreaName': 'New Zealand'},\n",
       "  {'geoAreaCode': '578', 'geoAreaName': 'Norway'},\n",
       "  {'geoAreaCode': '620', 'geoAreaName': 'Portugal'},\n",
       "  {'geoAreaCode': '624', 'geoAreaName': 'Guinea-Bissau'},\n",
       "  {'geoAreaCode': '703', 'geoAreaName': 'Slovakia'},\n",
       "  {'geoAreaCode': '706', 'geoAreaName': 'Somalia'},\n",
       "  {'geoAreaCode': '710', 'geoAreaName': 'South Africa'},\n",
       "  {'geoAreaCode': '752', 'geoAreaName': 'Sweden'},\n",
       "  {'geoAreaCode': '756', 'geoAreaName': 'Switzerland'},\n",
       "  {'geoAreaCode': '860', 'geoAreaName': 'Uzbekistan'}]}"
      ]
     },
     "execution_count": 64,
     "metadata": {},
     "output_type": "execute_result"
    }
   ],
   "source": [
    "file_metadata( path , 'Data_1.5.2_VC_DSR_LSGP.xlsx')"
   ]
  },
  {
   "cell_type": "code",
   "execution_count": 65,
   "metadata": {},
   "outputs": [
    {
     "name": "stdout",
     "output_type": "stream",
     "text": [
      "creating metadata entry for file Data_1.1.1_SI_POV_DAY1.xlsx (1 of 430)\n",
      "creating metadata entry for file Data_1.1.1_SI_POV_EMP1.xlsx (2 of 430)\n",
      "creating metadata entry for file Data_1.2.1_SI_POV_NAHC.xlsx (3 of 430)\n",
      "creating metadata entry for file Data_1.3.1_SI_COV_BENFTS.xlsx (4 of 430)\n",
      "creating metadata entry for file Data_1.3.1_SI_COV_CHLD.xlsx (5 of 430)\n",
      "creating metadata entry for file Data_1.3.1_SI_COV_DISAB.xlsx (6 of 430)\n",
      "creating metadata entry for file Data_1.3.1_SI_COV_LMKT.xlsx (7 of 430)\n",
      "creating metadata entry for file Data_1.3.1_SI_COV_LMKTPQ.xlsx (8 of 430)\n",
      "creating metadata entry for file Data_1.3.1_SI_COV_MATNL.xlsx (9 of 430)\n",
      "creating metadata entry for file Data_1.3.1_SI_COV_PENSN.xlsx (10 of 430)\n",
      "creating metadata entry for file Data_1.3.1_SI_COV_POOR.xlsx (11 of 430)\n",
      "creating metadata entry for file Data_1.3.1_SI_COV_SOCAST.xlsx (12 of 430)\n",
      "creating metadata entry for file Data_1.3.1_SI_COV_SOCASTPQ.xlsx (13 of 430)\n",
      "creating metadata entry for file Data_1.3.1_SI_COV_SOCINS.xlsx (14 of 430)\n",
      "creating metadata entry for file Data_1.3.1_SI_COV_SOCINSPQ.xlsx (15 of 430)\n",
      "creating metadata entry for file Data_1.3.1_SI_COV_UEMP.xlsx (16 of 430)\n",
      "creating metadata entry for file Data_1.3.1_SI_COV_VULN.xlsx (17 of 430)\n",
      "creating metadata entry for file Data_1.3.1_SI_COV_WKINJRY.xlsx (18 of 430)\n",
      "creating metadata entry for file Data_1.5.1_VC_DSR_AFFCT.xlsx (19 of 430)\n",
      "creating metadata entry for file Data_1.5.1_VC_DSR_DADN.xlsx (20 of 430)\n"
     ]
    },
    {
     "ename": "KeyboardInterrupt",
     "evalue": "",
     "output_type": "error",
     "traceback": [
      "\u001b[1;31m---------------------------------------------------------------------------\u001b[0m",
      "\u001b[1;31mKeyboardInterrupt\u001b[0m                         Traceback (most recent call last)",
      "\u001b[1;32m<ipython-input-65-65cd1c7f74a3>\u001b[0m in \u001b[0;36m<module>\u001b[1;34m\u001b[0m\n\u001b[0;32m      4\u001b[0m     \u001b[0mcounter_f\u001b[0m \u001b[1;33m=\u001b[0m \u001b[0mcounter_f\u001b[0m \u001b[1;33m+\u001b[0m \u001b[1;36m1\u001b[0m\u001b[1;33m\u001b[0m\u001b[1;33m\u001b[0m\u001b[0m\n\u001b[0;32m      5\u001b[0m     \u001b[0mprint\u001b[0m\u001b[1;33m(\u001b[0m\u001b[1;34m\"creating metadata entry for file \"\u001b[0m \u001b[1;33m+\u001b[0m \u001b[0mf\u001b[0m \u001b[1;33m+\u001b[0m \u001b[1;34m\" (\"\u001b[0m \u001b[1;33m+\u001b[0m \u001b[0mstr\u001b[0m\u001b[1;33m(\u001b[0m\u001b[0mcounter_f\u001b[0m\u001b[1;33m)\u001b[0m \u001b[1;33m+\u001b[0m \u001b[1;34m\" of \"\u001b[0m \u001b[1;33m+\u001b[0m \u001b[0mstr\u001b[0m\u001b[1;33m(\u001b[0m\u001b[0mlen\u001b[0m\u001b[1;33m(\u001b[0m\u001b[0mfiles\u001b[0m\u001b[1;33m)\u001b[0m\u001b[1;33m)\u001b[0m \u001b[1;33m+\u001b[0m \u001b[1;34m\")\"\u001b[0m\u001b[1;33m)\u001b[0m\u001b[1;33m\u001b[0m\u001b[1;33m\u001b[0m\u001b[0m\n\u001b[1;32m----> 6\u001b[1;33m     \u001b[0mfile_metadata_set\u001b[0m\u001b[1;33m.\u001b[0m\u001b[0mappend\u001b[0m\u001b[1;33m(\u001b[0m\u001b[0mfile_metadata\u001b[0m\u001b[1;33m(\u001b[0m \u001b[0mpath\u001b[0m \u001b[1;33m,\u001b[0m \u001b[0mf\u001b[0m\u001b[1;33m)\u001b[0m\u001b[1;33m)\u001b[0m\u001b[1;33m\u001b[0m\u001b[1;33m\u001b[0m\u001b[0m\n\u001b[0m\u001b[0;32m      7\u001b[0m \u001b[1;33m\u001b[0m\u001b[0m\n",
      "\u001b[1;32m<ipython-input-63-e9687d181047>\u001b[0m in \u001b[0;36mfile_metadata\u001b[1;34m(path, fileName)\u001b[0m\n\u001b[0;32m      1\u001b[0m \u001b[1;32mdef\u001b[0m \u001b[0mfile_metadata\u001b[0m\u001b[1;33m(\u001b[0m\u001b[0mpath\u001b[0m\u001b[1;33m,\u001b[0m \u001b[0mfileName\u001b[0m\u001b[1;33m)\u001b[0m\u001b[1;33m:\u001b[0m\u001b[1;33m\u001b[0m\u001b[1;33m\u001b[0m\u001b[0m\n\u001b[0;32m      2\u001b[0m \u001b[1;33m\u001b[0m\u001b[0m\n\u001b[1;32m----> 3\u001b[1;33m     \u001b[0mx\u001b[0m \u001b[1;33m=\u001b[0m \u001b[0mread_excel_file\u001b[0m\u001b[1;33m(\u001b[0m\u001b[0mpath\u001b[0m\u001b[1;33m,\u001b[0m\u001b[0mfileName\u001b[0m\u001b[1;33m)\u001b[0m\u001b[1;33m\u001b[0m\u001b[1;33m\u001b[0m\u001b[0m\n\u001b[0m\u001b[0;32m      4\u001b[0m \u001b[1;33m\u001b[0m\u001b[0m\n\u001b[0;32m      5\u001b[0m     \u001b[0mdict\u001b[0m \u001b[1;33m=\u001b[0m \u001b[1;33m{\u001b[0m\u001b[1;33m}\u001b[0m\u001b[1;33m\u001b[0m\u001b[1;33m\u001b[0m\u001b[0m\n",
      "\u001b[1;32m<ipython-input-58-781e6de61713>\u001b[0m in \u001b[0;36mread_excel_file\u001b[1;34m(path, fileName)\u001b[0m\n\u001b[0;32m      1\u001b[0m \u001b[1;32mdef\u001b[0m \u001b[0mread_excel_file\u001b[0m\u001b[1;33m(\u001b[0m\u001b[0mpath\u001b[0m\u001b[1;33m,\u001b[0m\u001b[0mfileName\u001b[0m\u001b[1;33m)\u001b[0m\u001b[1;33m:\u001b[0m\u001b[1;33m\u001b[0m\u001b[1;33m\u001b[0m\u001b[0m\n\u001b[1;32m----> 2\u001b[1;33m     \u001b[0mxlsx\u001b[0m \u001b[1;33m=\u001b[0m \u001b[0mpd\u001b[0m\u001b[1;33m.\u001b[0m\u001b[0mExcelFile\u001b[0m\u001b[1;33m(\u001b[0m\u001b[0mpath\u001b[0m \u001b[1;33m+\u001b[0m \u001b[0mfileName\u001b[0m\u001b[1;33m)\u001b[0m\u001b[1;33m\u001b[0m\u001b[1;33m\u001b[0m\u001b[0m\n\u001b[0m\u001b[0;32m      3\u001b[0m     \u001b[0mx\u001b[0m \u001b[1;33m=\u001b[0m \u001b[0mpd\u001b[0m\u001b[1;33m.\u001b[0m\u001b[0mread_excel\u001b[0m\u001b[1;33m(\u001b[0m\u001b[0mxlsx\u001b[0m\u001b[1;33m,\u001b[0m \u001b[1;34m'Sheet1'\u001b[0m\u001b[1;33m)\u001b[0m\u001b[1;33m\u001b[0m\u001b[1;33m\u001b[0m\u001b[0m\n\u001b[0;32m      4\u001b[0m     \u001b[0mx\u001b[0m \u001b[1;33m=\u001b[0m \u001b[0mx\u001b[0m\u001b[1;33m[\u001b[0m\u001b[0mx\u001b[0m\u001b[1;33m.\u001b[0m\u001b[0mvalue\u001b[0m\u001b[1;33m.\u001b[0m\u001b[0mnotnull\u001b[0m\u001b[1;33m(\u001b[0m\u001b[1;33m)\u001b[0m\u001b[1;33m]\u001b[0m\u001b[1;33m\u001b[0m\u001b[1;33m\u001b[0m\u001b[0m\n\u001b[0;32m      5\u001b[0m     \u001b[0mx\u001b[0m \u001b[1;33m=\u001b[0m \u001b[0mx\u001b[0m\u001b[1;33m.\u001b[0m\u001b[0mreset_index\u001b[0m\u001b[1;33m(\u001b[0m\u001b[0mdrop\u001b[0m\u001b[1;33m=\u001b[0m\u001b[1;32mTrue\u001b[0m\u001b[1;33m)\u001b[0m\u001b[1;33m\u001b[0m\u001b[1;33m\u001b[0m\u001b[0m\n",
      "\u001b[1;32m~\\AppData\\Local\\Continuum\\anaconda3\\lib\\site-packages\\pandas\\io\\excel.py\u001b[0m in \u001b[0;36m__init__\u001b[1;34m(self, io, engine)\u001b[0m\n\u001b[0;32m    651\u001b[0m         \u001b[0mself\u001b[0m\u001b[1;33m.\u001b[0m\u001b[0m_io\u001b[0m \u001b[1;33m=\u001b[0m \u001b[0m_stringify_path\u001b[0m\u001b[1;33m(\u001b[0m\u001b[0mio\u001b[0m\u001b[1;33m)\u001b[0m\u001b[1;33m\u001b[0m\u001b[1;33m\u001b[0m\u001b[0m\n\u001b[0;32m    652\u001b[0m \u001b[1;33m\u001b[0m\u001b[0m\n\u001b[1;32m--> 653\u001b[1;33m         \u001b[0mself\u001b[0m\u001b[1;33m.\u001b[0m\u001b[0m_reader\u001b[0m \u001b[1;33m=\u001b[0m \u001b[0mself\u001b[0m\u001b[1;33m.\u001b[0m\u001b[0m_engines\u001b[0m\u001b[1;33m[\u001b[0m\u001b[0mengine\u001b[0m\u001b[1;33m]\u001b[0m\u001b[1;33m(\u001b[0m\u001b[0mself\u001b[0m\u001b[1;33m.\u001b[0m\u001b[0m_io\u001b[0m\u001b[1;33m)\u001b[0m\u001b[1;33m\u001b[0m\u001b[1;33m\u001b[0m\u001b[0m\n\u001b[0m\u001b[0;32m    654\u001b[0m \u001b[1;33m\u001b[0m\u001b[0m\n\u001b[0;32m    655\u001b[0m     \u001b[1;32mdef\u001b[0m \u001b[0m__fspath__\u001b[0m\u001b[1;33m(\u001b[0m\u001b[0mself\u001b[0m\u001b[1;33m)\u001b[0m\u001b[1;33m:\u001b[0m\u001b[1;33m\u001b[0m\u001b[1;33m\u001b[0m\u001b[0m\n",
      "\u001b[1;32m~\\AppData\\Local\\Continuum\\anaconda3\\lib\\site-packages\\pandas\\io\\excel.py\u001b[0m in \u001b[0;36m__init__\u001b[1;34m(self, filepath_or_buffer)\u001b[0m\n\u001b[0;32m    422\u001b[0m             \u001b[0mself\u001b[0m\u001b[1;33m.\u001b[0m\u001b[0mbook\u001b[0m \u001b[1;33m=\u001b[0m \u001b[0mxlrd\u001b[0m\u001b[1;33m.\u001b[0m\u001b[0mopen_workbook\u001b[0m\u001b[1;33m(\u001b[0m\u001b[0mfile_contents\u001b[0m\u001b[1;33m=\u001b[0m\u001b[0mdata\u001b[0m\u001b[1;33m)\u001b[0m\u001b[1;33m\u001b[0m\u001b[1;33m\u001b[0m\u001b[0m\n\u001b[0;32m    423\u001b[0m         \u001b[1;32melif\u001b[0m \u001b[0misinstance\u001b[0m\u001b[1;33m(\u001b[0m\u001b[0mfilepath_or_buffer\u001b[0m\u001b[1;33m,\u001b[0m \u001b[0mcompat\u001b[0m\u001b[1;33m.\u001b[0m\u001b[0mstring_types\u001b[0m\u001b[1;33m)\u001b[0m\u001b[1;33m:\u001b[0m\u001b[1;33m\u001b[0m\u001b[1;33m\u001b[0m\u001b[0m\n\u001b[1;32m--> 424\u001b[1;33m             \u001b[0mself\u001b[0m\u001b[1;33m.\u001b[0m\u001b[0mbook\u001b[0m \u001b[1;33m=\u001b[0m \u001b[0mxlrd\u001b[0m\u001b[1;33m.\u001b[0m\u001b[0mopen_workbook\u001b[0m\u001b[1;33m(\u001b[0m\u001b[0mfilepath_or_buffer\u001b[0m\u001b[1;33m)\u001b[0m\u001b[1;33m\u001b[0m\u001b[1;33m\u001b[0m\u001b[0m\n\u001b[0m\u001b[0;32m    425\u001b[0m         \u001b[1;32melse\u001b[0m\u001b[1;33m:\u001b[0m\u001b[1;33m\u001b[0m\u001b[1;33m\u001b[0m\u001b[0m\n\u001b[0;32m    426\u001b[0m             raise ValueError('Must explicitly set engine if not passing in'\n",
      "\u001b[1;32m~\\AppData\\Local\\Continuum\\anaconda3\\lib\\site-packages\\xlrd\\__init__.py\u001b[0m in \u001b[0;36mopen_workbook\u001b[1;34m(filename, logfile, verbosity, use_mmap, file_contents, encoding_override, formatting_info, on_demand, ragged_rows)\u001b[0m\n\u001b[0;32m    136\u001b[0m                 \u001b[0mformatting_info\u001b[0m\u001b[1;33m=\u001b[0m\u001b[0mformatting_info\u001b[0m\u001b[1;33m,\u001b[0m\u001b[1;33m\u001b[0m\u001b[1;33m\u001b[0m\u001b[0m\n\u001b[0;32m    137\u001b[0m                 \u001b[0mon_demand\u001b[0m\u001b[1;33m=\u001b[0m\u001b[0mon_demand\u001b[0m\u001b[1;33m,\u001b[0m\u001b[1;33m\u001b[0m\u001b[1;33m\u001b[0m\u001b[0m\n\u001b[1;32m--> 138\u001b[1;33m                 \u001b[0mragged_rows\u001b[0m\u001b[1;33m=\u001b[0m\u001b[0mragged_rows\u001b[0m\u001b[1;33m,\u001b[0m\u001b[1;33m\u001b[0m\u001b[1;33m\u001b[0m\u001b[0m\n\u001b[0m\u001b[0;32m    139\u001b[0m             )\n\u001b[0;32m    140\u001b[0m             \u001b[1;32mreturn\u001b[0m \u001b[0mbk\u001b[0m\u001b[1;33m\u001b[0m\u001b[1;33m\u001b[0m\u001b[0m\n",
      "\u001b[1;32m~\\AppData\\Local\\Continuum\\anaconda3\\lib\\site-packages\\xlrd\\xlsx.py\u001b[0m in \u001b[0;36mopen_workbook_2007_xml\u001b[1;34m(zf, component_names, logfile, verbosity, use_mmap, formatting_info, on_demand, ragged_rows)\u001b[0m\n\u001b[0;32m    839\u001b[0m         \u001b[0mx12sheet\u001b[0m \u001b[1;33m=\u001b[0m \u001b[0mX12Sheet\u001b[0m\u001b[1;33m(\u001b[0m\u001b[0msheet\u001b[0m\u001b[1;33m,\u001b[0m \u001b[0mlogfile\u001b[0m\u001b[1;33m,\u001b[0m \u001b[0mverbosity\u001b[0m\u001b[1;33m)\u001b[0m\u001b[1;33m\u001b[0m\u001b[1;33m\u001b[0m\u001b[0m\n\u001b[0;32m    840\u001b[0m         \u001b[0mheading\u001b[0m \u001b[1;33m=\u001b[0m \u001b[1;34m\"Sheet %r (sheetx=%d) from %r\"\u001b[0m \u001b[1;33m%\u001b[0m \u001b[1;33m(\u001b[0m\u001b[0msheet\u001b[0m\u001b[1;33m.\u001b[0m\u001b[0mname\u001b[0m\u001b[1;33m,\u001b[0m \u001b[0msheetx\u001b[0m\u001b[1;33m,\u001b[0m \u001b[0mfname\u001b[0m\u001b[1;33m)\u001b[0m\u001b[1;33m\u001b[0m\u001b[1;33m\u001b[0m\u001b[0m\n\u001b[1;32m--> 841\u001b[1;33m         \u001b[0mx12sheet\u001b[0m\u001b[1;33m.\u001b[0m\u001b[0mprocess_stream\u001b[0m\u001b[1;33m(\u001b[0m\u001b[0mzflo\u001b[0m\u001b[1;33m,\u001b[0m \u001b[0mheading\u001b[0m\u001b[1;33m)\u001b[0m\u001b[1;33m\u001b[0m\u001b[1;33m\u001b[0m\u001b[0m\n\u001b[0m\u001b[0;32m    842\u001b[0m         \u001b[1;32mdel\u001b[0m \u001b[0mzflo\u001b[0m\u001b[1;33m\u001b[0m\u001b[1;33m\u001b[0m\u001b[0m\n\u001b[0;32m    843\u001b[0m \u001b[1;33m\u001b[0m\u001b[0m\n",
      "\u001b[1;32m~\\AppData\\Local\\Continuum\\anaconda3\\lib\\site-packages\\xlrd\\xlsx.py\u001b[0m in \u001b[0;36mown_process_stream\u001b[1;34m(self, stream, heading)\u001b[0m\n\u001b[0;32m    546\u001b[0m         \u001b[0mrow_tag\u001b[0m \u001b[1;33m=\u001b[0m \u001b[0mU_SSML12\u001b[0m \u001b[1;33m+\u001b[0m \u001b[1;34m\"row\"\u001b[0m\u001b[1;33m\u001b[0m\u001b[1;33m\u001b[0m\u001b[0m\n\u001b[0;32m    547\u001b[0m         \u001b[0mself_do_row\u001b[0m \u001b[1;33m=\u001b[0m \u001b[0mself\u001b[0m\u001b[1;33m.\u001b[0m\u001b[0mdo_row\u001b[0m\u001b[1;33m\u001b[0m\u001b[1;33m\u001b[0m\u001b[0m\n\u001b[1;32m--> 548\u001b[1;33m         \u001b[1;32mfor\u001b[0m \u001b[0mevent\u001b[0m\u001b[1;33m,\u001b[0m \u001b[0melem\u001b[0m \u001b[1;32min\u001b[0m \u001b[0mET\u001b[0m\u001b[1;33m.\u001b[0m\u001b[0miterparse\u001b[0m\u001b[1;33m(\u001b[0m\u001b[0mstream\u001b[0m\u001b[1;33m)\u001b[0m\u001b[1;33m:\u001b[0m\u001b[1;33m\u001b[0m\u001b[1;33m\u001b[0m\u001b[0m\n\u001b[0m\u001b[0;32m    549\u001b[0m             \u001b[1;32mif\u001b[0m \u001b[0melem\u001b[0m\u001b[1;33m.\u001b[0m\u001b[0mtag\u001b[0m \u001b[1;33m==\u001b[0m \u001b[0mrow_tag\u001b[0m\u001b[1;33m:\u001b[0m\u001b[1;33m\u001b[0m\u001b[1;33m\u001b[0m\u001b[0m\n\u001b[0;32m    550\u001b[0m                 \u001b[0mself_do_row\u001b[0m\u001b[1;33m(\u001b[0m\u001b[0melem\u001b[0m\u001b[1;33m)\u001b[0m\u001b[1;33m\u001b[0m\u001b[1;33m\u001b[0m\u001b[0m\n",
      "\u001b[1;32m~\\AppData\\Local\\Continuum\\anaconda3\\lib\\xml\\etree\\ElementTree.py\u001b[0m in \u001b[0;36miterator\u001b[1;34m()\u001b[0m\n\u001b[0;32m   1224\u001b[0m                 \u001b[1;32mif\u001b[0m \u001b[1;32mnot\u001b[0m \u001b[0mdata\u001b[0m\u001b[1;33m:\u001b[0m\u001b[1;33m\u001b[0m\u001b[1;33m\u001b[0m\u001b[0m\n\u001b[0;32m   1225\u001b[0m                     \u001b[1;32mbreak\u001b[0m\u001b[1;33m\u001b[0m\u001b[1;33m\u001b[0m\u001b[0m\n\u001b[1;32m-> 1226\u001b[1;33m                 \u001b[0mpullparser\u001b[0m\u001b[1;33m.\u001b[0m\u001b[0mfeed\u001b[0m\u001b[1;33m(\u001b[0m\u001b[0mdata\u001b[0m\u001b[1;33m)\u001b[0m\u001b[1;33m\u001b[0m\u001b[1;33m\u001b[0m\u001b[0m\n\u001b[0m\u001b[0;32m   1227\u001b[0m             \u001b[0mroot\u001b[0m \u001b[1;33m=\u001b[0m \u001b[0mpullparser\u001b[0m\u001b[1;33m.\u001b[0m\u001b[0m_close_and_return_root\u001b[0m\u001b[1;33m(\u001b[0m\u001b[1;33m)\u001b[0m\u001b[1;33m\u001b[0m\u001b[1;33m\u001b[0m\u001b[0m\n\u001b[0;32m   1228\u001b[0m             \u001b[1;32myield\u001b[0m \u001b[1;32mfrom\u001b[0m \u001b[0mpullparser\u001b[0m\u001b[1;33m.\u001b[0m\u001b[0mread_events\u001b[0m\u001b[1;33m(\u001b[0m\u001b[1;33m)\u001b[0m\u001b[1;33m\u001b[0m\u001b[1;33m\u001b[0m\u001b[0m\n",
      "\u001b[1;32m~\\AppData\\Local\\Continuum\\anaconda3\\lib\\xml\\etree\\ElementTree.py\u001b[0m in \u001b[0;36mfeed\u001b[1;34m(self, data)\u001b[0m\n\u001b[0;32m   1266\u001b[0m         \u001b[1;32mif\u001b[0m \u001b[0mdata\u001b[0m\u001b[1;33m:\u001b[0m\u001b[1;33m\u001b[0m\u001b[1;33m\u001b[0m\u001b[0m\n\u001b[0;32m   1267\u001b[0m             \u001b[1;32mtry\u001b[0m\u001b[1;33m:\u001b[0m\u001b[1;33m\u001b[0m\u001b[1;33m\u001b[0m\u001b[0m\n\u001b[1;32m-> 1268\u001b[1;33m                 \u001b[0mself\u001b[0m\u001b[1;33m.\u001b[0m\u001b[0m_parser\u001b[0m\u001b[1;33m.\u001b[0m\u001b[0mfeed\u001b[0m\u001b[1;33m(\u001b[0m\u001b[0mdata\u001b[0m\u001b[1;33m)\u001b[0m\u001b[1;33m\u001b[0m\u001b[1;33m\u001b[0m\u001b[0m\n\u001b[0m\u001b[0;32m   1269\u001b[0m             \u001b[1;32mexcept\u001b[0m \u001b[0mSyntaxError\u001b[0m \u001b[1;32mas\u001b[0m \u001b[0mexc\u001b[0m\u001b[1;33m:\u001b[0m\u001b[1;33m\u001b[0m\u001b[1;33m\u001b[0m\u001b[0m\n\u001b[0;32m   1270\u001b[0m                 \u001b[0mself\u001b[0m\u001b[1;33m.\u001b[0m\u001b[0m_events_queue\u001b[0m\u001b[1;33m.\u001b[0m\u001b[0mappend\u001b[0m\u001b[1;33m(\u001b[0m\u001b[0mexc\u001b[0m\u001b[1;33m)\u001b[0m\u001b[1;33m\u001b[0m\u001b[1;33m\u001b[0m\u001b[0m\n",
      "\u001b[1;32m~\\AppData\\Local\\Continuum\\anaconda3\\lib\\xml\\etree\\ElementTree.py\u001b[0m in \u001b[0;36mfeed\u001b[1;34m(self, data)\u001b[0m\n\u001b[0;32m   1622\u001b[0m         \u001b[1;34m\"\"\"Feed encoded data to parser.\"\"\"\u001b[0m\u001b[1;33m\u001b[0m\u001b[1;33m\u001b[0m\u001b[0m\n\u001b[0;32m   1623\u001b[0m         \u001b[1;32mtry\u001b[0m\u001b[1;33m:\u001b[0m\u001b[1;33m\u001b[0m\u001b[1;33m\u001b[0m\u001b[0m\n\u001b[1;32m-> 1624\u001b[1;33m             \u001b[0mself\u001b[0m\u001b[1;33m.\u001b[0m\u001b[0mparser\u001b[0m\u001b[1;33m.\u001b[0m\u001b[0mParse\u001b[0m\u001b[1;33m(\u001b[0m\u001b[0mdata\u001b[0m\u001b[1;33m,\u001b[0m \u001b[1;36m0\u001b[0m\u001b[1;33m)\u001b[0m\u001b[1;33m\u001b[0m\u001b[1;33m\u001b[0m\u001b[0m\n\u001b[0m\u001b[0;32m   1625\u001b[0m         \u001b[1;32mexcept\u001b[0m \u001b[0mself\u001b[0m\u001b[1;33m.\u001b[0m\u001b[0m_error\u001b[0m \u001b[1;32mas\u001b[0m \u001b[0mv\u001b[0m\u001b[1;33m:\u001b[0m\u001b[1;33m\u001b[0m\u001b[1;33m\u001b[0m\u001b[0m\n\u001b[0;32m   1626\u001b[0m             \u001b[0mself\u001b[0m\u001b[1;33m.\u001b[0m\u001b[0m_raiseerror\u001b[0m\u001b[1;33m(\u001b[0m\u001b[0mv\u001b[0m\u001b[1;33m)\u001b[0m\u001b[1;33m\u001b[0m\u001b[1;33m\u001b[0m\u001b[0m\n",
      "\u001b[1;32mc:\\ci\\python_1550799517308\\work\\modules\\pyexpat.c\u001b[0m in \u001b[0;36mStartElement\u001b[1;34m()\u001b[0m\n",
      "\u001b[1;32m~\\AppData\\Local\\Continuum\\anaconda3\\lib\\xml\\etree\\ElementTree.py\u001b[0m in \u001b[0;36m_start\u001b[1;34m(self, tag, attr_list)\u001b[0m\n\u001b[0;32m   1543\u001b[0m         \u001b[0mtag\u001b[0m \u001b[1;33m=\u001b[0m \u001b[0mfixname\u001b[0m\u001b[1;33m(\u001b[0m\u001b[0mtag\u001b[0m\u001b[1;33m)\u001b[0m\u001b[1;33m\u001b[0m\u001b[1;33m\u001b[0m\u001b[0m\n\u001b[0;32m   1544\u001b[0m         \u001b[0mattrib\u001b[0m \u001b[1;33m=\u001b[0m \u001b[1;33m{\u001b[0m\u001b[1;33m}\u001b[0m\u001b[1;33m\u001b[0m\u001b[1;33m\u001b[0m\u001b[0m\n\u001b[1;32m-> 1545\u001b[1;33m         \u001b[1;32mif\u001b[0m \u001b[0mattr_list\u001b[0m\u001b[1;33m:\u001b[0m\u001b[1;33m\u001b[0m\u001b[1;33m\u001b[0m\u001b[0m\n\u001b[0m\u001b[0;32m   1546\u001b[0m             \u001b[1;32mfor\u001b[0m \u001b[0mi\u001b[0m \u001b[1;32min\u001b[0m \u001b[0mrange\u001b[0m\u001b[1;33m(\u001b[0m\u001b[1;36m0\u001b[0m\u001b[1;33m,\u001b[0m \u001b[0mlen\u001b[0m\u001b[1;33m(\u001b[0m\u001b[0mattr_list\u001b[0m\u001b[1;33m)\u001b[0m\u001b[1;33m,\u001b[0m \u001b[1;36m2\u001b[0m\u001b[1;33m)\u001b[0m\u001b[1;33m:\u001b[0m\u001b[1;33m\u001b[0m\u001b[1;33m\u001b[0m\u001b[0m\n\u001b[0;32m   1547\u001b[0m                 \u001b[0mattrib\u001b[0m\u001b[1;33m[\u001b[0m\u001b[0mfixname\u001b[0m\u001b[1;33m(\u001b[0m\u001b[0mattr_list\u001b[0m\u001b[1;33m[\u001b[0m\u001b[0mi\u001b[0m\u001b[1;33m]\u001b[0m\u001b[1;33m)\u001b[0m\u001b[1;33m]\u001b[0m \u001b[1;33m=\u001b[0m \u001b[0mattr_list\u001b[0m\u001b[1;33m[\u001b[0m\u001b[0mi\u001b[0m\u001b[1;33m+\u001b[0m\u001b[1;36m1\u001b[0m\u001b[1;33m]\u001b[0m\u001b[1;33m\u001b[0m\u001b[1;33m\u001b[0m\u001b[0m\n",
      "\u001b[1;31mKeyboardInterrupt\u001b[0m: "
     ]
    }
   ],
   "source": [
    "file_metadata_set = []\n",
    "counter_f = 0\n",
    "for f in files:\n",
    "    counter_f = counter_f + 1\n",
    "    print(\"creating metadata entry for file \" + f + \" (\" + str(counter_f) + \" of \" + str(len(files)) + \")\")\n",
    "    file_metadata_set.append(file_metadata( path , f))\n",
    "    \n"
   ]
  },
  {
   "cell_type": "markdown",
   "metadata": {},
   "source": [
    "#### Write metadata list to a `json` file"
   ]
  },
  {
   "cell_type": "code",
   "execution_count": 68,
   "metadata": {},
   "outputs": [],
   "source": [
    "with open(wd_dir + 'data/file_metadata.json', 'w') as file:\n",
    "    json.dump(file_metadata_set,file,indent=4)"
   ]
  }
 ],
 "metadata": {
  "kernelspec": {
   "display_name": "Python 3",
   "language": "python",
   "name": "python3"
  },
  "language_info": {
   "codemirror_mode": {
    "name": "ipython",
    "version": 3
   },
   "file_extension": ".py",
   "mimetype": "text/x-python",
   "name": "python",
   "nbconvert_exporter": "python",
   "pygments_lexer": "ipython3",
   "version": "3.6.8"
  }
 },
 "nbformat": 4,
 "nbformat_minor": 2
}
