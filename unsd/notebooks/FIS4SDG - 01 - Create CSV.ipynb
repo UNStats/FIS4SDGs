{
 "cells": [
  {
   "cell_type": "markdown",
   "metadata": {},
   "source": [
    "# Pre-processing script\n",
    "This script pulls SDG data from API and transforms it into csv files.\n",
    "The steps are:\n",
    "- Pull data from [API](https://unstats.un.org/SDGAPI/swagger/) \n",
    "- Join with geography\n",
    "- save as \"long\" table\n",
    "- pivot into \"wide\" format and split regional and country data "
   ]
  },
  {
   "cell_type": "markdown",
   "metadata": {},
   "source": [
    "### Load necessary libraries"
   ]
  },
  {
   "cell_type": "code",
   "execution_count": 1,
   "metadata": {},
   "outputs": [],
   "source": [
    "import csv\n",
    "import json\n",
    "import urllib3  # allows to access a URL with python\n",
    "import math\n",
    "import os\n",
    "import collections\n",
    "import numpy as np\n",
    "import pandas as pd\n"
   ]
  },
  {
   "cell_type": "markdown",
   "metadata": {},
   "source": [
    "### User parameters"
   ]
  },
  {
   "cell_type": "code",
   "execution_count": 2,
   "metadata": {},
   "outputs": [
    {
     "name": "stdout",
     "output_type": "stream",
     "text": [
      "/home/jovyan/FIS4SDGs/unsd/notebooks\n",
      "data inputs dir: ../\n"
     ]
    }
   ],
   "source": [
    "release = '2019.Q1.G.01' # Make sure to have the correct release here\n",
    "\n",
    "dir_path = os.path.dirname(os.path.realpath('__file__'))\n",
    "print(dir_path)\n",
    "\n",
    "wd_dir = r'../'\n",
    "print('data inputs dir: ' + wd_dir)"
   ]
  },
  {
   "cell_type": "markdown",
   "metadata": {},
   "source": [
    "### Array to catch errors"
   ]
  },
  {
   "cell_type": "code",
   "execution_count": 3,
   "metadata": {},
   "outputs": [],
   "source": [
    "error_log = []"
   ]
  },
  {
   "cell_type": "markdown",
   "metadata": {},
   "source": [
    "### List of countries to be plotted on a map (with XY coordinates)"
   ]
  },
  {
   "cell_type": "code",
   "execution_count": 4,
   "metadata": {},
   "outputs": [],
   "source": [
    "countryListXY = []\n",
    "with open(wd_dir + 'CountryListXY.txt', newline = '', encoding='latin-1') as countryList:                                                                                          \n",
    "    countryList = csv.DictReader(countryList, delimiter='\\t')\n",
    "    for row in countryList:\n",
    "        countryListXY.append(dict(row))\n",
    "        \n",
    "#print(countryListXY[1])\n",
    "#for c in countryListXY:"
   ]
  },
  {
   "cell_type": "code",
   "execution_count": 5,
   "metadata": {},
   "outputs": [
    {
     "data": {
      "text/plain": [
       "{'X': '66.02688198',\n",
       " 'Y': '33.83160199',\n",
       " 'ISO3CD': 'AFG',\n",
       " 'geoAreaCode': '4',\n",
       " 'geoAreaName': 'Afghanistan',\n",
       " 'UNMember': '1',\n",
       " 'CountryProfile': '1'}"
      ]
     },
     "execution_count": 5,
     "metadata": {},
     "output_type": "execute_result"
    }
   ],
   "source": [
    "countryListXY[0]"
   ]
  },
  {
   "cell_type": "markdown",
   "metadata": {},
   "source": [
    "### Get the list of goals, targets, indicators and series"
   ]
  },
  {
   "cell_type": "markdown",
   "metadata": {},
   "source": [
    "Start by creating a `PoolManager()` object using `urllib3`."
   ]
  },
  {
   "cell_type": "code",
   "execution_count": 6,
   "metadata": {},
   "outputs": [],
   "source": [
    "http = urllib3.PoolManager()"
   ]
  },
  {
   "cell_type": "markdown",
   "metadata": {},
   "source": [
    "Call the endpoint of the SDG API that provides the list of goals with all their children"
   ]
  },
  {
   "cell_type": "code",
   "execution_count": 7,
   "metadata": {},
   "outputs": [
    {
     "name": "stderr",
     "output_type": "stream",
     "text": [
      "/opt/conda/lib/python3.7/site-packages/urllib3/connectionpool.py:847: InsecureRequestWarning: Unverified HTTPS request is being made. Adding certificate verification is strongly advised. See: https://urllib3.readthedocs.io/en/latest/advanced-usage.html#ssl-warnings\n",
      "  InsecureRequestWarning)\n"
     ]
    }
   ],
   "source": [
    "response = http.request('GET', \"https://unstats.un.org/SDGAPI/v1/sdg/Goal/List?includechildren=true\")\n",
    "responseData = json.loads(response.data.decode('UTF-8'))\n",
    "#responseData[0]"
   ]
  },
  {
   "cell_type": "markdown",
   "metadata": {},
   "source": [
    "Define the list of 'keys' to be extracted into a flat dictionary from the response"
   ]
  },
  {
   "cell_type": "code",
   "execution_count": 8,
   "metadata": {},
   "outputs": [],
   "source": [
    "series_list = []\n",
    "\n",
    "keys = [\"goalCode\", \n",
    "        \"goalDesc\",\n",
    "        \"targetCode\",\n",
    "        \"targetDesc\",\n",
    "        \"indicatorCode\",\n",
    "        \"indicatorDesc\",\n",
    "        \"indicatorTier\",\n",
    "        \"seriesCode\",\n",
    "        \"seriesDesc\",\n",
    "        \"seriesRelease\"\n",
    "       ]"
   ]
  },
  {
   "cell_type": "markdown",
   "metadata": {},
   "source": [
    "Traverse all goals, targets, indicators and series:"
   ]
  },
  {
   "cell_type": "code",
   "execution_count": 9,
   "metadata": {},
   "outputs": [],
   "source": [
    "for g in responseData:\n",
    "    for t in g['targets']:\n",
    "        for i in t['indicators']:\n",
    "            for s in i['series']:\n",
    "                if s['release'] == release:\n",
    "                    values = [g['code'], g['title'],\n",
    "                              t['code'], t['description'], \n",
    "                              i['code'], i['description'], i['tier'], \n",
    "                              s['code'], s['description'], s['release']]\n",
    "                    \n",
    "                    keys_and_values = zip(keys, values)\n",
    "                    serie_dic = {}\n",
    "                    for key, value in keys_and_values:\n",
    "                        serie_dic[key] = value\n",
    "                    series_list.append(serie_dic)"
   ]
  },
  {
   "cell_type": "code",
   "execution_count": 10,
   "metadata": {},
   "outputs": [
    {
     "data": {
      "text/plain": [
       "[{'goalCode': '1',\n",
       "  'goalDesc': 'End poverty in all its forms everywhere',\n",
       "  'targetCode': '1.1',\n",
       "  'targetDesc': 'By 2030, eradicate extreme poverty for all people everywhere, currently measured as people living on less than $1.25 a day',\n",
       "  'indicatorCode': '1.1.1',\n",
       "  'indicatorDesc': 'Proportion of population below the international poverty line, by sex, age, employment status and geographical location (urban/rural)',\n",
       "  'indicatorTier': '1',\n",
       "  'seriesCode': 'SI_POV_DAY1',\n",
       "  'seriesDesc': 'Proportion of population below international poverty line (%)',\n",
       "  'seriesRelease': '2019.Q1.G.01'},\n",
       " {'goalCode': '1',\n",
       "  'goalDesc': 'End poverty in all its forms everywhere',\n",
       "  'targetCode': '1.1',\n",
       "  'targetDesc': 'By 2030, eradicate extreme poverty for all people everywhere, currently measured as people living on less than $1.25 a day',\n",
       "  'indicatorCode': '1.1.1',\n",
       "  'indicatorDesc': 'Proportion of population below the international poverty line, by sex, age, employment status and geographical location (urban/rural)',\n",
       "  'indicatorTier': '1',\n",
       "  'seriesCode': 'SI_POV_EMP1',\n",
       "  'seriesDesc': 'Employed population below international poverty line, by sex and age (%)',\n",
       "  'seriesRelease': '2019.Q1.G.01'}]"
      ]
     },
     "execution_count": 10,
     "metadata": {},
     "output_type": "execute_result"
    }
   ],
   "source": [
    "series_list[0:2]"
   ]
  },
  {
   "cell_type": "markdown",
   "metadata": {},
   "source": [
    "### Get the data for each series"
   ]
  },
  {
   "cell_type": "markdown",
   "metadata": {},
   "source": [
    "#### Verify how many pages need to be requested to get all the data for a specific series from the SDG API. "
   ]
  },
  {
   "cell_type": "code",
   "execution_count": 11,
   "metadata": {},
   "outputs": [],
   "source": [
    "def series_request_details(seriesCode):\n",
    "    \n",
    "    seriesRequest = 'https://unstats.un.org/SDGAPI/v1/sdg/Series/Data?seriesCode=' + seriesCode + \"&pageSize=2\"\n",
    "    \n",
    "    response = http.request('GET', seriesRequest)\n",
    "    responseData = json.loads(response.data.decode('UTF-8'))\n",
    "    \n",
    "    pageSize = 500\n",
    "    nPages = math.floor(responseData['totalElements'] / pageSize) + 1\n",
    "    totalElements = responseData['totalElements']\n",
    "    \n",
    "    return {'series' : seriesCode,\n",
    "            'totalElements' : totalElements,\n",
    "            'nPages' : nPages, \n",
    "            'pageSize' : pageSize\n",
    "           }\n"
   ]
  },
  {
   "cell_type": "code",
   "execution_count": 12,
   "metadata": {},
   "outputs": [
    {
     "name": "stderr",
     "output_type": "stream",
     "text": [
      "/opt/conda/lib/python3.7/site-packages/urllib3/connectionpool.py:847: InsecureRequestWarning: Unverified HTTPS request is being made. Adding certificate verification is strongly advised. See: https://urllib3.readthedocs.io/en/latest/advanced-usage.html#ssl-warnings\n",
      "  InsecureRequestWarning)\n"
     ]
    },
    {
     "data": {
      "text/plain": [
       "{'series': 'SI_POV_DAY1', 'totalElements': 1393, 'nPages': 3, 'pageSize': 500}"
      ]
     },
     "execution_count": 12,
     "metadata": {},
     "output_type": "execute_result"
    }
   ],
   "source": [
    "x = series_request_details(series_list[0]['seriesCode'])\n",
    "x"
   ]
  },
  {
   "cell_type": "markdown",
   "metadata": {},
   "source": [
    "#### Get the list of attributes and dimensions for the series, with their respective code lists:"
   ]
  },
  {
   "cell_type": "code",
   "execution_count": 13,
   "metadata": {},
   "outputs": [
    {
     "name": "stderr",
     "output_type": "stream",
     "text": [
      "/opt/conda/lib/python3.7/site-packages/urllib3/connectionpool.py:847: InsecureRequestWarning: Unverified HTTPS request is being made. Adding certificate verification is strongly advised. See: https://urllib3.readthedocs.io/en/latest/advanced-usage.html#ssl-warnings\n",
      "  InsecureRequestWarning)\n"
     ]
    },
    {
     "data": {
      "text/plain": [
       "[{'id': 'Nature',\n",
       "  'codes': [{'code': 'G',\n",
       "    'description': 'Global monitoring data',\n",
       "    'sdmx': 'G'}]},\n",
       " {'id': 'Units',\n",
       "  'codes': [{'code': 'PERCENT',\n",
       "    'description': 'Percentage',\n",
       "    'sdmx': 'PERCENT'}]}]"
      ]
     },
     "execution_count": 13,
     "metadata": {},
     "output_type": "execute_result"
    }
   ],
   "source": [
    "seriesRequest = 'https://unstats.un.org/SDGAPI/v1/sdg/Series/Data?seriesCode=' + 'SI_POV_DAY1' + \"&pageSize=2\"\n",
    "\n",
    "response = http.request('GET', seriesRequest)\n",
    "responseData = json.loads(response.data.decode('UTF-8'))\n",
    "\n",
    "series_attributes = responseData['attributes']\n",
    "series_dimensions = responseData['dimensions']\n",
    "\n",
    "series_attributes\n"
   ]
  },
  {
   "cell_type": "code",
   "execution_count": 14,
   "metadata": {},
   "outputs": [],
   "source": [
    "def series_code_lists(seriesCode):\n",
    "    \n",
    "    seriesRequest = 'https://unstats.un.org/SDGAPI/v1/sdg/Series/Data?seriesCode=' + seriesCode + \"&pageSize=2\"\n",
    "    \n",
    "    response = http.request('GET', seriesRequest)\n",
    "    responseData = json.loads(response.data.decode('UTF-8'))\n",
    "    \n",
    "    series_attributes = responseData['attributes']\n",
    "    series_dimensions = responseData['dimensions']\n",
    "    \n",
    "    new_dict = {}\n",
    "    \n",
    "    new_dict['series'] = seriesCode\n",
    "    \n",
    "    for a in series_attributes:\n",
    "        codelist_dict = {}\n",
    "        for c in a['codes']:\n",
    "            codelist_dict[c['sdmx']] = c['description']\n",
    "        new_dict[a['id']] = codelist_dict\n",
    "    \n",
    "    for d in series_dimensions:\n",
    "        codelist_dict = {}\n",
    "        for c in d['codes']:\n",
    "            codelist_dict[c['sdmx']] = c['description']\n",
    "        new_dict[d['id']] = codelist_dict\n",
    "        \n",
    "    return new_dict\n"
   ]
  },
  {
   "cell_type": "code",
   "execution_count": 15,
   "metadata": {},
   "outputs": [
    {
     "name": "stderr",
     "output_type": "stream",
     "text": [
      "/opt/conda/lib/python3.7/site-packages/urllib3/connectionpool.py:847: InsecureRequestWarning: Unverified HTTPS request is being made. Adding certificate verification is strongly advised. See: https://urllib3.readthedocs.io/en/latest/advanced-usage.html#ssl-warnings\n",
      "  InsecureRequestWarning)\n"
     ]
    },
    {
     "data": {
      "text/plain": [
       "{'series': 'SI_POV_DAY1',\n",
       " 'Nature': {'G': 'Global monitoring data'},\n",
       " 'Units': {'PERCENT': 'Percentage'},\n",
       " 'Reporting Type': {'N': 'National', 'G': 'Global'}}"
      ]
     },
     "execution_count": 15,
     "metadata": {},
     "output_type": "execute_result"
    }
   ],
   "source": [
    "x = series_code_lists(series_list[0]['seriesCode'])\n",
    "x"
   ]
  },
  {
   "cell_type": "markdown",
   "metadata": {},
   "source": [
    "#### Build query string to collect data for a specific series from the global SDG API"
   ]
  },
  {
   "cell_type": "code",
   "execution_count": 16,
   "metadata": {},
   "outputs": [],
   "source": [
    "def series_query(seriesCode, page, pageSize):\n",
    "    queryString =  r'https://unstats.un.org/SDGAPI/v1/sdg/Series/Data?seriesCode=' + seriesCode + '&page=' + str(page) + '&pageSize=' + str(pageSize)\n",
    "    response = http.request('GET', queryString)\n",
    "    responseData =  json.loads(response.data.decode('UTF-8'))\n",
    "    return(responseData)"
   ]
  },
  {
   "cell_type": "markdown",
   "metadata": {},
   "source": [
    "#### Get data for a specific series from the API\n",
    "*(!) Notice that a data point may appear more than once if it belongs to a \"multi-purpose indicator\"*"
   ]
  },
  {
   "cell_type": "code",
   "execution_count": 17,
   "metadata": {},
   "outputs": [],
   "source": [
    "def series_data(seriesCode):\n",
    "    x = series_request_details(seriesCode)\n",
    "    series_data = []\n",
    "    if x['totalElements'] > 0:\n",
    "        for p in range(x['nPages']):\n",
    "            print(\"---Series \" + seriesCode + \": Processing page \" + str(p+1) + \" of \" + str(x['nPages']))\n",
    "            responseData =  series_query(seriesCode, p+1, x['pageSize'])\n",
    "            if len(responseData['data'])>0:\n",
    "                series_data = series_data + responseData['data'] \n",
    "    return series_data"
   ]
  },
  {
   "cell_type": "code",
   "execution_count": 18,
   "metadata": {},
   "outputs": [
    {
     "name": "stderr",
     "output_type": "stream",
     "text": [
      "/opt/conda/lib/python3.7/site-packages/urllib3/connectionpool.py:847: InsecureRequestWarning: Unverified HTTPS request is being made. Adding certificate verification is strongly advised. See: https://urllib3.readthedocs.io/en/latest/advanced-usage.html#ssl-warnings\n",
      "  InsecureRequestWarning)\n"
     ]
    },
    {
     "name": "stdout",
     "output_type": "stream",
     "text": [
      "---Series SI_POV_DAY1: Processing page 1 of 3\n"
     ]
    },
    {
     "name": "stderr",
     "output_type": "stream",
     "text": [
      "/opt/conda/lib/python3.7/site-packages/urllib3/connectionpool.py:847: InsecureRequestWarning: Unverified HTTPS request is being made. Adding certificate verification is strongly advised. See: https://urllib3.readthedocs.io/en/latest/advanced-usage.html#ssl-warnings\n",
      "  InsecureRequestWarning)\n"
     ]
    },
    {
     "name": "stdout",
     "output_type": "stream",
     "text": [
      "---Series SI_POV_DAY1: Processing page 2 of 3\n"
     ]
    },
    {
     "name": "stderr",
     "output_type": "stream",
     "text": [
      "/opt/conda/lib/python3.7/site-packages/urllib3/connectionpool.py:847: InsecureRequestWarning: Unverified HTTPS request is being made. Adding certificate verification is strongly advised. See: https://urllib3.readthedocs.io/en/latest/advanced-usage.html#ssl-warnings\n",
      "  InsecureRequestWarning)\n"
     ]
    },
    {
     "name": "stdout",
     "output_type": "stream",
     "text": [
      "---Series SI_POV_DAY1: Processing page 3 of 3\n"
     ]
    },
    {
     "name": "stderr",
     "output_type": "stream",
     "text": [
      "/opt/conda/lib/python3.7/site-packages/urllib3/connectionpool.py:847: InsecureRequestWarning: Unverified HTTPS request is being made. Adding certificate verification is strongly advised. See: https://urllib3.readthedocs.io/en/latest/advanced-usage.html#ssl-warnings\n",
      "  InsecureRequestWarning)\n"
     ]
    }
   ],
   "source": [
    "#x = series_data(series_list[0]['seriesCode'])\n",
    "x = series_data('SI_POV_DAY1')\n"
   ]
  },
  {
   "cell_type": "markdown",
   "metadata": {},
   "source": [
    "#### Flatten the dictionary, extracting individual attributes and dimensions as key-value pairs in their own right."
   ]
  },
  {
   "cell_type": "code",
   "execution_count": 19,
   "metadata": {},
   "outputs": [],
   "source": [
    "def flat_series_data(seriesCode):\n",
    "    new_x = []\n",
    "    for d in series_data(seriesCode):\n",
    "        new_d = {}\n",
    "        for key, value in d.items():\n",
    "            if type(value) is list:\n",
    "                new_d[key] = ', '.join(value)\n",
    "            elif type(value) is dict:\n",
    "                for k, v in value.items():\n",
    "                    new_d[k] = v\n",
    "            else:\n",
    "                new_d[key] = value\n",
    "        new_x.append(new_d)\n",
    "    return new_x"
   ]
  },
  {
   "cell_type": "code",
   "execution_count": 20,
   "metadata": {},
   "outputs": [
    {
     "name": "stderr",
     "output_type": "stream",
     "text": [
      "/opt/conda/lib/python3.7/site-packages/urllib3/connectionpool.py:847: InsecureRequestWarning: Unverified HTTPS request is being made. Adding certificate verification is strongly advised. See: https://urllib3.readthedocs.io/en/latest/advanced-usage.html#ssl-warnings\n",
      "  InsecureRequestWarning)\n"
     ]
    },
    {
     "name": "stdout",
     "output_type": "stream",
     "text": [
      "---Series SI_POV_DAY1: Processing page 1 of 3\n"
     ]
    },
    {
     "name": "stderr",
     "output_type": "stream",
     "text": [
      "/opt/conda/lib/python3.7/site-packages/urllib3/connectionpool.py:847: InsecureRequestWarning: Unverified HTTPS request is being made. Adding certificate verification is strongly advised. See: https://urllib3.readthedocs.io/en/latest/advanced-usage.html#ssl-warnings\n",
      "  InsecureRequestWarning)\n"
     ]
    },
    {
     "name": "stdout",
     "output_type": "stream",
     "text": [
      "---Series SI_POV_DAY1: Processing page 2 of 3\n"
     ]
    },
    {
     "name": "stderr",
     "output_type": "stream",
     "text": [
      "/opt/conda/lib/python3.7/site-packages/urllib3/connectionpool.py:847: InsecureRequestWarning: Unverified HTTPS request is being made. Adding certificate verification is strongly advised. See: https://urllib3.readthedocs.io/en/latest/advanced-usage.html#ssl-warnings\n",
      "  InsecureRequestWarning)\n"
     ]
    },
    {
     "name": "stdout",
     "output_type": "stream",
     "text": [
      "---Series SI_POV_DAY1: Processing page 3 of 3\n"
     ]
    },
    {
     "name": "stderr",
     "output_type": "stream",
     "text": [
      "/opt/conda/lib/python3.7/site-packages/urllib3/connectionpool.py:847: InsecureRequestWarning: Unverified HTTPS request is being made. Adding certificate verification is strongly advised. See: https://urllib3.readthedocs.io/en/latest/advanced-usage.html#ssl-warnings\n",
      "  InsecureRequestWarning)\n"
     ]
    },
    {
     "data": {
      "text/plain": [
       "{'goal': '1',\n",
       " 'target': '1.1',\n",
       " 'indicator': '1.1.1',\n",
       " 'series': 'SI_POV_DAY1',\n",
       " 'seriesDescription': 'Proportion of population below international poverty line (%)',\n",
       " 'seriesCount': '1393',\n",
       " 'geoAreaCode': '8',\n",
       " 'geoAreaName': 'Albania',\n",
       " 'timePeriodStart': 1996.0,\n",
       " 'value': '1.1',\n",
       " 'valueType': 'Float',\n",
       " 'time_detail': None,\n",
       " 'source': 'World Bank, Development Research Group. Data are based on primary household survey data obtained from government statistical agencies and World Bank country departments. Data for high-income economies are from the Luxembourg Income Study database. For more information and methodology, please see PovcalNet (http://iresearch.worldbank.org/PovcalNet/index.htm). Accessed 01 November 2018, World Development Indicators Database.',\n",
       " 'footnotes': '',\n",
       " 'Nature': 'G',\n",
       " 'Units': 'PERCENT',\n",
       " 'Reporting Type': 'G'}"
      ]
     },
     "execution_count": 20,
     "metadata": {},
     "output_type": "execute_result"
    }
   ],
   "source": [
    "flat_series_data('SI_POV_DAY1')[0]"
   ]
  },
  {
   "cell_type": "markdown",
   "metadata": {},
   "source": []
  },
  {
   "cell_type": "code",
   "execution_count": null,
   "metadata": {},
   "outputs": [],
   "source": [
    "def series_dataset(seriesCode, indicatorCode):\n",
    "    \n",
    "    series_dataset = []\n",
    "        \n",
    "    for k in [d for d in series_data(seriesCode) if d['indicator'][0] == indicatorCode]:  # this is to avoid duplicates in multipurpose indicators\n",
    "                \n",
    "        record = collections.OrderedDict()\n",
    "        \n",
    "        for ss in s.keys():\n",
    "            key_name = \"%s%s\" % (ss[0].upper(), ss[1:])\n",
    "   \n",
    "            record[key_name] = s[ss]\n",
    "            \n",
    "        value_dimensions = k['dimensions']\n",
    "        \n",
    "        for d in value_dimensions.keys():\n",
    "             dimension_name = d\n",
    "             dimension_code = value_dimensions[d]\n",
    "             \n",
    "             for dd in series_dimensions:\n",
    "                 if dd['id'] == dimension_name:\n",
    "                     for cc in dd['codes']:\n",
    "                         if cc['code'] == dimension_code:\n",
    "                             dimension_desc = cc['description']\n",
    "                             continue\n",
    "                         \n",
    "             dimension_name = ''.join(x for x in dimension_name.title() if not x.isspace())\n",
    "             \n",
    "             record[dimension_name + \"_Code\"] = dimension_code \n",
    "             record[dimension_name + \"_Desc\"] = dimension_desc\n",
    "        \n",
    "        \n",
    "        value_attributes = k['attributes']\n",
    "        \n",
    "        for a in value_attributes.keys():\n",
    "             attribute_name = a\n",
    "             attribute_code = value_attributes[a]\n",
    "             \n",
    "             for aa in series_attributes:\n",
    "                 if aa['id'] == attribute_name:\n",
    "                     for cc in aa['codes']:\n",
    "                         if cc['code'] == attribute_code:\n",
    "                             attribute_desc = cc['description']\n",
    "                             continue\n",
    "                         \n",
    "             attribute_name = ''.join(x for x in attribute_name.title() if not x.isspace())\n",
    "             \n",
    "             record[attribute_name + \"_Code\"] = attribute_code \n",
    "             record[attribute_name + \"_Desc\"] = attribute_desc\n",
    "        \n",
    "        \n",
    "                 \n",
    "        data_items = [ 'geoAreaCode', 'geoAreaName','timePeriodStart', 'time_detail','value', 'valueType', 'source',  'footnotes']\n",
    "        \n",
    "        for i in data_items:\n",
    "            key_name = ''.join(x for x in i.title())\n",
    "            \n",
    "            if i == 'geoAreaCode': \n",
    "                key_name = 'GeoArea_Code'\n",
    "            if i == 'geoAreaName': \n",
    "                key_name = 'GeoArea_Desc'\n",
    "            if i == 'source': \n",
    "                key_name = 'Source'\n",
    "            if i == 'timePeriodStart': \n",
    "                key_name = 'Year'\n",
    "            if i == 'time_detail':\n",
    "                key_name = 'TimeDetail'\n",
    "            if i == 'footnotes' : \n",
    "                key_name = 'Footnotes'\n",
    "                k[i] =  \"; \".join(k[i])\n",
    "            if i == 'value' : \n",
    "                key_name = 'Value'\n",
    "            if i == 'valueType': \n",
    "                key_name = 'ValueType'\n",
    "                \n",
    "            record[key_name] = k[i]  \n",
    "        \n",
    "        for xy in countryListXY:\n",
    "            if xy['geoAreaCode'] == record['GeoArea_Code']:\n",
    "                record['ISO3CD'] = xy['ISO3CD']\n",
    "                record['X'] = xy['X']\n",
    "                record['Y'] = xy['Y']\n",
    "            continue\n",
    "        \n",
    "        series_dataset.append(record)\n",
    "     \n",
    "    try:\n",
    "        with open('data\\\\csv\\\\'+ record['IndicatorCode'] + \"-\" + s['seriesCode']+'_long.csv', 'w', newline='') as outfile:\n",
    "            fp = csv.DictWriter(outfile, series_dataset[0].keys(), quoting=csv.QUOTE_NONNUMERIC)\n",
    "            fp.writeheader()\n",
    "            fp.writerows(series_dataset)\n",
    "            \n",
    "            print('=====FINISHED WRITING SERIES ' + record['SeriesCode'] + ' TO FILE=====')\n",
    "            \n",
    "              \n",
    "          \n",
    "    \n",
    "    except:\n",
    "        \n",
    "        error_log.append(record['SeriesCode'])\n",
    "        \n",
    "        print('=====SERIES ' + record['SeriesCode'] + ' COULD NOT BE WRITTEN TO FILE=====')\n",
    "        \n"
   ]
  },
  {
   "cell_type": "code",
   "execution_count": null,
   "metadata": {},
   "outputs": [],
   "source": []
  }
 ],
 "metadata": {
  "kernelspec": {
   "display_name": "Python 3",
   "language": "python",
   "name": "python3"
  },
  "language_info": {
   "codemirror_mode": {
    "name": "ipython",
    "version": 3
   },
   "file_extension": ".py",
   "mimetype": "text/x-python",
   "name": "python",
   "nbconvert_exporter": "python",
   "pygments_lexer": "ipython3",
   "version": "3.7.1"
  }
 },
 "nbformat": 4,
 "nbformat_minor": 2
}
