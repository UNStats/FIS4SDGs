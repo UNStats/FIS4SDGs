{
 "cells": [
  {
   "cell_type": "markdown",
   "metadata": {},
   "source": [
    "# Pivoting script\n",
    "This script pivots into \"wide\" format and split regional and country data "
   ]
  },
  {
   "cell_type": "markdown",
   "metadata": {},
   "source": [
    "## Load necessary libraries"
   ]
  },
  {
   "cell_type": "code",
   "execution_count": null,
   "metadata": {},
   "outputs": [],
   "source": [
    "import csv\n",
    "import json\n",
    "import urllib3  # allows to access a URL with python\n",
    "import math\n",
    "import os\n",
    "import io\n",
    "import collections\n",
    "import copy\n",
    "import numpy as np\n",
    "import pandas as pd\n",
    "import xlsxwriter\n",
    "\n",
    "# https://volderette.de/jupyter-notebook-tip-multiple-outputs/\n",
    "from IPython.core.interactiveshell import InteractiveShell\n",
    "InteractiveShell.ast_node_interactivity = \"all\"\n"
   ]
  },
  {
   "cell_type": "markdown",
   "metadata": {},
   "source": [
    "## User parameters"
   ]
  },
  {
   "cell_type": "code",
   "execution_count": null,
   "metadata": {},
   "outputs": [],
   "source": [
    "release = '2019.Q1.G.02' # Make sure to have the correct release here\n",
    "\n",
    "dir_path = os.path.dirname(os.path.realpath('__file__'))\n",
    "print(dir_path)\n",
    "\n",
    "wd_dir = r'../'\n",
    "print('Main dir: ' + wd_dir)"
   ]
  },
  {
   "cell_type": "markdown",
   "metadata": {},
   "source": [
    "## Utilities"
   ]
  },
  {
   "cell_type": "markdown",
   "metadata": {},
   "source": [
    "#### Convert string to camelCase"
   ]
  },
  {
   "cell_type": "code",
   "execution_count": null,
   "metadata": {},
   "outputs": [],
   "source": [
    "def camelCase(st):\n",
    "    \"\"\"\n",
    "    https://stackoverflow.com/questions/8347048/camelcase-every-string-any-standard-library\n",
    "    \n",
    "    \"\"\"\n",
    "    output = ''.join(x for x in st.title() if x.isalnum())\n",
    "    return output[0].lower() + output[1:]"
   ]
  },
  {
   "cell_type": "markdown",
   "metadata": {},
   "source": [
    "## Create `JSON` with metadata on each long data table"
   ]
  },
  {
   "cell_type": "markdown",
   "metadata": {},
   "source": [
    "### Read list of excel files with data for each series"
   ]
  },
  {
   "cell_type": "code",
   "execution_count": null,
   "metadata": {},
   "outputs": [],
   "source": [
    "path = wd_dir + r'data/' + release + '/' \n",
    "files = os.listdir(path)\n",
    "files[0:10]"
   ]
  },
  {
   "cell_type": "code",
   "execution_count": null,
   "metadata": {},
   "outputs": [],
   "source": []
  },
  {
   "cell_type": "markdown",
   "metadata": {},
   "source": [
    "### For a selected file:"
   ]
  },
  {
   "cell_type": "markdown",
   "metadata": {},
   "source": [
    "#### 1)  Convert content of data file into a pandas DataFrame"
   ]
  },
  {
   "cell_type": "code",
   "execution_count": null,
   "metadata": {},
   "outputs": [],
   "source": [
    "f = 'Data_1.5.2_VC_DSR_LSGP.xlsx'\n",
    "\n",
    "xlsx = pd.ExcelFile(path + f)\n",
    "x = pd.read_excel(xlsx, 'Sheet1')\n",
    "x.shape\n",
    "x.head(3)\n",
    "\n"
   ]
  },
  {
   "cell_type": "markdown",
   "metadata": {},
   "source": [
    "#### 2) Keep only rows with non-null value:"
   ]
  },
  {
   "cell_type": "code",
   "execution_count": null,
   "metadata": {},
   "outputs": [],
   "source": [
    "x = x[x.value.notnull()]\n",
    "x = x.reset_index(drop=True)\n",
    "x.shape\n",
    "x.head(3)"
   ]
  },
  {
   "cell_type": "code",
   "execution_count": null,
   "metadata": {},
   "outputs": [],
   "source": [
    "def read_excel_file(path,fileName):\n",
    "    xlsx = pd.ExcelFile(path + fileName)\n",
    "    x = pd.read_excel(xlsx, 'Sheet1')\n",
    "    x = x[x.value.notnull()]\n",
    "    x = x.reset_index(drop=True)\n",
    "    return x"
   ]
  },
  {
   "cell_type": "markdown",
   "metadata": {},
   "source": [
    "#### Add series metadata"
   ]
  },
  {
   "cell_type": "code",
   "execution_count": null,
   "metadata": {},
   "outputs": [],
   "source": [
    "def add_series_metadata(dict,x):\n",
    "    series_metadata = ['goalCode', 'goalDesc', 'targetCode', 'targetDesc', 'indicatorCode',\n",
    "                  'indicatorDesc', 'indicatorTier', 'seriesCode', 'seriesDesc', 'seriesRelease']\n",
    "\n",
    "    for i in series_metadata:\n",
    "        dict[i] = x[i][0]\n",
    "    return dict\n",
    "\n",
    "    "
   ]
  },
  {
   "cell_type": "markdown",
   "metadata": {},
   "source": [
    "#### Add time-coverage metadata"
   ]
  },
  {
   "cell_type": "code",
   "execution_count": null,
   "metadata": {},
   "outputs": [],
   "source": [
    "def add_time_coverage_metadata(dict,x):\n",
    "    time_coverage = list(pd.unique(x['timePeriod']))\n",
    "    time_coverage.sort()\n",
    "    dict['time_coverage'] = time_coverage\n",
    "    return dict"
   ]
  },
  {
   "cell_type": "markdown",
   "metadata": {},
   "source": [
    "#### Add geographic coverage for groups, regions and countries"
   ]
  },
  {
   "cell_type": "code",
   "execution_count": null,
   "metadata": {},
   "outputs": [],
   "source": [
    "def add_geo_coverage(dict,x):\n",
    "    \n",
    "    geo = x[['geoAreaCode', 'geoAreaName','type']].drop_duplicates()\n",
    "\n",
    "    groups = geo[['geoAreaCode', 'geoAreaName']][geo.type == 'Group']\n",
    "    regions = geo[['geoAreaCode', 'geoAreaName']][geo.type == 'Region']\n",
    "    countries = geo[['geoAreaCode', 'geoAreaName']][geo.type == 'Country']\n",
    "\n",
    "    dict['geo_coverage_groups'] = groups.to_dict('records')\n",
    "    dict['geo_coverage_regions'] = regions.to_dict('records')\n",
    "    dict['geo_coverage_countries'] = countries.to_dict('records')\n",
    "\n",
    "    return dict\n"
   ]
  },
  {
   "cell_type": "markdown",
   "metadata": {},
   "source": [
    "#### Add specification of slices included in the file"
   ]
  },
  {
   "cell_type": "code",
   "execution_count": null,
   "metadata": {},
   "outputs": [],
   "source": [
    "def add_slices_metadata(dict,x):\n",
    "\n",
    "    disaggregations = np.setdiff1d(x.columns,['goalCode', 'goalDesc', \n",
    "                                              'targetCode', 'targetDesc', \n",
    "                                              'indicatorCode','indicatorDesc', 'indicatorTier', \n",
    "                                              'seriesRelease', \n",
    "                                              'timePeriod', \n",
    "                                              'geoAreaCode', 'geoAreaName','level', 'parentCode', 'parentName', 'type', 'CountryProfile', 'ISO3CD','UNMember', 'X', 'Y', \n",
    "                                              'value', 'valueType', \n",
    "                                              'timeDetail', 'source','footnotes', 'natureCode', 'unitsCode', 'natureDesc', 'unitsDesc'])\n",
    "\n",
    "    disaggregations = list(disaggregations)\n",
    "    disaggregations_new = copy.deepcopy(disaggregations)\n",
    "\n",
    "    for i in range(len(disaggregations)):\n",
    "        d = disaggregations[i] \n",
    "        if d[-4:] == 'Desc':\n",
    "            disaggregations_new.remove(d)\n",
    "\n",
    "    slices = x[disaggregations_new].drop_duplicates()\n",
    "    slices = slices.reset_index(drop=True)\n",
    "\n",
    "    dict['slices'] = slices.to_dict('records')\n",
    "\n",
    "    return dict\n",
    "\n",
    "\n",
    "    "
   ]
  },
  {
   "cell_type": "markdown",
   "metadata": {},
   "source": [
    "#### Create file metadata dictionary"
   ]
  },
  {
   "cell_type": "code",
   "execution_count": null,
   "metadata": {},
   "outputs": [],
   "source": [
    "def file_metadata(path, fileName):\n",
    "    \n",
    "    x = read_excel_file(path,fileName)\n",
    "   \n",
    "    dict = {}\n",
    "    dict['fileName'] = fileName\n",
    "    dict = add_series_metadata(dict,x)\n",
    "    dict = add_slices_metadata(dict,x)\n",
    "    dict = add_time_coverage_metadata(dict,x)\n",
    "    dict = add_geo_coverage(dict,x)    \n",
    "    return dict\n",
    "\n",
    "\n",
    "    "
   ]
  },
  {
   "cell_type": "code",
   "execution_count": null,
   "metadata": {},
   "outputs": [],
   "source": [
    "file_metadata( path , 'Data_1.5.2_VC_DSR_LSGP.xlsx')"
   ]
  },
  {
   "cell_type": "code",
   "execution_count": null,
   "metadata": {},
   "outputs": [],
   "source": [
    "file_metadata_set = {}\n",
    "for f in files:\n",
    "    print(\"creating metadata entry for file \" + f + \" (\" + str(counter_f) + \" of \" + str(len(files)) + \")\")\n",
    "    file_metadata_set.append(file_metadata( path , f))\n",
    "    \n"
   ]
  },
  {
   "cell_type": "code",
   "execution_count": null,
   "metadata": {},
   "outputs": [],
   "source": [
    "\n",
    "    "
   ]
  }
 ],
 "metadata": {
  "kernelspec": {
   "display_name": "Python 3",
   "language": "python",
   "name": "python3"
  },
  "language_info": {
   "codemirror_mode": {
    "name": "ipython",
    "version": 3
   },
   "file_extension": ".py",
   "mimetype": "text/x-python",
   "name": "python",
   "nbconvert_exporter": "python",
   "pygments_lexer": "ipython3",
   "version": "3.6.8"
  }
 },
 "nbformat": 4,
 "nbformat_minor": 2
}
