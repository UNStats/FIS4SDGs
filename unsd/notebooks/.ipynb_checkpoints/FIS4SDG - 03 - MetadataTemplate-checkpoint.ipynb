{
 "cells": [
  {
   "cell_type": "markdown",
   "metadata": {},
   "source": [
    "# Update metadata file\n",
    "\n",
    "This script allows to update the metadata file\n",
    "- Get new list of series"
   ]
  },
  {
   "cell_type": "markdown",
   "metadata": {},
   "source": [
    "## Load necessary libraries"
   ]
  },
  {
   "cell_type": "code",
   "execution_count": 29,
   "metadata": {},
   "outputs": [],
   "source": [
    "import csv\n",
    "import json\n",
    "import urllib3  # allows to access a URL with python\n",
    "import math\n",
    "import os\n",
    "import io\n",
    "import collections\n",
    "import copy\n",
    "import numpy as np\n",
    "import pandas as pd\n",
    "import re\n",
    "from collections import OrderedDict\n",
    "import xlsxwriter\n",
    "\n",
    "# https://volderette.de/jupyter-notebook-tip-multiple-outputs/\n",
    "from IPython.core.interactiveshell import InteractiveShell\n",
    "InteractiveShell.ast_node_interactivity = \"all\"\n"
   ]
  },
  {
   "cell_type": "markdown",
   "metadata": {},
   "source": [
    "## Working directory"
   ]
  },
  {
   "cell_type": "code",
   "execution_count": 7,
   "metadata": {},
   "outputs": [
    {
     "name": "stdout",
     "output_type": "stream",
     "text": [
      "C:\\Users\\L.GonzalezMorales\\Documents\\GitHub\\FIS4SDGs\\unsd\\notebooks\n",
      "Main dir: ../\n"
     ]
    }
   ],
   "source": [
    "dir_path = os.path.dirname(os.path.realpath('__file__'))\n",
    "print(dir_path)\n",
    "\n",
    "wd_dir = r'../'\n",
    "print('Main dir: ' + wd_dir)"
   ]
  },
  {
   "cell_type": "markdown",
   "metadata": {},
   "source": [
    "## Utilities"
   ]
  },
  {
   "cell_type": "markdown",
   "metadata": {},
   "source": [
    "#### Convert string to camelCase"
   ]
  },
  {
   "cell_type": "code",
   "execution_count": 8,
   "metadata": {},
   "outputs": [],
   "source": [
    "def camelCase(st):\n",
    "    \"\"\"\n",
    "    https://stackoverflow.com/questions/8347048/camelcase-every-string-any-standard-library\n",
    "    \n",
    "    \"\"\"\n",
    "    output = ''.join(x for x in st.title() if x.isalnum())\n",
    "    return output[0].lower() + output[1:]"
   ]
  },
  {
   "cell_type": "markdown",
   "metadata": {},
   "source": [
    "## Read old `metadata.json`"
   ]
  },
  {
   "cell_type": "code",
   "execution_count": 9,
   "metadata": {},
   "outputs": [
    {
     "data": {
      "text/plain": [
       "{'goalCode': 1,\n",
       " 'goalDescription': 'End poverty in all its forms everywhere',\n",
       " 'targetCode': '1.1',\n",
       " 'targetDescription': 'By 2030, eradicate extreme poverty for all people everywhere, currently measured as people living on less than $1.25 a day',\n",
       " 'indicatorCode': '1.1.1',\n",
       " 'indicatorDescription': 'Proportion of population below the international poverty line, by sex, age, employment status and geographical location (urban/rural)',\n",
       " 'seriesCode': 'SI_POV_DAY1',\n",
       " 'seriesDescription': 'Proportion of population below international poverty line (%)',\n",
       " 'seriesRelease': '2018.Q2.G.01',\n",
       " 'TAGS': ['poverty line', 'poverty', 'standard of living', 'basic needs'],\n",
       " 'hex': 'e5243b',\n",
       " 'rgb': [229, 36, 59],\n",
       " 'iconUrl': 'https://raw.githubusercontent.com/UNStats/FIS4SDGs/master/globalResources/sdgIcons/SDG01.png',\n",
       " 'ColorScheme': ['FFDA99',\n",
       "  'FAC590',\n",
       "  'F5967F',\n",
       "  'F1786E',\n",
       "  'ED5C5E',\n",
       "  'E5233D',\n",
       "  'BF162F',\n",
       "  '93071F'],\n",
       " 'ColorSchemeCredits': \"Prepared by Sarah Bell, Esri's Cartography Lab, 27 July 2017\"}"
      ]
     },
     "execution_count": 9,
     "metadata": {},
     "output_type": "execute_result"
    }
   ],
   "source": [
    "json_file = open(wd_dir + 'metadata.json')\n",
    "json_str = json_file.read()\n",
    "metadata_old = json.loads(json_str)\n",
    "metadata_old[0]"
   ]
  },
  {
   "cell_type": "markdown",
   "metadata": {},
   "source": [
    "### Extract icons and color scheme for each of 17 goals"
   ]
  },
  {
   "cell_type": "code",
   "execution_count": 10,
   "metadata": {},
   "outputs": [
    {
     "data": {
      "text/plain": [
       "{'goalCode': '1',\n",
       " 'hex': 'e5243b',\n",
       " 'rgb': [229, 36, 59],\n",
       " 'iconUrl': 'https://raw.githubusercontent.com/UNStats/FIS4SDGs/master/globalResources/sdgIcons/SDG01.png',\n",
       " 'ColorScheme': ['FFDA99',\n",
       "  'FAC590',\n",
       "  'F5967F',\n",
       "  'F1786E',\n",
       "  'ED5C5E',\n",
       "  'E5233D',\n",
       "  'BF162F',\n",
       "  '93071F'],\n",
       " 'ColorSchemeCredits': \"Prepared by Sarah Bell, Esri's Cartography Lab, 27 July 2017\"}"
      ]
     },
     "execution_count": 10,
     "metadata": {},
     "output_type": "execute_result"
    }
   ],
   "source": [
    "sdg_colors = []\n",
    "goalCode = None\n",
    "\n",
    "for m in metadata_old:\n",
    "    \n",
    "    if str(m['goalCode']) == goalCode:\n",
    "        continue\n",
    "\n",
    "    goalCode = str(m['goalCode'])\n",
    "    \n",
    "    dict = {}\n",
    "    \n",
    "    dict['goalCode'] = goalCode\n",
    "    dict['hex'] = m['hex']\n",
    "    dict['rgb'] = m['rgb']\n",
    "    dict['iconUrl'] = m['iconUrl'] \n",
    "    dict['ColorScheme'] = m['ColorScheme']\n",
    "    dict['ColorSchemeCredits'] = m['ColorSchemeCredits']\n",
    "    \n",
    "    sdg_colors.append(dict)\n",
    "    \n",
    "sdg_colors[0]\n",
    "    \n",
    "    \n",
    "    \n",
    "    \n",
    "    \n",
    "    "
   ]
  },
  {
   "cell_type": "markdown",
   "metadata": {},
   "source": [
    "## Read `file_metadata.json`\n",
    "\n",
    "This json file was produced with script `FIS4SDG - 02 - fileMetadataipynb` and contains the description of latest dataset files extracted from the SDG API"
   ]
  },
  {
   "cell_type": "code",
   "execution_count": 12,
   "metadata": {},
   "outputs": [
    {
     "data": {
      "text/plain": [
       "dict_keys(['fileName', 'goalCode', 'goalDesc', 'targetCode', 'targetDesc', 'indicatorCode', 'indicatorDesc', 'indicatorTier', 'seriesCode', 'seriesDesc', 'seriesRelease', 'slices', 'time_coverage', 'geo_coverage_groups', 'geo_coverage_regions', 'geo_coverage_countries'])"
      ]
     },
     "execution_count": 12,
     "metadata": {},
     "output_type": "execute_result"
    }
   ],
   "source": [
    "json_file = open(wd_dir + 'data/file_metadata.json')\n",
    "json_str = json_file.read()\n",
    "dataset_metadata = json.loads(json_str)\n",
    "dataset_metadata[0].keys()"
   ]
  },
  {
   "cell_type": "markdown",
   "metadata": {},
   "source": [
    "### Create a metadata template file for the current data release"
   ]
  },
  {
   "cell_type": "code",
   "execution_count": 14,
   "metadata": {},
   "outputs": [
    {
     "data": {
      "text/html": [
       "<div>\n",
       "<style scoped>\n",
       "    .dataframe tbody tr th:only-of-type {\n",
       "        vertical-align: middle;\n",
       "    }\n",
       "\n",
       "    .dataframe tbody tr th {\n",
       "        vertical-align: top;\n",
       "    }\n",
       "\n",
       "    .dataframe thead th {\n",
       "        text-align: right;\n",
       "    }\n",
       "</style>\n",
       "<table border=\"1\" class=\"dataframe\">\n",
       "  <thead>\n",
       "    <tr style=\"text-align: right;\">\n",
       "      <th></th>\n",
       "      <th>goalCode</th>\n",
       "      <th>goalDesc</th>\n",
       "      <th>targetCode</th>\n",
       "      <th>targetDesc</th>\n",
       "      <th>indicatorCode</th>\n",
       "      <th>indicatorDesc</th>\n",
       "      <th>indicatorTier</th>\n",
       "      <th>seriesCode</th>\n",
       "      <th>seriesDesc</th>\n",
       "      <th>seriesRelease</th>\n",
       "      <th>...</th>\n",
       "      <th>hex</th>\n",
       "      <th>rgb</th>\n",
       "      <th>iconUrl</th>\n",
       "      <th>ColorScheme</th>\n",
       "      <th>ColorSchemeCredits</th>\n",
       "      <th>slices</th>\n",
       "      <th>time_coverage</th>\n",
       "      <th>geo_coverage_groups</th>\n",
       "      <th>geo_coverage_regions</th>\n",
       "      <th>geo_coverage_countries</th>\n",
       "    </tr>\n",
       "  </thead>\n",
       "  <tbody>\n",
       "    <tr>\n",
       "      <th>0</th>\n",
       "      <td>1</td>\n",
       "      <td>End poverty in all its forms everywhere</td>\n",
       "      <td>1.1</td>\n",
       "      <td>By 2030, eradicate extreme poverty for all peo...</td>\n",
       "      <td>1.1.1</td>\n",
       "      <td>Proportion of population below the internation...</td>\n",
       "      <td>1</td>\n",
       "      <td>SI_POV_DAY1</td>\n",
       "      <td>Proportion of population below international p...</td>\n",
       "      <td>2019.Q1.G.02</td>\n",
       "      <td>...</td>\n",
       "      <td>e5243b</td>\n",
       "      <td>[229, 36, 59]</td>\n",
       "      <td>https://raw.githubusercontent.com/UNStats/FIS4...</td>\n",
       "      <td>[FFDA99, FAC590, F5967F, F1786E, ED5C5E, E5233...</td>\n",
       "      <td>Prepared by Sarah Bell, Esri's Cartography Lab...</td>\n",
       "      <td>[{'reportingTypeCode': 'G', 'seriesCode': 'SI_...</td>\n",
       "      <td>[1990, 1991, 1992, 1993, 1994, 1995, 1996, 199...</td>\n",
       "      <td>[{'geoAreaCode': '910', 'geoAreaName': 'High i...</td>\n",
       "      <td>[{'geoAreaCode': '1', 'geoAreaName': 'World'}]</td>\n",
       "      <td>[{'geoAreaCode': '8', 'geoAreaName': 'Albania'...</td>\n",
       "    </tr>\n",
       "    <tr>\n",
       "      <th>1</th>\n",
       "      <td>1</td>\n",
       "      <td>End poverty in all its forms everywhere</td>\n",
       "      <td>1.1</td>\n",
       "      <td>By 2030, eradicate extreme poverty for all peo...</td>\n",
       "      <td>1.1.1</td>\n",
       "      <td>Proportion of population below the internation...</td>\n",
       "      <td>1</td>\n",
       "      <td>SI_POV_EMP1</td>\n",
       "      <td>Employed population below international povert...</td>\n",
       "      <td>2019.Q1.G.02</td>\n",
       "      <td>...</td>\n",
       "      <td>e5243b</td>\n",
       "      <td>[229, 36, 59]</td>\n",
       "      <td>https://raw.githubusercontent.com/UNStats/FIS4...</td>\n",
       "      <td>[FFDA99, FAC590, F5967F, F1786E, ED5C5E, E5233...</td>\n",
       "      <td>Prepared by Sarah Bell, Esri's Cartography Lab...</td>\n",
       "      <td>[{'ageCode': '15+', 'reportingTypeCode': 'G', ...</td>\n",
       "      <td>[2000, 2001, 2002, 2003, 2004, 2005, 2006, 200...</td>\n",
       "      <td>[{'geoAreaCode': '199', 'geoAreaName': 'Least ...</td>\n",
       "      <td>[{'geoAreaCode': '1', 'geoAreaName': 'World'},...</td>\n",
       "      <td>[{'geoAreaCode': '8', 'geoAreaName': 'Albania'...</td>\n",
       "    </tr>\n",
       "    <tr>\n",
       "      <th>2</th>\n",
       "      <td>1</td>\n",
       "      <td>End poverty in all its forms everywhere</td>\n",
       "      <td>1.2</td>\n",
       "      <td>By 2030, reduce at least by half the proportio...</td>\n",
       "      <td>1.2.1</td>\n",
       "      <td>Proportion of population living below the nati...</td>\n",
       "      <td>1</td>\n",
       "      <td>SI_POV_NAHC</td>\n",
       "      <td>Proportion of population living below the nati...</td>\n",
       "      <td>2019.Q1.G.02</td>\n",
       "      <td>...</td>\n",
       "      <td>e5243b</td>\n",
       "      <td>[229, 36, 59]</td>\n",
       "      <td>https://raw.githubusercontent.com/UNStats/FIS4...</td>\n",
       "      <td>[FFDA99, FAC590, F5967F, F1786E, ED5C5E, E5233...</td>\n",
       "      <td>Prepared by Sarah Bell, Esri's Cartography Lab...</td>\n",
       "      <td>[{'locationCode': 'ALLAREA', 'reportingTypeCod...</td>\n",
       "      <td>[1985, 1987, 1989, 1990, 1991, 1992, 1993, 199...</td>\n",
       "      <td>[]</td>\n",
       "      <td>[]</td>\n",
       "      <td>[{'geoAreaCode': '4', 'geoAreaName': 'Afghanis...</td>\n",
       "    </tr>\n",
       "  </tbody>\n",
       "</table>\n",
       "<p>3 rows × 21 columns</p>\n",
       "</div>"
      ],
      "text/plain": [
       "  goalCode                                 goalDesc targetCode  \\\n",
       "0        1  End poverty in all its forms everywhere        1.1   \n",
       "1        1  End poverty in all its forms everywhere        1.1   \n",
       "2        1  End poverty in all its forms everywhere        1.2   \n",
       "\n",
       "                                          targetDesc indicatorCode  \\\n",
       "0  By 2030, eradicate extreme poverty for all peo...         1.1.1   \n",
       "1  By 2030, eradicate extreme poverty for all peo...         1.1.1   \n",
       "2  By 2030, reduce at least by half the proportio...         1.2.1   \n",
       "\n",
       "                                       indicatorDesc indicatorTier  \\\n",
       "0  Proportion of population below the internation...             1   \n",
       "1  Proportion of population below the internation...             1   \n",
       "2  Proportion of population living below the nati...             1   \n",
       "\n",
       "    seriesCode                                         seriesDesc  \\\n",
       "0  SI_POV_DAY1  Proportion of population below international p...   \n",
       "1  SI_POV_EMP1  Employed population below international povert...   \n",
       "2  SI_POV_NAHC  Proportion of population living below the nati...   \n",
       "\n",
       "  seriesRelease  ...     hex            rgb  \\\n",
       "0  2019.Q1.G.02  ...  e5243b  [229, 36, 59]   \n",
       "1  2019.Q1.G.02  ...  e5243b  [229, 36, 59]   \n",
       "2  2019.Q1.G.02  ...  e5243b  [229, 36, 59]   \n",
       "\n",
       "                                             iconUrl  \\\n",
       "0  https://raw.githubusercontent.com/UNStats/FIS4...   \n",
       "1  https://raw.githubusercontent.com/UNStats/FIS4...   \n",
       "2  https://raw.githubusercontent.com/UNStats/FIS4...   \n",
       "\n",
       "                                         ColorScheme  \\\n",
       "0  [FFDA99, FAC590, F5967F, F1786E, ED5C5E, E5233...   \n",
       "1  [FFDA99, FAC590, F5967F, F1786E, ED5C5E, E5233...   \n",
       "2  [FFDA99, FAC590, F5967F, F1786E, ED5C5E, E5233...   \n",
       "\n",
       "                                  ColorSchemeCredits  \\\n",
       "0  Prepared by Sarah Bell, Esri's Cartography Lab...   \n",
       "1  Prepared by Sarah Bell, Esri's Cartography Lab...   \n",
       "2  Prepared by Sarah Bell, Esri's Cartography Lab...   \n",
       "\n",
       "                                              slices  \\\n",
       "0  [{'reportingTypeCode': 'G', 'seriesCode': 'SI_...   \n",
       "1  [{'ageCode': '15+', 'reportingTypeCode': 'G', ...   \n",
       "2  [{'locationCode': 'ALLAREA', 'reportingTypeCod...   \n",
       "\n",
       "                                       time_coverage  \\\n",
       "0  [1990, 1991, 1992, 1993, 1994, 1995, 1996, 199...   \n",
       "1  [2000, 2001, 2002, 2003, 2004, 2005, 2006, 200...   \n",
       "2  [1985, 1987, 1989, 1990, 1991, 1992, 1993, 199...   \n",
       "\n",
       "                                 geo_coverage_groups  \\\n",
       "0  [{'geoAreaCode': '910', 'geoAreaName': 'High i...   \n",
       "1  [{'geoAreaCode': '199', 'geoAreaName': 'Least ...   \n",
       "2                                                 []   \n",
       "\n",
       "                                geo_coverage_regions  \\\n",
       "0     [{'geoAreaCode': '1', 'geoAreaName': 'World'}]   \n",
       "1  [{'geoAreaCode': '1', 'geoAreaName': 'World'},...   \n",
       "2                                                 []   \n",
       "\n",
       "                              geo_coverage_countries  \n",
       "0  [{'geoAreaCode': '8', 'geoAreaName': 'Albania'...  \n",
       "1  [{'geoAreaCode': '8', 'geoAreaName': 'Albania'...  \n",
       "2  [{'geoAreaCode': '4', 'geoAreaName': 'Afghanis...  \n",
       "\n",
       "[3 rows x 21 columns]"
      ]
     },
     "execution_count": 14,
     "metadata": {},
     "output_type": "execute_result"
    }
   ],
   "source": [
    "series_metadata = []\n",
    "for s in dataset_metadata:\n",
    "    \n",
    "    dict = {}\n",
    "    \n",
    "    dict['goalCode'] = s['goalCode']\n",
    "    dict['goalDesc'] = s['goalDesc']\n",
    "    dict['goalDesc'] = s['goalDesc']\n",
    "    dict['targetCode'] = s['targetCode']\n",
    "    dict['targetDesc'] = s['targetDesc']\n",
    "    dict['indicatorCode'] = s['indicatorCode']\n",
    "    dict['indicatorDesc'] = s['indicatorDesc']\n",
    "    dict['indicatorTier'] = s['indicatorTier']\n",
    "    dict['seriesCode'] = s['seriesCode']\n",
    "    dict['seriesDesc'] = s['seriesDesc']\n",
    "    dict['seriesRelease'] = s['seriesRelease']\n",
    "    \n",
    "    dict['TAGS'] = []\n",
    "    for m in metadata_old:\n",
    "        if m['seriesCode'] ==  s['seriesCode'] and  m['indicatorCode'] ==  s['indicatorCode']:\n",
    "            dict['TAGS'] = m['TAGS']\n",
    "            break\n",
    "\n",
    "    for g in sdg_colors:\n",
    "        if g['goalCode'] == s['goalCode']:\n",
    "                dict['hex'] = g['hex']\n",
    "                dict['rgb'] = g['rgb']\n",
    "                dict['iconUrl'] = g['iconUrl']\n",
    "                dict['ColorScheme'] = g['ColorScheme']\n",
    "                dict['ColorSchemeCredits'] = g['ColorSchemeCredits']\n",
    "                break\n",
    "                \n",
    "    dict['slices'] = s['slices']\n",
    "    dict['time_coverage'] = s['time_coverage']\n",
    "    dict['geo_coverage_groups'] = s['geo_coverage_groups']\n",
    "    dict['geo_coverage_regions'] = s['geo_coverage_regions']\n",
    "    dict['geo_coverage_countries'] = s['geo_coverage_countries']\n",
    "    \n",
    "    \n",
    "    \n",
    "    series_metadata.append(OrderedDict(dict))\n",
    "\n",
    "#series_metadata[0]\n",
    "\n",
    "sm = pd.DataFrame.from_records(series_metadata) \n",
    "\n",
    "sm.head(3)\n",
    "\n",
    "sm.to_excel(wd_dir + 'metadata_template.xlsx', engine ='xlsxwriter', index=False)\n",
    "\n",
    "    "
   ]
  },
  {
   "cell_type": "code",
   "execution_count": 42,
   "metadata": {},
   "outputs": [
    {
     "data": {
      "text/plain": [
       "(429, 21)"
      ]
     },
     "execution_count": 42,
     "metadata": {},
     "output_type": "execute_result"
    },
    {
     "data": {
      "text/html": [
       "<div>\n",
       "<style scoped>\n",
       "    .dataframe tbody tr th:only-of-type {\n",
       "        vertical-align: middle;\n",
       "    }\n",
       "\n",
       "    .dataframe tbody tr th {\n",
       "        vertical-align: top;\n",
       "    }\n",
       "\n",
       "    .dataframe thead th {\n",
       "        text-align: right;\n",
       "    }\n",
       "</style>\n",
       "<table border=\"1\" class=\"dataframe\">\n",
       "  <thead>\n",
       "    <tr style=\"text-align: right;\">\n",
       "      <th></th>\n",
       "      <th>goalCode</th>\n",
       "      <th>goalDesc</th>\n",
       "      <th>targetCode</th>\n",
       "      <th>targetDesc</th>\n",
       "      <th>indicatorCode</th>\n",
       "      <th>indicatorDesc</th>\n",
       "      <th>indicatorTier</th>\n",
       "      <th>seriesCode</th>\n",
       "      <th>seriesDesc</th>\n",
       "      <th>seriesRelease</th>\n",
       "      <th>...</th>\n",
       "      <th>hex</th>\n",
       "      <th>rgb</th>\n",
       "      <th>iconUrl</th>\n",
       "      <th>ColorScheme</th>\n",
       "      <th>ColorSchemeCredits</th>\n",
       "      <th>slices</th>\n",
       "      <th>time_coverage</th>\n",
       "      <th>geo_coverage_groups</th>\n",
       "      <th>geo_coverage_regions</th>\n",
       "      <th>geo_coverage_countries</th>\n",
       "    </tr>\n",
       "  </thead>\n",
       "  <tbody>\n",
       "    <tr>\n",
       "      <th>0</th>\n",
       "      <td>1</td>\n",
       "      <td>End poverty in all its forms everywhere</td>\n",
       "      <td>1.1</td>\n",
       "      <td>By 2030, eradicate extreme poverty for all peo...</td>\n",
       "      <td>1.1.1</td>\n",
       "      <td>Proportion of population below the internation...</td>\n",
       "      <td>1</td>\n",
       "      <td>SI_POV_DAY1</td>\n",
       "      <td>Proportion of population below international p...</td>\n",
       "      <td>2019.Q1.G.02</td>\n",
       "      <td>...</td>\n",
       "      <td>e5243b</td>\n",
       "      <td>[229, 36, 59]</td>\n",
       "      <td>https://raw.githubusercontent.com/UNStats/FIS4...</td>\n",
       "      <td>['FFDA99', 'FAC590', 'F5967F', 'F1786E', 'ED5C...</td>\n",
       "      <td>Prepared by Sarah Bell, Esri's Cartography Lab...</td>\n",
       "      <td>[{'reportingTypeCode': 'G', 'seriesCode': 'SI_...</td>\n",
       "      <td>['1990', '1991', '1992', '1993', '1994', '1995...</td>\n",
       "      <td>[{'geoAreaCode': '910', 'geoAreaName': 'High i...</td>\n",
       "      <td>[{'geoAreaCode': '1', 'geoAreaName': 'World'}]</td>\n",
       "      <td>[{'geoAreaCode': '8', 'geoAreaName': 'Albania'...</td>\n",
       "    </tr>\n",
       "    <tr>\n",
       "      <th>1</th>\n",
       "      <td>1</td>\n",
       "      <td>End poverty in all its forms everywhere</td>\n",
       "      <td>1.1</td>\n",
       "      <td>By 2030, eradicate extreme poverty for all peo...</td>\n",
       "      <td>1.1.1</td>\n",
       "      <td>Proportion of population below the internation...</td>\n",
       "      <td>1</td>\n",
       "      <td>SI_POV_EMP1</td>\n",
       "      <td>Employed population below international povert...</td>\n",
       "      <td>2019.Q1.G.02</td>\n",
       "      <td>...</td>\n",
       "      <td>e5243b</td>\n",
       "      <td>[229, 36, 59]</td>\n",
       "      <td>https://raw.githubusercontent.com/UNStats/FIS4...</td>\n",
       "      <td>['FFDA99', 'FAC590', 'F5967F', 'F1786E', 'ED5C...</td>\n",
       "      <td>Prepared by Sarah Bell, Esri's Cartography Lab...</td>\n",
       "      <td>[{'ageCode': '15+', 'reportingTypeCode': 'G', ...</td>\n",
       "      <td>['2000', '2001', '2002', '2003', '2004', '2005...</td>\n",
       "      <td>[{'geoAreaCode': '199', 'geoAreaName': 'Least ...</td>\n",
       "      <td>[{'geoAreaCode': '1', 'geoAreaName': 'World'},...</td>\n",
       "      <td>[{'geoAreaCode': '8', 'geoAreaName': 'Albania'...</td>\n",
       "    </tr>\n",
       "    <tr>\n",
       "      <th>2</th>\n",
       "      <td>1</td>\n",
       "      <td>End poverty in all its forms everywhere</td>\n",
       "      <td>1.2</td>\n",
       "      <td>By 2030, reduce at least by half the proportio...</td>\n",
       "      <td>1.2.1</td>\n",
       "      <td>Proportion of population living below the nati...</td>\n",
       "      <td>1</td>\n",
       "      <td>SI_POV_NAHC</td>\n",
       "      <td>Proportion of population living below the nati...</td>\n",
       "      <td>2019.Q1.G.02</td>\n",
       "      <td>...</td>\n",
       "      <td>e5243b</td>\n",
       "      <td>[229, 36, 59]</td>\n",
       "      <td>https://raw.githubusercontent.com/UNStats/FIS4...</td>\n",
       "      <td>['FFDA99', 'FAC590', 'F5967F', 'F1786E', 'ED5C...</td>\n",
       "      <td>Prepared by Sarah Bell, Esri's Cartography Lab...</td>\n",
       "      <td>[{'locationCode': 'ALLAREA', 'reportingTypeCod...</td>\n",
       "      <td>['1985', '1987', '1989', '1990', '1991', '1992...</td>\n",
       "      <td>[]</td>\n",
       "      <td>[]</td>\n",
       "      <td>[{'geoAreaCode': '4', 'geoAreaName': 'Afghanis...</td>\n",
       "    </tr>\n",
       "  </tbody>\n",
       "</table>\n",
       "<p>3 rows × 21 columns</p>\n",
       "</div>"
      ],
      "text/plain": [
       "   goalCode                                 goalDesc targetCode  \\\n",
       "0         1  End poverty in all its forms everywhere        1.1   \n",
       "1         1  End poverty in all its forms everywhere        1.1   \n",
       "2         1  End poverty in all its forms everywhere        1.2   \n",
       "\n",
       "                                          targetDesc indicatorCode  \\\n",
       "0  By 2030, eradicate extreme poverty for all peo...         1.1.1   \n",
       "1  By 2030, eradicate extreme poverty for all peo...         1.1.1   \n",
       "2  By 2030, reduce at least by half the proportio...         1.2.1   \n",
       "\n",
       "                                       indicatorDesc  indicatorTier  \\\n",
       "0  Proportion of population below the internation...              1   \n",
       "1  Proportion of population below the internation...              1   \n",
       "2  Proportion of population living below the nati...              1   \n",
       "\n",
       "    seriesCode                                         seriesDesc  \\\n",
       "0  SI_POV_DAY1  Proportion of population below international p...   \n",
       "1  SI_POV_EMP1  Employed population below international povert...   \n",
       "2  SI_POV_NAHC  Proportion of population living below the nati...   \n",
       "\n",
       "  seriesRelease  ...     hex            rgb  \\\n",
       "0  2019.Q1.G.02  ...  e5243b  [229, 36, 59]   \n",
       "1  2019.Q1.G.02  ...  e5243b  [229, 36, 59]   \n",
       "2  2019.Q1.G.02  ...  e5243b  [229, 36, 59]   \n",
       "\n",
       "                                             iconUrl  \\\n",
       "0  https://raw.githubusercontent.com/UNStats/FIS4...   \n",
       "1  https://raw.githubusercontent.com/UNStats/FIS4...   \n",
       "2  https://raw.githubusercontent.com/UNStats/FIS4...   \n",
       "\n",
       "                                         ColorScheme  \\\n",
       "0  ['FFDA99', 'FAC590', 'F5967F', 'F1786E', 'ED5C...   \n",
       "1  ['FFDA99', 'FAC590', 'F5967F', 'F1786E', 'ED5C...   \n",
       "2  ['FFDA99', 'FAC590', 'F5967F', 'F1786E', 'ED5C...   \n",
       "\n",
       "                                  ColorSchemeCredits  \\\n",
       "0  Prepared by Sarah Bell, Esri's Cartography Lab...   \n",
       "1  Prepared by Sarah Bell, Esri's Cartography Lab...   \n",
       "2  Prepared by Sarah Bell, Esri's Cartography Lab...   \n",
       "\n",
       "                                              slices  \\\n",
       "0  [{'reportingTypeCode': 'G', 'seriesCode': 'SI_...   \n",
       "1  [{'ageCode': '15+', 'reportingTypeCode': 'G', ...   \n",
       "2  [{'locationCode': 'ALLAREA', 'reportingTypeCod...   \n",
       "\n",
       "                                       time_coverage  \\\n",
       "0  ['1990', '1991', '1992', '1993', '1994', '1995...   \n",
       "1  ['2000', '2001', '2002', '2003', '2004', '2005...   \n",
       "2  ['1985', '1987', '1989', '1990', '1991', '1992...   \n",
       "\n",
       "                                 geo_coverage_groups  \\\n",
       "0  [{'geoAreaCode': '910', 'geoAreaName': 'High i...   \n",
       "1  [{'geoAreaCode': '199', 'geoAreaName': 'Least ...   \n",
       "2                                                 []   \n",
       "\n",
       "                                geo_coverage_regions  \\\n",
       "0     [{'geoAreaCode': '1', 'geoAreaName': 'World'}]   \n",
       "1  [{'geoAreaCode': '1', 'geoAreaName': 'World'},...   \n",
       "2                                                 []   \n",
       "\n",
       "                              geo_coverage_countries  \n",
       "0  [{'geoAreaCode': '8', 'geoAreaName': 'Albania'...  \n",
       "1  [{'geoAreaCode': '8', 'geoAreaName': 'Albania'...  \n",
       "2  [{'geoAreaCode': '4', 'geoAreaName': 'Afghanis...  \n",
       "\n",
       "[3 rows x 21 columns]"
      ]
     },
     "execution_count": 42,
     "metadata": {},
     "output_type": "execute_result"
    },
    {
     "data": {
      "text/plain": [
       "Index(['goalCode', 'goalDesc', 'targetCode', 'targetDesc', 'indicatorCode',\n",
       "       'indicatorDesc', 'indicatorTier', 'seriesCode', 'seriesDesc',\n",
       "       'seriesRelease', 'TAGS', 'hex', 'rgb', 'iconUrl', 'ColorScheme',\n",
       "       'ColorSchemeCredits', 'slices', 'time_coverage', 'geo_coverage_groups',\n",
       "       'geo_coverage_regions', 'geo_coverage_countries'],\n",
       "      dtype='object')"
      ]
     },
     "execution_count": 42,
     "metadata": {},
     "output_type": "execute_result"
    },
    {
     "data": {
      "text/plain": [
       "['poverty line', 'poverty', 'standard of living', 'basic needs']"
      ]
     },
     "execution_count": 42,
     "metadata": {},
     "output_type": "execute_result"
    },
    {
     "data": {
      "text/plain": [
       "['poverty line', 'poverty', 'standard of living', 'basic needs', 'decent work']"
      ]
     },
     "execution_count": 42,
     "metadata": {},
     "output_type": "execute_result"
    },
    {
     "data": {
      "text/plain": [
       "['poverty line', 'poverty', 'standard of living', 'basic needs']"
      ]
     },
     "execution_count": 42,
     "metadata": {},
     "output_type": "execute_result"
    },
    {
     "data": {
      "text/plain": [
       "['poverty', 'standard of living', 'basic needs', 'social welfare']"
      ]
     },
     "execution_count": 42,
     "metadata": {},
     "output_type": "execute_result"
    },
    {
     "data": {
      "text/plain": [
       "['poverty',\n",
       " 'standard of living',\n",
       " 'basic needs',\n",
       " 'social welfare',\n",
       " 'child welfare',\n",
       " 'children']"
      ]
     },
     "execution_count": 42,
     "metadata": {},
     "output_type": "execute_result"
    },
    {
     "data": {
      "text/plain": [
       "['poverty',\n",
       " 'standard of living',\n",
       " 'basic needs',\n",
       " 'social welfare',\n",
       " 'disability benefits',\n",
       " 'persons with disabilities']"
      ]
     },
     "execution_count": 42,
     "metadata": {},
     "output_type": "execute_result"
    },
    {
     "data": {
      "text/plain": [
       "['poverty', 'standard of living', 'basic needs', 'social welfare']"
      ]
     },
     "execution_count": 42,
     "metadata": {},
     "output_type": "execute_result"
    },
    {
     "data": {
      "text/plain": [
       "['poverty', 'standard of living', 'basic needs', 'social welfare']"
      ]
     },
     "execution_count": 42,
     "metadata": {},
     "output_type": "execute_result"
    },
    {
     "data": {
      "text/plain": [
       "['poverty',\n",
       " 'standard of living',\n",
       " 'basic needs',\n",
       " 'social welfare',\n",
       " 'child welfare',\n",
       " 'family welfare',\n",
       " 'maternal welfare',\n",
       " 'women',\n",
       " 'mothers',\n",
       " 'children']"
      ]
     },
     "execution_count": 42,
     "metadata": {},
     "output_type": "execute_result"
    },
    {
     "data": {
      "text/plain": [
       "['poverty',\n",
       " 'standard of living',\n",
       " 'basic needs',\n",
       " 'social welfare',\n",
       " 'old age benefits',\n",
       " 'ageing persons']"
      ]
     },
     "execution_count": 42,
     "metadata": {},
     "output_type": "execute_result"
    },
    {
     "data": {
      "text/plain": [
       "['poverty', 'standard of living', 'basic needs', 'social welfare', 'insurance']"
      ]
     },
     "execution_count": 42,
     "metadata": {},
     "output_type": "execute_result"
    },
    {
     "data": {
      "text/plain": [
       "['poverty', 'standard of living', 'basic needs', 'social welfare']"
      ]
     },
     "execution_count": 42,
     "metadata": {},
     "output_type": "execute_result"
    },
    {
     "data": {
      "text/plain": [
       "['poverty', 'standard of living', 'basic needs', 'social welfare']"
      ]
     },
     "execution_count": 42,
     "metadata": {},
     "output_type": "execute_result"
    },
    {
     "data": {
      "text/plain": [
       "['poverty', 'standard of living', 'basic needs', 'social welfare', 'insurance']"
      ]
     },
     "execution_count": 42,
     "metadata": {},
     "output_type": "execute_result"
    },
    {
     "data": {
      "text/plain": [
       "['poverty', 'standard of living', 'basic needs', 'social welfare', 'insurance']"
      ]
     },
     "execution_count": 42,
     "metadata": {},
     "output_type": "execute_result"
    },
    {
     "data": {
      "text/plain": [
       "['poverty',\n",
       " 'standard of living',\n",
       " 'basic needs',\n",
       " 'social welfare',\n",
       " 'unemployment insurance',\n",
       " 'unemployment',\n",
       " 'insurance']"
      ]
     },
     "execution_count": 42,
     "metadata": {},
     "output_type": "execute_result"
    },
    {
     "data": {
      "text/plain": [
       "['poverty', 'standard of living', 'basic needs', 'social welfare']"
      ]
     },
     "execution_count": 42,
     "metadata": {},
     "output_type": "execute_result"
    },
    {
     "data": {
      "text/plain": [
       "['poverty',\n",
       " 'standard of living',\n",
       " 'basic needs',\n",
       " 'social welfare',\n",
       " 'occupational safety',\n",
       " 'occupational accidents',\n",
       " 'insurance']"
      ]
     },
     "execution_count": 42,
     "metadata": {},
     "output_type": "execute_result"
    },
    {
     "data": {
      "text/plain": [
       "['disaster loss',\n",
       " 'disaster prevention',\n",
       " 'preparedness and relief',\n",
       " 'disaster victims']"
      ]
     },
     "execution_count": 42,
     "metadata": {},
     "output_type": "execute_result"
    },
    {
     "data": {
      "text/plain": [
       "['disaster loss', 'disaster prevention', 'preparedness and relief']"
      ]
     },
     "execution_count": 42,
     "metadata": {},
     "output_type": "execute_result"
    },
    {
     "data": {
      "text/plain": [
       "['disaster loss',\n",
       " 'disaster prevention',\n",
       " 'preparedness and relief',\n",
       " 'disaster victims']"
      ]
     },
     "execution_count": 42,
     "metadata": {},
     "output_type": "execute_result"
    },
    {
     "data": {
      "text/plain": [
       "['disaster loss', 'disaster prevention', 'preparedness and relief']"
      ]
     },
     "execution_count": 42,
     "metadata": {},
     "output_type": "execute_result"
    },
    {
     "data": {
      "text/plain": [
       "['disaster loss', 'disaster prevention', 'preparedness and relief']"
      ]
     },
     "execution_count": 42,
     "metadata": {},
     "output_type": "execute_result"
    },
    {
     "data": {
      "text/plain": [
       "['disaster loss', 'disaster prevention', 'preparedness and relief']"
      ]
     },
     "execution_count": 42,
     "metadata": {},
     "output_type": "execute_result"
    },
    {
     "data": {
      "text/plain": [
       "['disaster loss',\n",
       " 'disaster prevention',\n",
       " 'preparedness and relief',\n",
       " 'disaster victims']"
      ]
     },
     "execution_count": 42,
     "metadata": {},
     "output_type": "execute_result"
    },
    {
     "data": {
      "text/plain": [
       "['disaster loss',\n",
       " 'disaster prevention',\n",
       " 'preparedness and relief',\n",
       " 'disaster victims']"
      ]
     },
     "execution_count": 42,
     "metadata": {},
     "output_type": "execute_result"
    },
    {
     "data": {
      "text/plain": [
       "['disaster loss',\n",
       " 'disaster prevention',\n",
       " 'preparedness and relief',\n",
       " 'disaster victims']"
      ]
     },
     "execution_count": 42,
     "metadata": {},
     "output_type": "execute_result"
    },
    {
     "data": {
      "text/plain": [
       "['disaster loss',\n",
       " 'disaster prevention',\n",
       " 'preparedness and relief',\n",
       " 'disaster victims']"
      ]
     },
     "execution_count": 42,
     "metadata": {},
     "output_type": "execute_result"
    },
    {
     "data": {
      "text/plain": [
       "['disaster loss',\n",
       " 'disaster prevention',\n",
       " 'preparedness and relief',\n",
       " 'disaster victims']"
      ]
     },
     "execution_count": 42,
     "metadata": {},
     "output_type": "execute_result"
    },
    {
     "data": {
      "text/plain": [
       "['disaster loss',\n",
       " 'disaster prevention',\n",
       " 'preparedness and relief',\n",
       " 'disaster victims']"
      ]
     },
     "execution_count": 42,
     "metadata": {},
     "output_type": "execute_result"
    },
    {
     "data": {
      "text/plain": [
       "['disaster loss',\n",
       " 'disaster prevention',\n",
       " 'preparedness and relief',\n",
       " 'disaster victims']"
      ]
     },
     "execution_count": 42,
     "metadata": {},
     "output_type": "execute_result"
    },
    {
     "data": {
      "text/plain": [
       "['disaster loss',\n",
       " 'disaster prevention',\n",
       " 'preparedness and relief',\n",
       " 'disaster victims']"
      ]
     },
     "execution_count": 42,
     "metadata": {},
     "output_type": "execute_result"
    },
    {
     "data": {
      "text/plain": [
       "['disaster loss',\n",
       " 'disaster prevention',\n",
       " 'preparedness and relief',\n",
       " 'disaster victims']"
      ]
     },
     "execution_count": 42,
     "metadata": {},
     "output_type": "execute_result"
    },
    {
     "data": {
      "text/plain": [
       "['disaster loss',\n",
       " 'disaster prevention',\n",
       " 'preparedness and relief',\n",
       " 'disaster victims',\n",
       " 'sustainable agriculture']"
      ]
     },
     "execution_count": 42,
     "metadata": {},
     "output_type": "execute_result"
    },
    {
     "data": {
      "text/plain": [
       "['disaster loss',\n",
       " 'disaster prevention',\n",
       " 'preparedness and relief',\n",
       " 'disaster victims',\n",
       " 'sustainable agriculture']"
      ]
     },
     "execution_count": 42,
     "metadata": {},
     "output_type": "execute_result"
    },
    {
     "data": {
      "text/plain": [
       "['disaster loss', 'disaster prevention', 'preparedness and relief']"
      ]
     },
     "execution_count": 42,
     "metadata": {},
     "output_type": "execute_result"
    },
    {
     "data": {
      "text/plain": [
       "['disaster loss', 'disaster prevention', 'preparedness and relief']"
      ]
     },
     "execution_count": 42,
     "metadata": {},
     "output_type": "execute_result"
    },
    {
     "data": {
      "text/plain": [
       "['disaster loss', 'disaster prevention', 'preparedness and relief']"
      ]
     },
     "execution_count": 42,
     "metadata": {},
     "output_type": "execute_result"
    },
    {
     "data": {
      "text/plain": [
       "['disaster loss', 'disaster prevention', 'preparedness and relief']"
      ]
     },
     "execution_count": 42,
     "metadata": {},
     "output_type": "execute_result"
    },
    {
     "data": {
      "text/plain": [
       "['disaster loss', 'disaster prevention', 'preparedness and relief']"
      ]
     },
     "execution_count": 42,
     "metadata": {},
     "output_type": "execute_result"
    },
    {
     "data": {
      "text/plain": [
       "['disaster loss', 'disaster prevention', 'preparedness and relief']"
      ]
     },
     "execution_count": 42,
     "metadata": {},
     "output_type": "execute_result"
    },
    {
     "data": {
      "text/plain": [
       "['means of implementation',\n",
       " 'disaster prevention',\n",
       " 'preparedness and relief',\n",
       " 'laws and regulations']"
      ]
     },
     "execution_count": 42,
     "metadata": {},
     "output_type": "execute_result"
    },
    {
     "data": {
      "text/plain": [
       "['means of implementation',\n",
       " 'disaster prevention',\n",
       " 'preparedness and relief',\n",
       " 'laws and regulations']"
      ]
     },
     "execution_count": 42,
     "metadata": {},
     "output_type": "execute_result"
    },
    {
     "data": {
      "text/plain": [
       "['local governments',\n",
       " 'means of implementation',\n",
       " 'disaster prevention',\n",
       " 'preparedness and relief',\n",
       " 'laws and regulations']"
      ]
     },
     "execution_count": 42,
     "metadata": {},
     "output_type": "execute_result"
    },
    {
     "data": {
      "text/plain": [
       "['local governments',\n",
       " 'means of implementation',\n",
       " 'disaster prevention',\n",
       " 'preparedness and relief',\n",
       " 'laws and regulations']"
      ]
     },
     "execution_count": 42,
     "metadata": {},
     "output_type": "execute_result"
    },
    {
     "data": {
      "text/plain": [
       "['local governments']"
      ]
     },
     "execution_count": 42,
     "metadata": {},
     "output_type": "execute_result"
    },
    {
     "data": {
      "text/plain": [
       "['local governments', 'means of implementation']"
      ]
     },
     "execution_count": 42,
     "metadata": {},
     "output_type": "execute_result"
    },
    {
     "data": {
      "text/plain": [
       "['income distribution']"
      ]
     },
     "execution_count": 42,
     "metadata": {},
     "output_type": "execute_result"
    },
    {
     "data": {
      "text/plain": [
       "['income distribution']"
      ]
     },
     "execution_count": 42,
     "metadata": {},
     "output_type": "execute_result"
    },
    {
     "data": {
      "text/plain": [
       "['income distribution', 'wages', 'social security']"
      ]
     },
     "execution_count": 42,
     "metadata": {},
     "output_type": "execute_result"
    },
    {
     "data": {
      "text/plain": [
       "['financial aspects', 'risk management']"
      ]
     },
     "execution_count": 42,
     "metadata": {},
     "output_type": "execute_result"
    },
    {
     "data": {
      "text/plain": [
       "['financial aspects', 'investment returns']"
      ]
     },
     "execution_count": 42,
     "metadata": {},
     "output_type": "execute_result"
    },
    {
     "data": {
      "text/plain": [
       "['financial aspects', 'risk management']"
      ]
     },
     "execution_count": 42,
     "metadata": {},
     "output_type": "execute_result"
    },
    {
     "data": {
      "text/plain": [
       "['financial aspects', 'risk management']"
      ]
     },
     "execution_count": 42,
     "metadata": {},
     "output_type": "execute_result"
    },
    {
     "data": {
      "text/plain": [
       "['financial aspects', 'risk management']"
      ]
     },
     "execution_count": 42,
     "metadata": {},
     "output_type": "execute_result"
    },
    {
     "data": {
      "text/plain": [
       "['financial aspects', 'risk management']"
      ]
     },
     "execution_count": 42,
     "metadata": {},
     "output_type": "execute_result"
    },
    {
     "data": {
      "text/plain": [
       "['financial aspects', 'risk management']"
      ]
     },
     "execution_count": 42,
     "metadata": {},
     "output_type": "execute_result"
    },
    {
     "data": {
      "text/plain": [
       "['equality of states',\n",
       " 'intergovernmental organizations',\n",
       " 'developing countries']"
      ]
     },
     "execution_count": 42,
     "metadata": {},
     "output_type": "execute_result"
    },
    {
     "data": {
      "text/plain": [
       "['equality of states',\n",
       " 'intergovernmental organizations',\n",
       " 'developing countries']"
      ]
     },
     "execution_count": 42,
     "metadata": {},
     "output_type": "execute_result"
    },
    {
     "data": {
      "text/plain": [
       "['means of implementation',\n",
       " 'international trade',\n",
       " 'developing countries',\n",
       " 'least developed countries']"
      ]
     },
     "execution_count": 42,
     "metadata": {},
     "output_type": "execute_result"
    },
    {
     "data": {
      "text/plain": [
       "['means of implementation', 'development finance', 'development assistance']"
      ]
     },
     "execution_count": 42,
     "metadata": {},
     "output_type": "execute_result"
    },
    {
     "data": {
      "text/plain": [
       "['means of implementation', 'development finance', 'development assistance']"
      ]
     },
     "execution_count": 42,
     "metadata": {},
     "output_type": "execute_result"
    },
    {
     "data": {
      "text/plain": [
       "['means of implementation', 'development finance', 'development assistance']"
      ]
     },
     "execution_count": 42,
     "metadata": {},
     "output_type": "execute_result"
    },
    {
     "data": {
      "text/plain": [
       "['means of implementation', 'development finance', 'remittances']"
      ]
     },
     "execution_count": 42,
     "metadata": {},
     "output_type": "execute_result"
    },
    {
     "data": {
      "text/plain": [
       "['cities', 'human settlements', 'poverty', 'urban settlements', 'slums']"
      ]
     },
     "execution_count": 42,
     "metadata": {},
     "output_type": "execute_result"
    },
    {
     "data": {
      "text/plain": [
       "['disaster loss',\n",
       " 'disaster prevention',\n",
       " 'preparedness and relief',\n",
       " 'disaster victims']"
      ]
     },
     "execution_count": 42,
     "metadata": {},
     "output_type": "execute_result"
    },
    {
     "data": {
      "text/plain": [
       "['disaster loss', 'disaster prevention', 'preparedness and relief']"
      ]
     },
     "execution_count": 42,
     "metadata": {},
     "output_type": "execute_result"
    },
    {
     "data": {
      "text/plain": [
       "['disaster loss',\n",
       " 'disaster prevention',\n",
       " 'preparedness and relief',\n",
       " 'disaster victims']"
      ]
     },
     "execution_count": 42,
     "metadata": {},
     "output_type": "execute_result"
    },
    {
     "data": {
      "text/plain": [
       "['disaster loss', 'disaster prevention', 'preparedness and relief']"
      ]
     },
     "execution_count": 42,
     "metadata": {},
     "output_type": "execute_result"
    },
    {
     "data": {
      "text/plain": [
       "['disaster loss', 'disaster prevention', 'preparedness and relief']"
      ]
     },
     "execution_count": 42,
     "metadata": {},
     "output_type": "execute_result"
    },
    {
     "data": {
      "text/plain": [
       "['disaster loss', 'disaster prevention', 'preparedness and relief']"
      ]
     },
     "execution_count": 42,
     "metadata": {},
     "output_type": "execute_result"
    },
    {
     "data": {
      "text/plain": [
       "['disaster loss',\n",
       " 'disaster prevention',\n",
       " 'preparedness and relief',\n",
       " 'disaster victims']"
      ]
     },
     "execution_count": 42,
     "metadata": {},
     "output_type": "execute_result"
    },
    {
     "data": {
      "text/plain": [
       "['disaster loss',\n",
       " 'disaster prevention',\n",
       " 'preparedness and relief',\n",
       " 'disaster victims']"
      ]
     },
     "execution_count": 42,
     "metadata": {},
     "output_type": "execute_result"
    },
    {
     "data": {
      "text/plain": [
       "['disaster loss',\n",
       " 'disaster prevention',\n",
       " 'preparedness and relief',\n",
       " 'disaster victims']"
      ]
     },
     "execution_count": 42,
     "metadata": {},
     "output_type": "execute_result"
    },
    {
     "data": {
      "text/plain": [
       "['disaster loss',\n",
       " 'disaster prevention',\n",
       " 'preparedness and relief',\n",
       " 'disaster victims']"
      ]
     },
     "execution_count": 42,
     "metadata": {},
     "output_type": "execute_result"
    },
    {
     "data": {
      "text/plain": [
       "['disaster loss',\n",
       " 'disaster prevention',\n",
       " 'preparedness and relief',\n",
       " 'disaster victims']"
      ]
     },
     "execution_count": 42,
     "metadata": {},
     "output_type": "execute_result"
    },
    {
     "data": {
      "text/plain": [
       "['disaster loss',\n",
       " 'disaster prevention',\n",
       " 'preparedness and relief',\n",
       " 'disaster victims']"
      ]
     },
     "execution_count": 42,
     "metadata": {},
     "output_type": "execute_result"
    },
    {
     "data": {
      "text/plain": [
       "['disaster loss',\n",
       " 'disaster prevention',\n",
       " 'preparedness and relief',\n",
       " 'disaster victims']"
      ]
     },
     "execution_count": 42,
     "metadata": {},
     "output_type": "execute_result"
    },
    {
     "data": {
      "text/plain": [
       "['disaster loss',\n",
       " 'disaster prevention',\n",
       " 'preparedness and relief',\n",
       " 'disaster victims']"
      ]
     },
     "execution_count": 42,
     "metadata": {},
     "output_type": "execute_result"
    },
    {
     "data": {
      "text/plain": [
       "['disaster loss',\n",
       " 'disaster prevention',\n",
       " 'preparedness and relief',\n",
       " 'disaster victims']"
      ]
     },
     "execution_count": 42,
     "metadata": {},
     "output_type": "execute_result"
    },
    {
     "data": {
      "text/plain": [
       "['disaster loss',\n",
       " 'disaster prevention',\n",
       " 'preparedness and relief',\n",
       " 'disaster victims',\n",
       " 'sustainable agriculture']"
      ]
     },
     "execution_count": 42,
     "metadata": {},
     "output_type": "execute_result"
    },
    {
     "data": {
      "text/plain": [
       "['disaster loss',\n",
       " 'disaster prevention',\n",
       " 'preparedness and relief',\n",
       " 'disaster victims',\n",
       " 'sustainable agriculture']"
      ]
     },
     "execution_count": 42,
     "metadata": {},
     "output_type": "execute_result"
    },
    {
     "data": {
      "text/plain": [
       "['disaster loss',\n",
       " 'disaster prevention',\n",
       " 'preparedness and relief',\n",
       " 'physical infrastructure']"
      ]
     },
     "execution_count": 42,
     "metadata": {},
     "output_type": "execute_result"
    },
    {
     "data": {
      "text/plain": [
       "['disaster loss',\n",
       " 'disaster prevention',\n",
       " 'preparedness and relief',\n",
       " 'physical infrastructure']"
      ]
     },
     "execution_count": 42,
     "metadata": {},
     "output_type": "execute_result"
    },
    {
     "data": {
      "text/plain": [
       "['disaster loss',\n",
       " 'disaster prevention',\n",
       " 'preparedness and relief',\n",
       " 'physical infrastructure']"
      ]
     },
     "execution_count": 42,
     "metadata": {},
     "output_type": "execute_result"
    },
    {
     "data": {
      "text/plain": [
       "['disaster loss', 'disaster prevention', 'preparedness and relief']"
      ]
     },
     "execution_count": 42,
     "metadata": {},
     "output_type": "execute_result"
    },
    {
     "data": {
      "text/plain": [
       "['disaster loss', 'disaster prevention', 'preparedness and relief']"
      ]
     },
     "execution_count": 42,
     "metadata": {},
     "output_type": "execute_result"
    },
    {
     "data": {
      "text/plain": [
       "['disaster loss',\n",
       " 'disaster prevention',\n",
       " 'preparedness and relief',\n",
       " 'education',\n",
       " 'educational facilities',\n",
       " 'physical infrastructure']"
      ]
     },
     "execution_count": 42,
     "metadata": {},
     "output_type": "execute_result"
    },
    {
     "data": {
      "text/plain": [
       "['disaster loss',\n",
       " 'disaster prevention',\n",
       " 'preparedness and relief',\n",
       " 'education',\n",
       " 'educational facilities',\n",
       " 'physical infrastructure']"
      ]
     },
     "execution_count": 42,
     "metadata": {},
     "output_type": "execute_result"
    },
    {
     "data": {
      "text/plain": [
       "['disaster loss', 'disaster prevention', 'preparedness and relief']"
      ]
     },
     "execution_count": 42,
     "metadata": {},
     "output_type": "execute_result"
    },
    {
     "data": {
      "text/plain": [
       "['disaster loss',\n",
       " 'disaster prevention',\n",
       " 'preparedness and relief',\n",
       " 'health',\n",
       " 'physical infrastructure']"
      ]
     },
     "execution_count": 42,
     "metadata": {},
     "output_type": "execute_result"
    },
    {
     "data": {
      "text/plain": [
       "['disaster loss', 'disaster prevention', 'preparedness and relief']"
      ]
     },
     "execution_count": 42,
     "metadata": {},
     "output_type": "execute_result"
    },
    {
     "data": {
      "text/plain": [
       "['disaster loss', 'disaster prevention', 'preparedness and relief']"
      ]
     },
     "execution_count": 42,
     "metadata": {},
     "output_type": "execute_result"
    },
    {
     "data": {
      "text/plain": [
       "['disaster loss',\n",
       " 'disaster prevention',\n",
       " 'preparedness and relief',\n",
       " 'health',\n",
       " 'physical infrastructure']"
      ]
     },
     "execution_count": 42,
     "metadata": {},
     "output_type": "execute_result"
    },
    {
     "data": {
      "text/plain": [
       "['disaster loss', 'disaster prevention', 'preparedness and relief']"
      ]
     },
     "execution_count": 42,
     "metadata": {},
     "output_type": "execute_result"
    },
    {
     "data": {
      "text/plain": [
       "['disaster loss',\n",
       " 'disaster prevention',\n",
       " 'preparedness and relief',\n",
       " 'physical infrastructure']"
      ]
     },
     "execution_count": 42,
     "metadata": {},
     "output_type": "execute_result"
    },
    {
     "data": {
      "text/plain": [
       "['cities', 'human settlements', 'sanitation']"
      ]
     },
     "execution_count": 42,
     "metadata": {},
     "output_type": "execute_result"
    },
    {
     "data": {
      "text/plain": [
       "['cities', 'human settlements', 'health', 'pollution', 'air pollution']"
      ]
     },
     "execution_count": 42,
     "metadata": {},
     "output_type": "execute_result"
    },
    {
     "data": {
      "text/plain": [
       "['means of implementation',\n",
       " 'disaster prevention',\n",
       " 'preparedness and relief',\n",
       " 'laws and regulations']"
      ]
     },
     "execution_count": 42,
     "metadata": {},
     "output_type": "execute_result"
    },
    {
     "data": {
      "text/plain": [
       "['means of implementation',\n",
       " 'disaster prevention',\n",
       " 'preparedness and relief',\n",
       " 'laws and regulations']"
      ]
     },
     "execution_count": 42,
     "metadata": {},
     "output_type": "execute_result"
    },
    {
     "data": {
      "text/plain": [
       "['local governments',\n",
       " 'means of implementation',\n",
       " 'disaster prevention',\n",
       " 'preparedness and relief',\n",
       " 'laws and regulations']"
      ]
     },
     "execution_count": 42,
     "metadata": {},
     "output_type": "execute_result"
    },
    {
     "data": {
      "text/plain": [
       "['local governments',\n",
       " 'means of implementation',\n",
       " 'disaster prevention',\n",
       " 'preparedness and relief',\n",
       " 'laws and regulations']"
      ]
     },
     "execution_count": 42,
     "metadata": {},
     "output_type": "execute_result"
    },
    {
     "data": {
      "text/plain": [
       "['local governments']"
      ]
     },
     "execution_count": 42,
     "metadata": {},
     "output_type": "execute_result"
    },
    {
     "data": {
      "text/plain": [
       "['sustainable consumption', 'sustainable production', 'development planning ']"
      ]
     },
     "execution_count": 42,
     "metadata": {},
     "output_type": "execute_result"
    },
    {
     "data": {
      "text/plain": [
       "['sustainable consumption', 'sustainable production', 'development planning ']"
      ]
     },
     "execution_count": 42,
     "metadata": {},
     "output_type": "execute_result"
    },
    {
     "data": {
      "text/plain": [
       "['sustainable consumption', 'sustainable production', 'development planning ']"
      ]
     },
     "execution_count": 42,
     "metadata": {},
     "output_type": "execute_result"
    },
    {
     "data": {
      "text/plain": [
       "['sustainable consumption', 'sustainable production', 'development planning ']"
      ]
     },
     "execution_count": 42,
     "metadata": {},
     "output_type": "execute_result"
    },
    {
     "data": {
      "text/plain": [
       "['economic growth']"
      ]
     },
     "execution_count": 42,
     "metadata": {},
     "output_type": "execute_result"
    },
    {
     "data": {
      "text/plain": [
       "['economic growth']"
      ]
     },
     "execution_count": 42,
     "metadata": {},
     "output_type": "execute_result"
    },
    {
     "data": {
      "text/plain": [
       "['economic growth']"
      ]
     },
     "execution_count": 42,
     "metadata": {},
     "output_type": "execute_result"
    },
    {
     "data": {
      "text/plain": [
       "['hazardous wastes', 'international instruments']"
      ]
     },
     "execution_count": 42,
     "metadata": {},
     "output_type": "execute_result"
    },
    {
     "data": {
      "text/plain": [
       "['hazardous wastes', 'international instruments']"
      ]
     },
     "execution_count": 42,
     "metadata": {},
     "output_type": "execute_result"
    },
    {
     "data": {
      "text/plain": [
       "['hazardous wastes', 'international instruments']"
      ]
     },
     "execution_count": 42,
     "metadata": {},
     "output_type": "execute_result"
    },
    {
     "data": {
      "text/plain": [
       "['hazardous wastes', 'international instruments']"
      ]
     },
     "execution_count": 42,
     "metadata": {},
     "output_type": "execute_result"
    },
    {
     "data": {
      "text/plain": [
       "['subsidies', 'fossil fuels']"
      ]
     },
     "execution_count": 42,
     "metadata": {},
     "output_type": "execute_result"
    },
    {
     "data": {
      "text/plain": [
       "['subsidies', 'fossil fuels']"
      ]
     },
     "execution_count": 42,
     "metadata": {},
     "output_type": "execute_result"
    },
    {
     "data": {
      "text/plain": [
       "['subsidies', 'fossil fuels']"
      ]
     },
     "execution_count": 42,
     "metadata": {},
     "output_type": "execute_result"
    },
    {
     "data": {
      "text/plain": [
       "['disaster loss',\n",
       " 'disaster prevention',\n",
       " 'preparedness and relief',\n",
       " 'disaster victims']"
      ]
     },
     "execution_count": 42,
     "metadata": {},
     "output_type": "execute_result"
    },
    {
     "data": {
      "text/plain": [
       "['disaster loss', 'disaster prevention', 'preparedness and relief']"
      ]
     },
     "execution_count": 42,
     "metadata": {},
     "output_type": "execute_result"
    },
    {
     "data": {
      "text/plain": [
       "['disaster loss',\n",
       " 'disaster prevention',\n",
       " 'preparedness and relief',\n",
       " 'disaster victims']"
      ]
     },
     "execution_count": 42,
     "metadata": {},
     "output_type": "execute_result"
    },
    {
     "data": {
      "text/plain": [
       "['disaster loss', 'disaster prevention', 'preparedness and relief']"
      ]
     },
     "execution_count": 42,
     "metadata": {},
     "output_type": "execute_result"
    },
    {
     "data": {
      "text/plain": [
       "['disaster loss', 'disaster prevention', 'preparedness and relief']"
      ]
     },
     "execution_count": 42,
     "metadata": {},
     "output_type": "execute_result"
    },
    {
     "data": {
      "text/plain": [
       "['disaster loss', 'disaster prevention', 'preparedness and relief']"
      ]
     },
     "execution_count": 42,
     "metadata": {},
     "output_type": "execute_result"
    },
    {
     "data": {
      "text/plain": [
       "['disaster loss',\n",
       " 'disaster prevention',\n",
       " 'preparedness and relief',\n",
       " 'disaster victims']"
      ]
     },
     "execution_count": 42,
     "metadata": {},
     "output_type": "execute_result"
    },
    {
     "data": {
      "text/plain": [
       "['disaster loss',\n",
       " 'disaster prevention',\n",
       " 'preparedness and relief',\n",
       " 'disaster victims']"
      ]
     },
     "execution_count": 42,
     "metadata": {},
     "output_type": "execute_result"
    },
    {
     "data": {
      "text/plain": [
       "['disaster loss',\n",
       " 'disaster prevention',\n",
       " 'preparedness and relief',\n",
       " 'disaster victims']"
      ]
     },
     "execution_count": 42,
     "metadata": {},
     "output_type": "execute_result"
    },
    {
     "data": {
      "text/plain": [
       "['disaster loss',\n",
       " 'disaster prevention',\n",
       " 'preparedness and relief',\n",
       " 'disaster victims']"
      ]
     },
     "execution_count": 42,
     "metadata": {},
     "output_type": "execute_result"
    },
    {
     "data": {
      "text/plain": [
       "['disaster loss',\n",
       " 'disaster prevention',\n",
       " 'preparedness and relief',\n",
       " 'disaster victims']"
      ]
     },
     "execution_count": 42,
     "metadata": {},
     "output_type": "execute_result"
    },
    {
     "data": {
      "text/plain": [
       "['disaster loss',\n",
       " 'disaster prevention',\n",
       " 'preparedness and relief',\n",
       " 'disaster victims']"
      ]
     },
     "execution_count": 42,
     "metadata": {},
     "output_type": "execute_result"
    },
    {
     "data": {
      "text/plain": [
       "['disaster loss',\n",
       " 'disaster prevention',\n",
       " 'preparedness and relief',\n",
       " 'disaster victims']"
      ]
     },
     "execution_count": 42,
     "metadata": {},
     "output_type": "execute_result"
    },
    {
     "data": {
      "text/plain": [
       "['disaster loss',\n",
       " 'disaster prevention',\n",
       " 'preparedness and relief',\n",
       " 'disaster victims']"
      ]
     },
     "execution_count": 42,
     "metadata": {},
     "output_type": "execute_result"
    },
    {
     "data": {
      "text/plain": [
       "['disaster loss',\n",
       " 'disaster prevention',\n",
       " 'preparedness and relief',\n",
       " 'disaster victims']"
      ]
     },
     "execution_count": 42,
     "metadata": {},
     "output_type": "execute_result"
    },
    {
     "data": {
      "text/plain": [
       "['means of implementation',\n",
       " 'disaster prevention',\n",
       " 'preparedness and relief',\n",
       " 'laws and regulations']"
      ]
     },
     "execution_count": 42,
     "metadata": {},
     "output_type": "execute_result"
    },
    {
     "data": {
      "text/plain": [
       "['means of implementation',\n",
       " 'disaster prevention',\n",
       " 'preparedness and relief',\n",
       " 'laws and regulations']"
      ]
     },
     "execution_count": 42,
     "metadata": {},
     "output_type": "execute_result"
    },
    {
     "data": {
      "text/plain": [
       "['local governments',\n",
       " 'means of implementation',\n",
       " 'disaster prevention',\n",
       " 'preparedness and relief',\n",
       " 'laws and regulations']"
      ]
     },
     "execution_count": 42,
     "metadata": {},
     "output_type": "execute_result"
    },
    {
     "data": {
      "text/plain": [
       "['local governments',\n",
       " 'means of implementation',\n",
       " 'disaster prevention',\n",
       " 'preparedness and relief',\n",
       " 'laws and regulations']"
      ]
     },
     "execution_count": 42,
     "metadata": {},
     "output_type": "execute_result"
    },
    {
     "data": {
      "text/plain": [
       "['local governments']"
      ]
     },
     "execution_count": 42,
     "metadata": {},
     "output_type": "execute_result"
    },
    {
     "data": {
      "text/plain": [
       "['marine resources',\n",
       " 'marine ecosystems',\n",
       " 'living marine resources',\n",
       " 'fisheries',\n",
       " 'oceans']"
      ]
     },
     "execution_count": 42,
     "metadata": {},
     "output_type": "execute_result"
    },
    {
     "data": {
      "text/plain": [
       "['marine resources',\n",
       " 'marine ecosystems',\n",
       " 'living marine resources',\n",
       " 'national parks and protected areas',\n",
       " 'oceans',\n",
       " 'biological diversity']"
      ]
     },
     "execution_count": 42,
     "metadata": {},
     "output_type": "execute_result"
    },
    {
     "data": {
      "text/plain": [
       "['marine resources',\n",
       " 'marine ecosystems',\n",
       " 'living marine resources',\n",
       " 'national parks and protected areas',\n",
       " 'oceans',\n",
       " 'biological diversity']"
      ]
     },
     "execution_count": 42,
     "metadata": {},
     "output_type": "execute_result"
    },
    {
     "data": {
      "text/plain": [
       "['marine resources',\n",
       " 'marine ecosystems',\n",
       " 'living marine resources',\n",
       " 'national parks and protected areas',\n",
       " 'oceans',\n",
       " 'biological diversity']"
      ]
     },
     "execution_count": 42,
     "metadata": {},
     "output_type": "execute_result"
    },
    {
     "data": {
      "text/plain": [
       "['marine resources',\n",
       " 'marine ecosystems',\n",
       " 'international instruments',\n",
       " 'fishing']"
      ]
     },
     "execution_count": 42,
     "metadata": {},
     "output_type": "execute_result"
    },
    {
     "data": {
      "text/plain": [
       "['means of implementation',\n",
       " 'research and development',\n",
       " 'marine resources',\n",
       " 'marine ecosystems']"
      ]
     },
     "execution_count": 42,
     "metadata": {},
     "output_type": "execute_result"
    },
    {
     "data": {
      "text/plain": [
       "['means of implementation', 'marine resources', 'marine ecosystems', 'fishing']"
      ]
     },
     "execution_count": 42,
     "metadata": {},
     "output_type": "execute_result"
    },
    {
     "data": {
      "text/plain": [
       "['terrestrial ecosystems',\n",
       " 'forest ecosystems',\n",
       " 'national parks and protected areas',\n",
       " 'forests',\n",
       " 'biological diversity',\n",
       " 'natural resources']"
      ]
     },
     "execution_count": 42,
     "metadata": {},
     "output_type": "execute_result"
    },
    {
     "data": {
      "text/plain": [
       "['terrestrial ecosystems',\n",
       " 'forest ecosystems',\n",
       " 'national parks and protected areas',\n",
       " 'forests',\n",
       " 'biological diversity',\n",
       " 'natural resources']"
      ]
     },
     "execution_count": 42,
     "metadata": {},
     "output_type": "execute_result"
    },
    {
     "data": {
      "text/plain": [
       "['terrestrial ecosystems',\n",
       " 'forest ecosystems',\n",
       " 'national parks and protected areas',\n",
       " 'forests',\n",
       " 'biological diversity',\n",
       " 'natural resources']"
      ]
     },
     "execution_count": 42,
     "metadata": {},
     "output_type": "execute_result"
    },
    {
     "data": {
      "text/plain": [
       "['water',\n",
       " 'freshwater',\n",
       " 'biological diversity',\n",
       " 'freshwater ecosystems',\n",
       " 'natural resources',\n",
       " 'national parks and protected areas']"
      ]
     },
     "execution_count": 42,
     "metadata": {},
     "output_type": "execute_result"
    },
    {
     "data": {
      "text/plain": [
       "['water',\n",
       " 'freshwater',\n",
       " 'biological diversity',\n",
       " 'freshwater ecosystems',\n",
       " 'natural resources',\n",
       " 'national parks and protected areas']"
      ]
     },
     "execution_count": 42,
     "metadata": {},
     "output_type": "execute_result"
    },
    {
     "data": {
      "text/plain": [
       "['terrestrial ecosystems', 'forest ecosystems', 'natural resources', 'forests']"
      ]
     },
     "execution_count": 42,
     "metadata": {},
     "output_type": "execute_result"
    },
    {
     "data": {
      "text/plain": [
       "['terrestrial ecosystems',\n",
       " 'forest ecosystems',\n",
       " 'natural resources',\n",
       " 'forests',\n",
       " 'forest management']"
      ]
     },
     "execution_count": 42,
     "metadata": {},
     "output_type": "execute_result"
    },
    {
     "data": {
      "text/plain": [
       "['terrestrial ecosystems', 'forest ecosystems', 'natural resources', 'forests']"
      ]
     },
     "execution_count": 42,
     "metadata": {},
     "output_type": "execute_result"
    },
    {
     "data": {
      "text/plain": [
       "['terrestrial ecosystems',\n",
       " 'forest ecosystems',\n",
       " 'natural resources',\n",
       " 'forests',\n",
       " 'forest management']"
      ]
     },
     "execution_count": 42,
     "metadata": {},
     "output_type": "execute_result"
    },
    {
     "data": {
      "text/plain": [
       "['terrestrial ecosystems',\n",
       " 'forest ecosystems',\n",
       " 'natural resources',\n",
       " 'forests',\n",
       " 'forest management',\n",
       " 'national parks and protected areas']"
      ]
     },
     "execution_count": 42,
     "metadata": {},
     "output_type": "execute_result"
    },
    {
     "data": {
      "text/plain": [
       "['terrestrial ecosystems',\n",
       " 'mountain ecosystems',\n",
       " 'national parks and protected areas',\n",
       " 'biological diversity',\n",
       " 'natural resources']"
      ]
     },
     "execution_count": 42,
     "metadata": {},
     "output_type": "execute_result"
    },
    {
     "data": {
      "text/plain": [
       "['terrestrial ecosystems', 'mountain ecosystems', 'natural resources']"
      ]
     },
     "execution_count": 42,
     "metadata": {},
     "output_type": "execute_result"
    },
    {
     "data": {
      "text/plain": [
       "['terrestrial ecosystems', 'mountain ecosystems', 'natural resources']"
      ]
     },
     "execution_count": 42,
     "metadata": {},
     "output_type": "execute_result"
    },
    {
     "data": {
      "text/plain": [
       "['terrestrial ecosystems', 'mountain ecosystems', 'natural resources']"
      ]
     },
     "execution_count": 42,
     "metadata": {},
     "output_type": "execute_result"
    },
    {
     "data": {
      "text/plain": [
       "['endangered species', 'biological diversity', 'genetic resources']"
      ]
     },
     "execution_count": 42,
     "metadata": {},
     "output_type": "execute_result"
    },
    {
     "data": {
      "text/plain": [
       "['laws and regulations',\n",
       " 'international instruments',\n",
       " 'biological diversity',\n",
       " 'genetic resources']"
      ]
     },
     "execution_count": 42,
     "metadata": {},
     "output_type": "execute_result"
    },
    {
     "data": {
      "text/plain": [
       "['international instruments', 'biological diversity', 'genetic resources']"
      ]
     },
     "execution_count": 42,
     "metadata": {},
     "output_type": "execute_result"
    },
    {
     "data": {
      "text/plain": [
       "['laws and regulations',\n",
       " 'international instruments',\n",
       " 'biological diversity',\n",
       " 'genetic resources',\n",
       " 'sustainable agriculture']"
      ]
     },
     "execution_count": 42,
     "metadata": {},
     "output_type": "execute_result"
    },
    {
     "data": {
      "text/plain": [
       "['international instruments',\n",
       " 'biological diversity',\n",
       " 'genetic resources',\n",
       " 'sustainable agriculture']"
      ]
     },
     "execution_count": 42,
     "metadata": {},
     "output_type": "execute_result"
    },
    {
     "data": {
      "text/plain": [
       "['means of implementation',\n",
       " 'development finance',\n",
       " 'biological diversity',\n",
       " 'genetic resources',\n",
       " 'development assistance']"
      ]
     },
     "execution_count": 42,
     "metadata": {},
     "output_type": "execute_result"
    },
    {
     "data": {
      "text/plain": [
       "['means of implementation',\n",
       " 'development finance',\n",
       " 'biological diversity',\n",
       " 'genetic resources',\n",
       " 'development assistance']"
      ]
     },
     "execution_count": 42,
     "metadata": {},
     "output_type": "execute_result"
    },
    {
     "data": {
      "text/plain": [
       "['means of implementation',\n",
       " 'development finance',\n",
       " 'biological diversity',\n",
       " 'genetic resources',\n",
       " 'development assistance']"
      ]
     },
     "execution_count": 42,
     "metadata": {},
     "output_type": "execute_result"
    },
    {
     "data": {
      "text/plain": [
       "['means of implementation',\n",
       " 'development finance',\n",
       " 'biological diversity',\n",
       " 'genetic resources',\n",
       " 'development assistance']"
      ]
     },
     "execution_count": 42,
     "metadata": {},
     "output_type": "execute_result"
    },
    {
     "data": {
      "text/plain": [
       "['violence', 'crime', 'violent deaths']"
      ]
     },
     "execution_count": 42,
     "metadata": {},
     "output_type": "execute_result"
    },
    {
     "data": {
      "text/plain": [
       "['violence', 'crime', 'violent deaths']"
      ]
     },
     "execution_count": 42,
     "metadata": {},
     "output_type": "execute_result"
    },
    {
     "data": {
      "text/plain": [
       "['violence', 'crime', 'violent deaths', 'access to information', 'journalists']"
      ]
     },
     "execution_count": 42,
     "metadata": {},
     "output_type": "execute_result"
    },
    {
     "data": {
      "text/plain": [
       "['laws and regulations', 'access to information']"
      ]
     },
     "execution_count": 42,
     "metadata": {},
     "output_type": "execute_result"
    },
    {
     "data": {
      "text/plain": [
       "['violence', 'child abuse', 'domestic abuse', 'children']"
      ]
     },
     "execution_count": 42,
     "metadata": {},
     "output_type": "execute_result"
    },
    {
     "data": {
      "text/plain": [
       "['trafficking in persons', 'crime', 'human rights violations']"
      ]
     },
     "execution_count": 42,
     "metadata": {},
     "output_type": "execute_result"
    },
    {
     "data": {
      "text/plain": [
       "['\"womens advancement\"',\n",
       " 'gender equality',\n",
       " 'violence',\n",
       " 'sex crimes',\n",
       " 'women',\n",
       " 'youth']"
      ]
     },
     "execution_count": 42,
     "metadata": {},
     "output_type": "execute_result"
    },
    {
     "data": {
      "text/plain": [
       "['rule of law', 'administration of justice', 'detained persons']"
      ]
     },
     "execution_count": 42,
     "metadata": {},
     "output_type": "execute_result"
    },
    {
     "data": {
      "text/plain": [
       "['rule of law', 'bribery', 'corruption']"
      ]
     },
     "execution_count": 42,
     "metadata": {},
     "output_type": "execute_result"
    },
    {
     "data": {
      "text/plain": [
       "['economic policy', 'public expenditures']"
      ]
     },
     "execution_count": 42,
     "metadata": {},
     "output_type": "execute_result"
    },
    {
     "data": {
      "text/plain": [
       "['equality of states',\n",
       " 'intergovernmental organizations',\n",
       " 'developing countries']"
      ]
     },
     "execution_count": 42,
     "metadata": {},
     "output_type": "execute_result"
    },
    {
     "data": {
      "text/plain": [
       "['equality of states',\n",
       " 'intergovernmental organizations',\n",
       " 'developing countries']"
      ]
     },
     "execution_count": 42,
     "metadata": {},
     "output_type": "execute_result"
    },
    {
     "data": {
      "text/plain": [
       "['civil registration', 'birth reporting', 'human rights']"
      ]
     },
     "execution_count": 42,
     "metadata": {},
     "output_type": "execute_result"
    },
    {
     "data": {
      "text/plain": [
       "['means of implementation', 'human rights institutions', 'human rights']"
      ]
     },
     "execution_count": 42,
     "metadata": {},
     "output_type": "execute_result"
    },
    {
     "data": {
      "text/plain": [
       "['means of implementation', 'human rights institutions', 'human rights']"
      ]
     },
     "execution_count": 42,
     "metadata": {},
     "output_type": "execute_result"
    },
    {
     "data": {
      "text/plain": [
       "['means of implementation', 'human rights institutions', 'human rights']"
      ]
     },
     "execution_count": 42,
     "metadata": {},
     "output_type": "execute_result"
    },
    {
     "data": {
      "text/plain": [
       "['means of implementation', 'human rights institutions', 'human rights']"
      ]
     },
     "execution_count": 42,
     "metadata": {},
     "output_type": "execute_result"
    },
    {
     "data": {
      "text/plain": [
       "['means of implementation', 'human rights institutions', 'human rights']"
      ]
     },
     "execution_count": 42,
     "metadata": {},
     "output_type": "execute_result"
    },
    {
     "data": {
      "text/plain": [
       "['means of implementation', 'human rights institutions', 'human rights']"
      ]
     },
     "execution_count": 42,
     "metadata": {},
     "output_type": "execute_result"
    },
    {
     "data": {
      "text/plain": [
       "['means of implementation',\n",
       " 'tariffs',\n",
       " 'barriers to trade',\n",
       " 'international trade']"
      ]
     },
     "execution_count": 42,
     "metadata": {},
     "output_type": "execute_result"
    },
    {
     "data": {
      "text/plain": [
       "['means of implementation', 'international trade']"
      ]
     },
     "execution_count": 42,
     "metadata": {},
     "output_type": "execute_result"
    },
    {
     "data": {
      "text/plain": [
       "['means of implementation', 'international trade']"
      ]
     },
     "execution_count": 42,
     "metadata": {},
     "output_type": "execute_result"
    },
    {
     "data": {
      "text/plain": [
       "['means of implementation', 'international trade']"
      ]
     },
     "execution_count": 42,
     "metadata": {},
     "output_type": "execute_result"
    },
    {
     "data": {
      "text/plain": [
       "['means of implementation', 'international trade']"
      ]
     },
     "execution_count": 42,
     "metadata": {},
     "output_type": "execute_result"
    },
    {
     "data": {
      "text/plain": [
       "['means of implementation',\n",
       " 'tariffs',\n",
       " 'barriers to trade',\n",
       " 'international trade']"
      ]
     },
     "execution_count": 42,
     "metadata": {},
     "output_type": "execute_result"
    },
    {
     "data": {
      "text/plain": [
       "['means of implementation',\n",
       " 'programme ownership',\n",
       " 'programme evaluation',\n",
       " 'results-based management']"
      ]
     },
     "execution_count": 42,
     "metadata": {},
     "output_type": "execute_result"
    },
    {
     "data": {
      "text/plain": [
       "['means of implementation',\n",
       " 'programme ownership',\n",
       " 'programme evaluation',\n",
       " 'results-based management']"
      ]
     },
     "execution_count": 42,
     "metadata": {},
     "output_type": "execute_result"
    },
    {
     "data": {
      "text/plain": [
       "['means of implementation',\n",
       " 'programme ownership',\n",
       " 'programme evaluation',\n",
       " 'results-based management']"
      ]
     },
     "execution_count": 42,
     "metadata": {},
     "output_type": "execute_result"
    },
    {
     "data": {
      "text/plain": [
       "['means of implementation', 'programme ownership', 'programme evaluation']"
      ]
     },
     "execution_count": 42,
     "metadata": {},
     "output_type": "execute_result"
    },
    {
     "data": {
      "text/plain": [
       "['means of implementation',\n",
       " 'programme ownership',\n",
       " 'programme evaluation',\n",
       " 'results-based management']"
      ]
     },
     "execution_count": 42,
     "metadata": {},
     "output_type": "execute_result"
    },
    {
     "data": {
      "text/plain": [
       "['means of implementation',\n",
       " 'programme ownership',\n",
       " 'programme evaluation',\n",
       " 'results-based management']"
      ]
     },
     "execution_count": 42,
     "metadata": {},
     "output_type": "execute_result"
    },
    {
     "data": {
      "text/plain": [
       "['means of implementation', 'programme ownership', 'programme evaluation']"
      ]
     },
     "execution_count": 42,
     "metadata": {},
     "output_type": "execute_result"
    },
    {
     "data": {
      "text/plain": [
       "['means of implementation',\n",
       " 'programme ownership',\n",
       " 'programme evaluation',\n",
       " 'results-based management']"
      ]
     },
     "execution_count": 42,
     "metadata": {},
     "output_type": "execute_result"
    },
    {
     "data": {
      "text/plain": [
       "['means of implementation', 'programme evaluation']"
      ]
     },
     "execution_count": 42,
     "metadata": {},
     "output_type": "execute_result"
    },
    {
     "data": {
      "text/plain": [
       "['means of implementation', 'statistical capacity', 'laws and regulations']"
      ]
     },
     "execution_count": 42,
     "metadata": {},
     "output_type": "execute_result"
    },
    {
     "data": {
      "text/plain": [
       "['means of implementation',\n",
       " 'statistical capacity',\n",
       " 'development finance',\n",
       " 'development planning']"
      ]
     },
     "execution_count": 42,
     "metadata": {},
     "output_type": "execute_result"
    },
    {
     "data": {
      "text/plain": [
       "['means of implementation',\n",
       " 'statistical capacity',\n",
       " 'development finance',\n",
       " 'development planning',\n",
       " 'programme ownership']"
      ]
     },
     "execution_count": 42,
     "metadata": {},
     "output_type": "execute_result"
    },
    {
     "data": {
      "text/plain": [
       "['means of implementation',\n",
       " 'statistical capacity',\n",
       " 'development finance',\n",
       " 'development planning']"
      ]
     },
     "execution_count": 42,
     "metadata": {},
     "output_type": "execute_result"
    },
    {
     "data": {
      "text/plain": [
       "['means of implementation',\n",
       " 'statistical capacity',\n",
       " 'development finance',\n",
       " 'development planning']"
      ]
     },
     "execution_count": 42,
     "metadata": {},
     "output_type": "execute_result"
    },
    {
     "data": {
      "text/plain": [
       "['means of implementation', 'statistical capacity', 'development planning']"
      ]
     },
     "execution_count": 42,
     "metadata": {},
     "output_type": "execute_result"
    },
    {
     "data": {
      "text/plain": [
       "['means of implementation',\n",
       " 'statistical capacity',\n",
       " 'development finance',\n",
       " 'developing countries']"
      ]
     },
     "execution_count": 42,
     "metadata": {},
     "output_type": "execute_result"
    },
    {
     "data": {
      "text/plain": [
       "['means of implementation', 'statistical capacity', 'civil registration']"
      ]
     },
     "execution_count": 42,
     "metadata": {},
     "output_type": "execute_result"
    },
    {
     "data": {
      "text/plain": [
       "['means of implementation', 'statistical capacity', 'civil registration']"
      ]
     },
     "execution_count": 42,
     "metadata": {},
     "output_type": "execute_result"
    },
    {
     "data": {
      "text/plain": [
       "['means of implementation', 'statistical capacity', 'censuses']"
      ]
     },
     "execution_count": 42,
     "metadata": {},
     "output_type": "execute_result"
    },
    {
     "data": {
      "text/plain": [
       "['means of implementation', 'statistical capacity', 'censuses']"
      ]
     },
     "execution_count": 42,
     "metadata": {},
     "output_type": "execute_result"
    },
    {
     "data": {
      "text/plain": [
       "['means of implementation', 'statistical capacity', 'civil registration']"
      ]
     },
     "execution_count": 42,
     "metadata": {},
     "output_type": "execute_result"
    },
    {
     "data": {
      "text/plain": [
       "['means of implementation', 'statistical capacity', 'civil registration']"
      ]
     },
     "execution_count": 42,
     "metadata": {},
     "output_type": "execute_result"
    },
    {
     "data": {
      "text/plain": [
       "['means of implementation',\n",
       " 'least developed countries',\n",
       " 'development assistance']"
      ]
     },
     "execution_count": 42,
     "metadata": {},
     "output_type": "execute_result"
    },
    {
     "data": {
      "text/plain": [
       "['means of implementation',\n",
       " 'least developed countries',\n",
       " 'development assistance']"
      ]
     },
     "execution_count": 42,
     "metadata": {},
     "output_type": "execute_result"
    },
    {
     "data": {
      "text/plain": [
       "['means of implementation',\n",
       " 'landlocked developing countries',\n",
       " 'developing countries',\n",
       " 'development assistance']"
      ]
     },
     "execution_count": 42,
     "metadata": {},
     "output_type": "execute_result"
    },
    {
     "data": {
      "text/plain": [
       "['means of implementation',\n",
       " 'landlocked developing countries',\n",
       " 'developing countries',\n",
       " 'development assistance']"
      ]
     },
     "execution_count": 42,
     "metadata": {},
     "output_type": "execute_result"
    },
    {
     "data": {
      "text/plain": [
       "['means of implementation', 'developing countries', 'development assistance']"
      ]
     },
     "execution_count": 42,
     "metadata": {},
     "output_type": "execute_result"
    },
    {
     "data": {
      "text/plain": [
       "['means of implementation',\n",
       " 'small island developing states',\n",
       " 'developing countries',\n",
       " 'development assistance']"
      ]
     },
     "execution_count": 42,
     "metadata": {},
     "output_type": "execute_result"
    },
    {
     "data": {
      "text/plain": [
       "['means of implementation', 'development assistance']"
      ]
     },
     "execution_count": 42,
     "metadata": {},
     "output_type": "execute_result"
    },
    {
     "data": {
      "text/plain": [
       "['means of implementation', 'development assistance']"
      ]
     },
     "execution_count": 42,
     "metadata": {},
     "output_type": "execute_result"
    },
    {
     "data": {
      "text/plain": [
       "['means of implementation',\n",
       " 'development finance',\n",
       " 'development finance',\n",
       " 'remittances']"
      ]
     },
     "execution_count": 42,
     "metadata": {},
     "output_type": "execute_result"
    },
    {
     "data": {
      "text/plain": [
       "['means of implementation',\n",
       " 'external debt',\n",
       " 'international trade',\n",
       " 'debt servicing']"
      ]
     },
     "execution_count": 42,
     "metadata": {},
     "output_type": "execute_result"
    },
    {
     "data": {
      "text/plain": [
       "['means of implementation',\n",
       " 'information and communication technology (ict)',\n",
       " 'physical infrastructure',\n",
       " 'internet']"
      ]
     },
     "execution_count": 42,
     "metadata": {},
     "output_type": "execute_result"
    },
    {
     "data": {
      "text/plain": [
       "['means of implementation',\n",
       " 'information and communication technology (ict)',\n",
       " 'physical infrastructure',\n",
       " 'internet']"
      ]
     },
     "execution_count": 42,
     "metadata": {},
     "output_type": "execute_result"
    },
    {
     "data": {
      "text/plain": [
       "['means of implementation',\n",
       " 'information and communication technology (ict)',\n",
       " 'physical infrastructure',\n",
       " 'internet']"
      ]
     },
     "execution_count": 42,
     "metadata": {},
     "output_type": "execute_result"
    },
    {
     "data": {
      "text/plain": [
       "['means of implementation', 'development finance', 'developing countries']"
      ]
     },
     "execution_count": 42,
     "metadata": {},
     "output_type": "execute_result"
    },
    {
     "data": {
      "text/plain": [
       "['hunger', 'malnutrition', 'food shortage', 'health']"
      ]
     },
     "execution_count": 42,
     "metadata": {},
     "output_type": "execute_result"
    },
    {
     "data": {
      "text/plain": [
       "['hunger', 'malnutrition', 'food shortage', 'health']"
      ]
     },
     "execution_count": 42,
     "metadata": {},
     "output_type": "execute_result"
    },
    {
     "data": {
      "text/plain": [
       "['food security', 'food shortage', 'hunger']"
      ]
     },
     "execution_count": 42,
     "metadata": {},
     "output_type": "execute_result"
    },
    {
     "data": {
      "text/plain": [
       "['food security', 'food shortage', 'hunger']"
      ]
     },
     "execution_count": 42,
     "metadata": {},
     "output_type": "execute_result"
    },
    {
     "data": {
      "text/plain": [
       "['hunger',\n",
       " 'malnutrition',\n",
       " 'food shortage',\n",
       " 'child nutrition',\n",
       " 'child health',\n",
       " 'health',\n",
       " 'child development',\n",
       " 'children']"
      ]
     },
     "execution_count": 42,
     "metadata": {},
     "output_type": "execute_result"
    },
    {
     "data": {
      "text/plain": [
       "['hunger',\n",
       " 'malnutrition',\n",
       " 'food shortage',\n",
       " 'child nutrition',\n",
       " 'child health',\n",
       " 'health',\n",
       " 'child development',\n",
       " 'children']"
      ]
     },
     "execution_count": 42,
     "metadata": {},
     "output_type": "execute_result"
    },
    {
     "data": {
      "text/plain": [
       "['obesity',\n",
       " 'malnutrition',\n",
       " 'child nutrition',\n",
       " 'child health',\n",
       " 'health',\n",
       " 'child development',\n",
       " 'children']"
      ]
     },
     "execution_count": 42,
     "metadata": {},
     "output_type": "execute_result"
    },
    {
     "data": {
      "text/plain": [
       "['obesity',\n",
       " 'malnutrition',\n",
       " 'child nutrition',\n",
       " 'child health',\n",
       " 'health',\n",
       " 'child development',\n",
       " 'children']"
      ]
     },
     "execution_count": 42,
     "metadata": {},
     "output_type": "execute_result"
    },
    {
     "data": {
      "text/plain": [
       "['hunger',\n",
       " 'malnutrition',\n",
       " 'food shortage',\n",
       " 'child nutrition',\n",
       " 'child health',\n",
       " 'health',\n",
       " 'child development',\n",
       " 'children']"
      ]
     },
     "execution_count": 42,
     "metadata": {},
     "output_type": "execute_result"
    },
    {
     "data": {
      "text/plain": [
       "['hunger',\n",
       " 'malnutrition',\n",
       " 'food shortage',\n",
       " 'child nutrition',\n",
       " 'child health',\n",
       " 'health',\n",
       " 'child development',\n",
       " 'children']"
      ]
     },
     "execution_count": 42,
     "metadata": {},
     "output_type": "execute_result"
    },
    {
     "data": {
      "text/plain": [
       "['sustainable agriculture', 'genetic resources']"
      ]
     },
     "execution_count": 42,
     "metadata": {},
     "output_type": "execute_result"
    },
    {
     "data": {
      "text/plain": [
       "['sustainable agriculture', 'genetic resources']"
      ]
     },
     "execution_count": 42,
     "metadata": {},
     "output_type": "execute_result"
    },
    {
     "data": {
      "text/plain": [
       "['sustainable agriculture', 'genetic resources']"
      ]
     },
     "execution_count": 42,
     "metadata": {},
     "output_type": "execute_result"
    },
    {
     "data": {
      "text/plain": [
       "['sustainable agriculture', 'genetic resources']"
      ]
     },
     "execution_count": 42,
     "metadata": {},
     "output_type": "execute_result"
    },
    {
     "data": {
      "text/plain": [
       "['sustainable agriculture', 'genetic resources']"
      ]
     },
     "execution_count": 42,
     "metadata": {},
     "output_type": "execute_result"
    },
    {
     "data": {
      "text/plain": [
       "['sustainable agriculture', 'genetic resources']"
      ]
     },
     "execution_count": 42,
     "metadata": {},
     "output_type": "execute_result"
    },
    {
     "data": {
      "text/plain": [
       "['sustainable agriculture', 'genetic resources']"
      ]
     },
     "execution_count": 42,
     "metadata": {},
     "output_type": "execute_result"
    },
    {
     "data": {
      "text/plain": [
       "['sustainable agriculture', 'genetic resources']"
      ]
     },
     "execution_count": 42,
     "metadata": {},
     "output_type": "execute_result"
    },
    {
     "data": {
      "text/plain": [
       "['sustainable agriculture', 'genetic resources']"
      ]
     },
     "execution_count": 42,
     "metadata": {},
     "output_type": "execute_result"
    },
    {
     "data": {
      "text/plain": [
       "['sustainable agriculture', 'genetic resources']"
      ]
     },
     "execution_count": 42,
     "metadata": {},
     "output_type": "execute_result"
    },
    {
     "data": {
      "text/plain": [
       "['sustainable agriculture', 'genetic resources']"
      ]
     },
     "execution_count": 42,
     "metadata": {},
     "output_type": "execute_result"
    },
    {
     "data": {
      "text/plain": [
       "['sustainable agriculture', 'genetic resources']"
      ]
     },
     "execution_count": 42,
     "metadata": {},
     "output_type": "execute_result"
    },
    {
     "data": {
      "text/plain": [
       "['means of implementation',\n",
       " 'sustainable agriculture',\n",
       " 'gross domestic product']"
      ]
     },
     "execution_count": 42,
     "metadata": {},
     "output_type": "execute_result"
    },
    {
     "data": {
      "text/plain": [
       "['means of implementation',\n",
       " 'sustainable agriculture',\n",
       " 'agricultural policy',\n",
       " 'economic policy']"
      ]
     },
     "execution_count": 42,
     "metadata": {},
     "output_type": "execute_result"
    },
    {
     "data": {
      "text/plain": [
       "['means of implementation',\n",
       " 'sustainable agriculture',\n",
       " 'agricultural policy',\n",
       " 'economic policy']"
      ]
     },
     "execution_count": 42,
     "metadata": {},
     "output_type": "execute_result"
    },
    {
     "data": {
      "text/plain": [
       "['means of implementation',\n",
       " 'development finance',\n",
       " 'sustainable agriculture',\n",
       " 'agricultural policy',\n",
       " 'economic policy']"
      ]
     },
     "execution_count": 42,
     "metadata": {},
     "output_type": "execute_result"
    },
    {
     "data": {
      "text/plain": [
       "['means of implementation',\n",
       " 'sustainable agriculture',\n",
       " 'agricultural policy',\n",
       " 'economic policy',\n",
       " 'export subsidies']"
      ]
     },
     "execution_count": 42,
     "metadata": {},
     "output_type": "execute_result"
    },
    {
     "data": {
      "text/plain": [
       "['means of implementation', 'sustainable agriculture', 'food prices']"
      ]
     },
     "execution_count": 42,
     "metadata": {},
     "output_type": "execute_result"
    },
    {
     "data": {
      "text/plain": [
       "['means of implementation', 'sustainable agriculture', 'food prices']"
      ]
     },
     "execution_count": 42,
     "metadata": {},
     "output_type": "execute_result"
    },
    {
     "data": {
      "text/plain": [
       "['maternal mortality',\n",
       " 'maternal and child health',\n",
       " '\"womens advancement\"',\n",
       " 'childbirth',\n",
       " '\"womens health\"',\n",
       " 'death',\n",
       " 'health',\n",
       " 'mothers',\n",
       " 'women']"
      ]
     },
     "execution_count": 42,
     "metadata": {},
     "output_type": "execute_result"
    },
    {
     "data": {
      "text/plain": [
       "['maternal and child health',\n",
       " 'child health',\n",
       " 'childbirth',\n",
       " 'health',\n",
       " 'women',\n",
       " 'children',\n",
       " 'infants']"
      ]
     },
     "execution_count": 42,
     "metadata": {},
     "output_type": "execute_result"
    },
    {
     "data": {
      "text/plain": [
       "['infant mortality',\n",
       " 'child mortality',\n",
       " 'mortality',\n",
       " 'death',\n",
       " 'health',\n",
       " 'children',\n",
       " 'infants']"
      ]
     },
     "execution_count": 42,
     "metadata": {},
     "output_type": "execute_result"
    },
    {
     "data": {
      "text/plain": [
       "['infant mortality',\n",
       " 'child mortality',\n",
       " 'mortality',\n",
       " 'death',\n",
       " 'health',\n",
       " 'children',\n",
       " 'infants']"
      ]
     },
     "execution_count": 42,
     "metadata": {},
     "output_type": "execute_result"
    },
    {
     "data": {
      "text/plain": [
       "['child mortality', 'mortality', 'death', 'health', 'children']"
      ]
     },
     "execution_count": 42,
     "metadata": {},
     "output_type": "execute_result"
    },
    {
     "data": {
      "text/plain": [
       "['child mortality', 'mortality', 'death', 'health', 'children']"
      ]
     },
     "execution_count": 42,
     "metadata": {},
     "output_type": "execute_result"
    },
    {
     "data": {
      "text/plain": [
       "['infant mortality',\n",
       " 'child mortality',\n",
       " 'mortality',\n",
       " 'death',\n",
       " 'health',\n",
       " 'children',\n",
       " 'infants']"
      ]
     },
     "execution_count": 42,
     "metadata": {},
     "output_type": "execute_result"
    },
    {
     "data": {
      "text/plain": [
       "['infant mortality',\n",
       " 'child mortality',\n",
       " 'mortality',\n",
       " 'death',\n",
       " 'health',\n",
       " 'children',\n",
       " 'infants']"
      ]
     },
     "execution_count": 42,
     "metadata": {},
     "output_type": "execute_result"
    },
    {
     "data": {
      "text/plain": [
       "['hiv', 'health', 'diseases', 'communicable diseases']"
      ]
     },
     "execution_count": 42,
     "metadata": {},
     "output_type": "execute_result"
    },
    {
     "data": {
      "text/plain": [
       "['health', 'diseases', 'communicable diseases', 'tuberculosis']"
      ]
     },
     "execution_count": 42,
     "metadata": {},
     "output_type": "execute_result"
    },
    {
     "data": {
      "text/plain": [
       "['health', 'diseases', 'communicable diseases', 'malaria']"
      ]
     },
     "execution_count": 42,
     "metadata": {},
     "output_type": "execute_result"
    },
    {
     "data": {
      "text/plain": [
       "['health', 'diseases', 'communicable diseases']"
      ]
     },
     "execution_count": 42,
     "metadata": {},
     "output_type": "execute_result"
    },
    {
     "data": {
      "text/plain": [
       "['health', 'diseases', 'communicable diseases', 'tropical diseases']"
      ]
     },
     "execution_count": 42,
     "metadata": {},
     "output_type": "execute_result"
    },
    {
     "data": {
      "text/plain": [
       "['diabetes',\n",
       " 'health',\n",
       " 'diseases',\n",
       " 'non-communicable diseases',\n",
       " 'cancer',\n",
       " 'cardiovascular diseases',\n",
       " 'respiratory diseases',\n",
       " 'mortality',\n",
       " 'death']"
      ]
     },
     "execution_count": 42,
     "metadata": {},
     "output_type": "execute_result"
    },
    {
     "data": {
      "text/plain": [
       "['health', 'diseases', 'non-communicable diseases', 'mortality', 'death']"
      ]
     },
     "execution_count": 42,
     "metadata": {},
     "output_type": "execute_result"
    },
    {
     "data": {
      "text/plain": [
       "['health', 'suicide', 'mortality', 'death', 'mental health']"
      ]
     },
     "execution_count": 42,
     "metadata": {},
     "output_type": "execute_result"
    },
    {
     "data": {
      "text/plain": [
       "['health', 'suicide', 'mortality', 'death', 'mental health']"
      ]
     },
     "execution_count": 42,
     "metadata": {},
     "output_type": "execute_result"
    },
    {
     "data": {
      "text/plain": [
       "['narcotic drugs', 'health', 'alcoholism', 'health hazards']"
      ]
     },
     "execution_count": 42,
     "metadata": {},
     "output_type": "execute_result"
    },
    {
     "data": {
      "text/plain": [
       "['health',\n",
       " 'traffic accidents',\n",
       " 'road traffic',\n",
       " 'mortality',\n",
       " 'death',\n",
       " 'traffic safety']"
      ]
     },
     "execution_count": 42,
     "metadata": {},
     "output_type": "execute_result"
    },
    {
     "data": {
      "text/plain": [
       "['health',\n",
       " 'reproductive health',\n",
       " 'family planning',\n",
       " '\"womens health\"',\n",
       " '\"womens advancement\"',\n",
       " 'gender equality',\n",
       " 'women']"
      ]
     },
     "execution_count": 42,
     "metadata": {},
     "output_type": "execute_result"
    },
    {
     "data": {
      "text/plain": [
       "['health',\n",
       " 'reproductive health',\n",
       " 'sex education',\n",
       " 'youth health',\n",
       " '\"womens health\"',\n",
       " 'gender equality',\n",
       " 'women',\n",
       " 'youth',\n",
       " 'adolescents']"
      ]
     },
     "execution_count": 42,
     "metadata": {},
     "output_type": "execute_result"
    },
    {
     "data": {
      "text/plain": [
       "['health', 'basic needs', 'social welfare']"
      ]
     },
     "execution_count": 42,
     "metadata": {},
     "output_type": "execute_result"
    },
    {
     "data": {
      "text/plain": [
       "['health', 'basic needs', 'social welfare']"
      ]
     },
     "execution_count": 42,
     "metadata": {},
     "output_type": "execute_result"
    },
    {
     "data": {
      "text/plain": [
       "['health', 'basic needs', 'social welfare']"
      ]
     },
     "execution_count": 42,
     "metadata": {},
     "output_type": "execute_result"
    },
    {
     "data": {
      "text/plain": [
       "['health', 'pollution', 'air pollution', 'mortality', 'death']"
      ]
     },
     "execution_count": 42,
     "metadata": {},
     "output_type": "execute_result"
    },
    {
     "data": {
      "text/plain": [
       "['health', 'pollution', 'air pollution', 'mortality', 'death']"
      ]
     },
     "execution_count": 42,
     "metadata": {},
     "output_type": "execute_result"
    },
    {
     "data": {
      "text/plain": [
       "['health', 'pollution', 'air pollution', 'mortality', 'death']"
      ]
     },
     "execution_count": 42,
     "metadata": {},
     "output_type": "execute_result"
    },
    {
     "data": {
      "text/plain": [
       "['health', 'pollution', 'air pollution', 'mortality', 'death']"
      ]
     },
     "execution_count": 42,
     "metadata": {},
     "output_type": "execute_result"
    },
    {
     "data": {
      "text/plain": [
       "['health', 'pollution', 'air pollution', 'mortality', 'death']"
      ]
     },
     "execution_count": 42,
     "metadata": {},
     "output_type": "execute_result"
    },
    {
     "data": {
      "text/plain": [
       "['health', 'pollution', 'air pollution', 'mortality', 'death']"
      ]
     },
     "execution_count": 42,
     "metadata": {},
     "output_type": "execute_result"
    },
    {
     "data": {
      "text/plain": [
       "['hygiene',\n",
       " 'health',\n",
       " 'mortality',\n",
       " 'death',\n",
       " 'water-related diseases',\n",
       " 'sanitation',\n",
       " 'water',\n",
       " 'drinking water']"
      ]
     },
     "execution_count": 42,
     "metadata": {},
     "output_type": "execute_result"
    },
    {
     "data": {
      "text/plain": [
       "['health', 'health hazards', 'mortality', 'death', 'toxic substances']"
      ]
     },
     "execution_count": 42,
     "metadata": {},
     "output_type": "execute_result"
    },
    {
     "data": {
      "text/plain": [
       "['health', 'health hazards', 'tobacco', 'smoking']"
      ]
     },
     "execution_count": 42,
     "metadata": {},
     "output_type": "execute_result"
    },
    {
     "data": {
      "text/plain": [
       "['health', 'vaccination']"
      ]
     },
     "execution_count": 42,
     "metadata": {},
     "output_type": "execute_result"
    },
    {
     "data": {
      "text/plain": [
       "['health', 'vaccination']"
      ]
     },
     "execution_count": 42,
     "metadata": {},
     "output_type": "execute_result"
    },
    {
     "data": {
      "text/plain": [
       "['health', 'vaccination']"
      ]
     },
     "execution_count": 42,
     "metadata": {},
     "output_type": "execute_result"
    },
    {
     "data": {
      "text/plain": [
       "['means of implementation',\n",
       " 'development finance',\n",
       " 'health',\n",
       " 'medical research']"
      ]
     },
     "execution_count": 42,
     "metadata": {},
     "output_type": "execute_result"
    },
    {
     "data": {
      "text/plain": [
       "['means of implementation',\n",
       " 'development finance',\n",
       " 'health',\n",
       " 'medical research']"
      ]
     },
     "execution_count": 42,
     "metadata": {},
     "output_type": "execute_result"
    },
    {
     "data": {
      "text/plain": [
       "['means of implementation',\n",
       " 'health',\n",
       " 'health personnel',\n",
       " 'physicians',\n",
       " 'human resources']"
      ]
     },
     "execution_count": 42,
     "metadata": {},
     "output_type": "execute_result"
    },
    {
     "data": {
      "text/plain": [
       "['means of implementation',\n",
       " 'laws and regulations',\n",
       " 'health',\n",
       " 'international health regulations',\n",
       " 'international instruments']"
      ]
     },
     "execution_count": 42,
     "metadata": {},
     "output_type": "execute_result"
    },
    {
     "data": {
      "text/plain": [
       "['means of implementation', 'health', 'international health regulations']"
      ]
     },
     "execution_count": 42,
     "metadata": {},
     "output_type": "execute_result"
    },
    {
     "data": {
      "text/plain": [
       "['mathematics and numeracy skills', 'education', 'children']"
      ]
     },
     "execution_count": 42,
     "metadata": {},
     "output_type": "execute_result"
    },
    {
     "data": {
      "text/plain": [
       "['reading and literacy skills', 'education', 'children']"
      ]
     },
     "execution_count": 42,
     "metadata": {},
     "output_type": "execute_result"
    },
    {
     "data": {
      "text/plain": [
       "['reading and literacy skills',\n",
       " 'mathematics and numeracy skills',\n",
       " 'education',\n",
       " 'preschool education',\n",
       " 'child development',\n",
       " 'children']"
      ]
     },
     "execution_count": 42,
     "metadata": {},
     "output_type": "execute_result"
    },
    {
     "data": {
      "text/plain": [
       "['education', 'preschool education']"
      ]
     },
     "execution_count": 42,
     "metadata": {},
     "output_type": "execute_result"
    },
    {
     "data": {
      "text/plain": [
       "['education', 'youth']"
      ]
     },
     "execution_count": 42,
     "metadata": {},
     "output_type": "execute_result"
    },
    {
     "data": {
      "text/plain": [
       "['education', 'computer literacy', 'youth']"
      ]
     },
     "execution_count": 42,
     "metadata": {},
     "output_type": "execute_result"
    },
    {
     "data": {
      "text/plain": [
       "['reading and literacy skills',\n",
       " 'education',\n",
       " '\"womens advancement\"',\n",
       " 'gender equality',\n",
       " 'women',\n",
       " 'children',\n",
       " 'girls']"
      ]
     },
     "execution_count": 42,
     "metadata": {},
     "output_type": "execute_result"
    },
    {
     "data": {
      "text/plain": [
       "['computer literacy',\n",
       " 'youth',\n",
       " '\"womens advancement\"',\n",
       " 'gender equality',\n",
       " 'women',\n",
       " 'children',\n",
       " 'girls']"
      ]
     },
     "execution_count": 42,
     "metadata": {},
     "output_type": "execute_result"
    },
    {
     "data": {
      "text/plain": [
       "['mathematics and numeracy skills',\n",
       " 'education',\n",
       " '\"womens advancement\"',\n",
       " 'gender equality',\n",
       " 'women',\n",
       " 'children',\n",
       " 'girls']"
      ]
     },
     "execution_count": 42,
     "metadata": {},
     "output_type": "execute_result"
    },
    {
     "data": {
      "text/plain": [
       "['reading and literacy skills',\n",
       " 'education',\n",
       " '\"womens advancement\"',\n",
       " 'gender equality',\n",
       " 'women',\n",
       " 'children',\n",
       " 'girls']"
      ]
     },
     "execution_count": 42,
     "metadata": {},
     "output_type": "execute_result"
    },
    {
     "data": {
      "text/plain": [
       "['reading and literacy skills',\n",
       " 'education',\n",
       " '\"womens advancement\"',\n",
       " 'gender equality',\n",
       " 'women',\n",
       " 'children',\n",
       " 'girls']"
      ]
     },
     "execution_count": 42,
     "metadata": {},
     "output_type": "execute_result"
    },
    {
     "data": {
      "text/plain": [
       "['education',\n",
       " '\"womens advancement\"',\n",
       " 'gender equality',\n",
       " 'teachers',\n",
       " 'teacher training',\n",
       " 'human resources',\n",
       " 'women']"
      ]
     },
     "execution_count": 42,
     "metadata": {},
     "output_type": "execute_result"
    },
    {
     "data": {
      "text/plain": [
       "['education', 'migrants']"
      ]
     },
     "execution_count": 42,
     "metadata": {},
     "output_type": "execute_result"
    },
    {
     "data": {
      "text/plain": [
       "['education', 'mathematics and numeracy skills']"
      ]
     },
     "execution_count": 42,
     "metadata": {},
     "output_type": "execute_result"
    },
    {
     "data": {
      "text/plain": [
       "['education', 'reading and literacy skills']"
      ]
     },
     "execution_count": 42,
     "metadata": {},
     "output_type": "execute_result"
    },
    {
     "data": {
      "text/plain": [
       "['mathematics and numeracy skills', 'education']"
      ]
     },
     "execution_count": 42,
     "metadata": {},
     "output_type": "execute_result"
    },
    {
     "data": {
      "text/plain": [
       "['reading and literacy skills', 'education']"
      ]
     },
     "execution_count": 42,
     "metadata": {},
     "output_type": "execute_result"
    },
    {
     "data": {
      "text/plain": [
       "['education',\n",
       " 'preschool education',\n",
       " '\"womens advancement\"',\n",
       " 'gender equality',\n",
       " 'women',\n",
       " 'children',\n",
       " 'girls']"
      ]
     },
     "execution_count": 42,
     "metadata": {},
     "output_type": "execute_result"
    },
    {
     "data": {
      "text/plain": [
       "['education', 'mathematics and numeracy skills']"
      ]
     },
     "execution_count": 42,
     "metadata": {},
     "output_type": "execute_result"
    },
    {
     "data": {
      "text/plain": [
       "['education', 'mathematics and numeracy skills']"
      ]
     },
     "execution_count": 42,
     "metadata": {},
     "output_type": "execute_result"
    },
    {
     "data": {
      "text/plain": [
       "['reading and literacy skills', 'education']"
      ]
     },
     "execution_count": 42,
     "metadata": {},
     "output_type": "execute_result"
    },
    {
     "data": {
      "text/plain": [
       "['mathematics and numeracy skills', 'education']"
      ]
     },
     "execution_count": 42,
     "metadata": {},
     "output_type": "execute_result"
    },
    {
     "data": {
      "text/plain": [
       "['reading and literacy skills', 'education']"
      ]
     },
     "execution_count": 42,
     "metadata": {},
     "output_type": "execute_result"
    },
    {
     "data": {
      "text/plain": [
       "['education']"
      ]
     },
     "execution_count": 42,
     "metadata": {},
     "output_type": "execute_result"
    },
    {
     "data": {
      "text/plain": [
       "['means of implementation',\n",
       " 'education',\n",
       " 'educational facilities',\n",
       " 'computers',\n",
       " 'computer literacy']"
      ]
     },
     "execution_count": 42,
     "metadata": {},
     "output_type": "execute_result"
    },
    {
     "data": {
      "text/plain": [
       "['means of implementation',\n",
       " 'education',\n",
       " 'educational facilities',\n",
       " 'drinking water',\n",
       " 'water']"
      ]
     },
     "execution_count": 42,
     "metadata": {},
     "output_type": "execute_result"
    },
    {
     "data": {
      "text/plain": [
       "['means of implementation',\n",
       " 'education',\n",
       " 'educational facilities',\n",
       " 'electrification']"
      ]
     },
     "execution_count": 42,
     "metadata": {},
     "output_type": "execute_result"
    },
    {
     "data": {
      "text/plain": [
       "['means of implementation',\n",
       " 'education',\n",
       " 'educational facilities',\n",
       " 'sanitary facilities',\n",
       " 'sanitation']"
      ]
     },
     "execution_count": 42,
     "metadata": {},
     "output_type": "execute_result"
    },
    {
     "data": {
      "text/plain": [
       "['means of implementation',\n",
       " 'education',\n",
       " 'educational facilities',\n",
       " 'internet',\n",
       " 'computer literacy']"
      ]
     },
     "execution_count": 42,
     "metadata": {},
     "output_type": "execute_result"
    },
    {
     "data": {
      "text/plain": [
       "['means of implementation',\n",
       " 'education',\n",
       " 'sanitary facilities',\n",
       " 'educational facilities',\n",
       " 'sanitation',\n",
       " 'gender equality']"
      ]
     },
     "execution_count": 42,
     "metadata": {},
     "output_type": "execute_result"
    },
    {
     "data": {
      "text/plain": [
       "['means of implementation',\n",
       " 'education',\n",
       " 'educational facilities',\n",
       " 'persons with disabilities']"
      ]
     },
     "execution_count": 42,
     "metadata": {},
     "output_type": "execute_result"
    },
    {
     "data": {
      "text/plain": [
       "['means of implementation',\n",
       " 'development finance',\n",
       " 'education',\n",
       " 'scholarships',\n",
       " 'educational financing']"
      ]
     },
     "execution_count": 42,
     "metadata": {},
     "output_type": "execute_result"
    },
    {
     "data": {
      "text/plain": [
       "['means of implementation',\n",
       " 'education',\n",
       " 'teachers',\n",
       " 'teacher training',\n",
       " 'human resources']"
      ]
     },
     "execution_count": 42,
     "metadata": {},
     "output_type": "execute_result"
    },
    {
     "data": {
      "text/plain": [
       "['\"womens advancement\"',\n",
       " 'gender equality',\n",
       " 'violence',\n",
       " 'gender-based violence',\n",
       " 'domestic violence',\n",
       " 'women',\n",
       " 'youth',\n",
       " 'adolescents']"
      ]
     },
     "execution_count": 42,
     "metadata": {},
     "output_type": "execute_result"
    },
    {
     "data": {
      "text/plain": [
       "['harmful traditional practices',\n",
       " '\"womens advancement\"',\n",
       " 'gender equality',\n",
       " 'women',\n",
       " 'youth',\n",
       " 'adolescents']"
      ]
     },
     "execution_count": 42,
     "metadata": {},
     "output_type": "execute_result"
    },
    {
     "data": {
      "text/plain": [
       "['harmful traditional practices',\n",
       " '\"womens advancement\"',\n",
       " 'gender equality',\n",
       " 'women',\n",
       " 'youth',\n",
       " 'adolescents']"
      ]
     },
     "execution_count": 42,
     "metadata": {},
     "output_type": "execute_result"
    },
    {
     "data": {
      "text/plain": [
       "['harmful traditional practices',\n",
       " '\"womens advancement\"',\n",
       " 'gender equality',\n",
       " 'female circumcision',\n",
       " 'women',\n",
       " 'girls']"
      ]
     },
     "execution_count": 42,
     "metadata": {},
     "output_type": "execute_result"
    },
    {
     "data": {
      "text/plain": [
       "['\"womens advancement\"', 'gender equality', 'unpaid work']"
      ]
     },
     "execution_count": 42,
     "metadata": {},
     "output_type": "execute_result"
    },
    {
     "data": {
      "text/plain": [
       "['\"womens advancement\"', 'gender equality', 'unpaid work']"
      ]
     },
     "execution_count": 42,
     "metadata": {},
     "output_type": "execute_result"
    },
    {
     "data": {
      "text/plain": [
       "['\"womens advancement\"', 'gender equality', 'unpaid work']"
      ]
     },
     "execution_count": 42,
     "metadata": {},
     "output_type": "execute_result"
    },
    {
     "data": {
      "text/plain": [
       "['\"womens advancement\"', 'gender equality', 'political participation', 'women']"
      ]
     },
     "execution_count": 42,
     "metadata": {},
     "output_type": "execute_result"
    },
    {
     "data": {
      "text/plain": [
       "['\"womens advancement\"', 'gender equality', 'political participation', 'women']"
      ]
     },
     "execution_count": 42,
     "metadata": {},
     "output_type": "execute_result"
    },
    {
     "data": {
      "text/plain": [
       "['\"womens advancement\"', 'gender equality', 'political participation']"
      ]
     },
     "execution_count": 42,
     "metadata": {},
     "output_type": "execute_result"
    },
    {
     "data": {
      "text/plain": [
       "['\"womens advancement\"', 'gender equality', 'women managers', 'women']"
      ]
     },
     "execution_count": 42,
     "metadata": {},
     "output_type": "execute_result"
    },
    {
     "data": {
      "text/plain": [
       "['\"womens advancement\"', 'gender equality', 'women managers', 'women']"
      ]
     },
     "execution_count": 42,
     "metadata": {},
     "output_type": "execute_result"
    },
    {
     "data": {
      "text/plain": [
       "['health',\n",
       " 'reproductive health',\n",
       " 'family planning',\n",
       " '\"womens health\"',\n",
       " '\"womens advancement\"',\n",
       " 'gender equality',\n",
       " 'women']"
      ]
     },
     "execution_count": 42,
     "metadata": {},
     "output_type": "execute_result"
    },
    {
     "data": {
      "text/plain": [
       "['health',\n",
       " 'reproductive health',\n",
       " 'family planning',\n",
       " '\"womens health\"',\n",
       " '\"womens advancement\"',\n",
       " 'gender equality',\n",
       " 'women']"
      ]
     },
     "execution_count": 42,
     "metadata": {},
     "output_type": "execute_result"
    },
    {
     "data": {
      "text/plain": [
       "['health',\n",
       " 'reproductive health',\n",
       " 'family planning',\n",
       " '\"womens health\"',\n",
       " '\"womens advancement\"',\n",
       " 'gender equality',\n",
       " 'women']"
      ]
     },
     "execution_count": 42,
     "metadata": {},
     "output_type": "execute_result"
    },
    {
     "data": {
      "text/plain": [
       "['health',\n",
       " 'reproductive health',\n",
       " 'family planning',\n",
       " '\"womens health\"',\n",
       " '\"womens advancement\"',\n",
       " 'gender equality',\n",
       " 'women']"
      ]
     },
     "execution_count": 42,
     "metadata": {},
     "output_type": "execute_result"
    },
    {
     "data": {
      "text/plain": [
       "['information and communication technology (ict)',\n",
       " 'mobile telecommunication services']"
      ]
     },
     "execution_count": 42,
     "metadata": {},
     "output_type": "execute_result"
    },
    {
     "data": {
      "text/plain": [
       "['water', 'drinking water']"
      ]
     },
     "execution_count": 42,
     "metadata": {},
     "output_type": "execute_result"
    },
    {
     "data": {
      "text/plain": [
       "['hygiene', 'sanitation', 'sanitary facilities', 'health']"
      ]
     },
     "execution_count": 42,
     "metadata": {},
     "output_type": "execute_result"
    },
    {
     "data": {
      "text/plain": [
       "['means of implementation', 'sanitary facilities', 'sanitation']"
      ]
     },
     "execution_count": 42,
     "metadata": {},
     "output_type": "execute_result"
    },
    {
     "data": {
      "text/plain": [
       "['hygiene', 'sanitation', 'health']"
      ]
     },
     "execution_count": 42,
     "metadata": {},
     "output_type": "execute_result"
    },
    {
     "data": {
      "text/plain": [
       "['water', 'natural resources', 'waste treatment', 'water management']"
      ]
     },
     "execution_count": 42,
     "metadata": {},
     "output_type": "execute_result"
    },
    {
     "data": {
      "text/plain": [
       "['water', 'natural resources']"
      ]
     },
     "execution_count": 42,
     "metadata": {},
     "output_type": "execute_result"
    },
    {
     "data": {
      "text/plain": [
       "['water', 'natural resources']"
      ]
     },
     "execution_count": 42,
     "metadata": {},
     "output_type": "execute_result"
    },
    {
     "data": {
      "text/plain": [
       "['water', 'natural resources']"
      ]
     },
     "execution_count": 42,
     "metadata": {},
     "output_type": "execute_result"
    },
    {
     "data": {
      "text/plain": [
       "['water', 'natural resources']"
      ]
     },
     "execution_count": 42,
     "metadata": {},
     "output_type": "execute_result"
    },
    {
     "data": {
      "text/plain": [
       "['water', 'natural resources', 'water consumption']"
      ]
     },
     "execution_count": 42,
     "metadata": {},
     "output_type": "execute_result"
    },
    {
     "data": {
      "text/plain": [
       "['water', 'freshwater', 'natural resources']"
      ]
     },
     "execution_count": 42,
     "metadata": {},
     "output_type": "execute_result"
    },
    {
     "data": {
      "text/plain": [
       "['water', 'water management', 'natural resources']"
      ]
     },
     "execution_count": 42,
     "metadata": {},
     "output_type": "execute_result"
    },
    {
     "data": {
      "text/plain": [
       "['water', 'water management', 'natural resources']"
      ]
     },
     "execution_count": 42,
     "metadata": {},
     "output_type": "execute_result"
    },
    {
     "data": {
      "text/plain": [
       "['water', 'water management', 'natural resources', 'international instruments']"
      ]
     },
     "execution_count": 42,
     "metadata": {},
     "output_type": "execute_result"
    },
    {
     "data": {
      "text/plain": [
       "['water', 'water management', 'natural resources', 'international instruments']"
      ]
     },
     "execution_count": 42,
     "metadata": {},
     "output_type": "execute_result"
    },
    {
     "data": {
      "text/plain": [
       "['water', 'water management', 'natural resources', 'international instruments']"
      ]
     },
     "execution_count": 42,
     "metadata": {},
     "output_type": "execute_result"
    },
    {
     "data": {
      "text/plain": [
       "['water', 'natural resources']"
      ]
     },
     "execution_count": 42,
     "metadata": {},
     "output_type": "execute_result"
    },
    {
     "data": {
      "text/plain": [
       "['water', 'natural resources']"
      ]
     },
     "execution_count": 42,
     "metadata": {},
     "output_type": "execute_result"
    },
    {
     "data": {
      "text/plain": [
       "['water', 'natural resources']"
      ]
     },
     "execution_count": 42,
     "metadata": {},
     "output_type": "execute_result"
    },
    {
     "data": {
      "text/plain": [
       "['water', 'natural resources']"
      ]
     },
     "execution_count": 42,
     "metadata": {},
     "output_type": "execute_result"
    },
    {
     "data": {
      "text/plain": [
       "['water', 'natural resources']"
      ]
     },
     "execution_count": 42,
     "metadata": {},
     "output_type": "execute_result"
    },
    {
     "data": {
      "text/plain": [
       "['water', 'natural resources']"
      ]
     },
     "execution_count": 42,
     "metadata": {},
     "output_type": "execute_result"
    },
    {
     "data": {
      "text/plain": [
       "['water', 'natural resources']"
      ]
     },
     "execution_count": 42,
     "metadata": {},
     "output_type": "execute_result"
    },
    {
     "data": {
      "text/plain": [
       "['water', 'natural resources']"
      ]
     },
     "execution_count": 42,
     "metadata": {},
     "output_type": "execute_result"
    },
    {
     "data": {
      "text/plain": [
       "['water', 'natural resources']"
      ]
     },
     "execution_count": 42,
     "metadata": {},
     "output_type": "execute_result"
    },
    {
     "data": {
      "text/plain": [
       "['water', 'natural resources']"
      ]
     },
     "execution_count": 42,
     "metadata": {},
     "output_type": "execute_result"
    },
    {
     "data": {
      "text/plain": [
       "['water', 'natural resources']"
      ]
     },
     "execution_count": 42,
     "metadata": {},
     "output_type": "execute_result"
    },
    {
     "data": {
      "text/plain": [
       "['water', 'natural resources']"
      ]
     },
     "execution_count": 42,
     "metadata": {},
     "output_type": "execute_result"
    },
    {
     "data": {
      "text/plain": [
       "['water', 'natural resources']"
      ]
     },
     "execution_count": 42,
     "metadata": {},
     "output_type": "execute_result"
    },
    {
     "data": {
      "text/plain": [
       "['water', 'natural resources']"
      ]
     },
     "execution_count": 42,
     "metadata": {},
     "output_type": "execute_result"
    },
    {
     "data": {
      "text/plain": [
       "['water', 'natural resources']"
      ]
     },
     "execution_count": 42,
     "metadata": {},
     "output_type": "execute_result"
    },
    {
     "data": {
      "text/plain": [
       "['water', 'natural resources']"
      ]
     },
     "execution_count": 42,
     "metadata": {},
     "output_type": "execute_result"
    },
    {
     "data": {
      "text/plain": [
       "['water', 'sanitation']"
      ]
     },
     "execution_count": 42,
     "metadata": {},
     "output_type": "execute_result"
    },
    {
     "data": {
      "text/plain": [
       "['water', 'drinking water', 'water management', 'community participation']"
      ]
     },
     "execution_count": 42,
     "metadata": {},
     "output_type": "execute_result"
    },
    {
     "data": {
      "text/plain": [
       "['laws and regulations',\n",
       " 'water',\n",
       " 'drinking water',\n",
       " 'water management',\n",
       " 'community participation']"
      ]
     },
     "execution_count": 42,
     "metadata": {},
     "output_type": "execute_result"
    },
    {
     "data": {
      "text/plain": [
       "['laws and regulations',\n",
       " 'water',\n",
       " 'drinking water',\n",
       " 'water management',\n",
       " 'community participation']"
      ]
     },
     "execution_count": 42,
     "metadata": {},
     "output_type": "execute_result"
    },
    {
     "data": {
      "text/plain": [
       "['laws and regulations',\n",
       " 'water',\n",
       " 'drinking water',\n",
       " 'water management',\n",
       " 'community participation']"
      ]
     },
     "execution_count": 42,
     "metadata": {},
     "output_type": "execute_result"
    },
    {
     "data": {
      "text/plain": [
       "['laws and regulations',\n",
       " 'water',\n",
       " 'drinking water',\n",
       " 'water management',\n",
       " 'community participation']"
      ]
     },
     "execution_count": 42,
     "metadata": {},
     "output_type": "execute_result"
    },
    {
     "data": {
      "text/plain": [
       "['water', 'water management', 'natural resources', 'community participation']"
      ]
     },
     "execution_count": 42,
     "metadata": {},
     "output_type": "execute_result"
    },
    {
     "data": {
      "text/plain": [
       "['laws and regulations',\n",
       " 'water',\n",
       " 'drinking water',\n",
       " 'water management',\n",
       " 'community participation']"
      ]
     },
     "execution_count": 42,
     "metadata": {},
     "output_type": "execute_result"
    },
    {
     "data": {
      "text/plain": [
       "['laws and regulations',\n",
       " 'water',\n",
       " 'water management',\n",
       " 'natural resources',\n",
       " 'community participation']"
      ]
     },
     "execution_count": 42,
     "metadata": {},
     "output_type": "execute_result"
    },
    {
     "data": {
      "text/plain": [
       "['electrification', 'energy resources']"
      ]
     },
     "execution_count": 42,
     "metadata": {},
     "output_type": "execute_result"
    },
    {
     "data": {
      "text/plain": [
       "['energy resources', 'renewable energy sources', 'sustainable energy']"
      ]
     },
     "execution_count": 42,
     "metadata": {},
     "output_type": "execute_result"
    },
    {
     "data": {
      "text/plain": [
       "['energy resources', 'energy efficiency', 'sustainable energy']"
      ]
     },
     "execution_count": 42,
     "metadata": {},
     "output_type": "execute_result"
    },
    {
     "data": {
      "text/plain": [
       "['economic growth']"
      ]
     },
     "execution_count": 42,
     "metadata": {},
     "output_type": "execute_result"
    },
    {
     "data": {
      "text/plain": [
       "['financial services']"
      ]
     },
     "execution_count": 42,
     "metadata": {},
     "output_type": "execute_result"
    },
    {
     "data": {
      "text/plain": [
       "['financial services']"
      ]
     },
     "execution_count": 42,
     "metadata": {},
     "output_type": "execute_result"
    },
    {
     "data": {
      "text/plain": [
       "['financial services']"
      ]
     },
     "execution_count": 42,
     "metadata": {},
     "output_type": "execute_result"
    },
    {
     "data": {
      "text/plain": [
       "['economic growth', 'labour productivity']"
      ]
     },
     "execution_count": 42,
     "metadata": {},
     "output_type": "execute_result"
    },
    {
     "data": {
      "text/plain": [
       "['informal sector', 'employment']"
      ]
     },
     "execution_count": 42,
     "metadata": {},
     "output_type": "execute_result"
    },
    {
     "data": {
      "text/plain": [
       "['economic growth']"
      ]
     },
     "execution_count": 42,
     "metadata": {},
     "output_type": "execute_result"
    },
    {
     "data": {
      "text/plain": [
       "['economic growth']"
      ]
     },
     "execution_count": 42,
     "metadata": {},
     "output_type": "execute_result"
    },
    {
     "data": {
      "text/plain": [
       "['economic growth']"
      ]
     },
     "execution_count": 42,
     "metadata": {},
     "output_type": "execute_result"
    },
    {
     "data": {
      "text/plain": [
       "['decent work', 'wages']"
      ]
     },
     "execution_count": 42,
     "metadata": {},
     "output_type": "execute_result"
    },
    {
     "data": {
      "text/plain": [
       "['employment']"
      ]
     },
     "execution_count": 42,
     "metadata": {},
     "output_type": "execute_result"
    },
    {
     "data": {
      "text/plain": [
       "['employment']"
      ]
     },
     "execution_count": 42,
     "metadata": {},
     "output_type": "execute_result"
    },
    {
     "data": {
      "text/plain": [
       "['education', 'youth employment', 'employment', 'youth']"
      ]
     },
     "execution_count": 42,
     "metadata": {},
     "output_type": "execute_result"
    },
    {
     "data": {
      "text/plain": [
       "['child labour', 'employment', 'children']"
      ]
     },
     "execution_count": 42,
     "metadata": {},
     "output_type": "execute_result"
    },
    {
     "data": {
      "text/plain": [
       "['child labour', 'employment', 'children']"
      ]
     },
     "execution_count": 42,
     "metadata": {},
     "output_type": "execute_result"
    },
    {
     "data": {
      "text/plain": [
       "['decent work',\n",
       " 'occupational accidents',\n",
       " 'occupational safety',\n",
       " 'occupational mortality']"
      ]
     },
     "execution_count": 42,
     "metadata": {},
     "output_type": "execute_result"
    },
    {
     "data": {
      "text/plain": [
       "['decent work', 'occupational accidents', 'occupational safety']"
      ]
     },
     "execution_count": 42,
     "metadata": {},
     "output_type": "execute_result"
    },
    {
     "data": {
      "text/plain": [
       "['means of implementation',\n",
       " 'development finance',\n",
       " 'international trade',\n",
       " 'trade financing',\n",
       " 'trade promotion']"
      ]
     },
     "execution_count": 42,
     "metadata": {},
     "output_type": "execute_result"
    },
    {
     "data": {
      "text/plain": [
       "['means of implementation',\n",
       " 'development finance',\n",
       " 'international trade',\n",
       " 'trade financing',\n",
       " 'trade promotion']"
      ]
     },
     "execution_count": 42,
     "metadata": {},
     "output_type": "execute_result"
    },
    {
     "data": {
      "text/plain": [
       "['means of implementation',\n",
       " 'development finance',\n",
       " 'international trade',\n",
       " 'trade financing',\n",
       " 'trade promotion']"
      ]
     },
     "execution_count": 42,
     "metadata": {},
     "output_type": "execute_result"
    },
    {
     "data": {
      "text/plain": [
       "['means of implementation',\n",
       " 'development finance',\n",
       " 'international trade',\n",
       " 'trade financing',\n",
       " 'trade promotion']"
      ]
     },
     "execution_count": 42,
     "metadata": {},
     "output_type": "execute_result"
    },
    {
     "data": {
      "text/plain": [
       "['physical infrastructure', 'transport infrastructure', 'goods transport']"
      ]
     },
     "execution_count": 42,
     "metadata": {},
     "output_type": "execute_result"
    },
    {
     "data": {
      "text/plain": [
       "['physical infrastructure', 'transport infrastructure', 'passenger transport']"
      ]
     },
     "execution_count": 42,
     "metadata": {},
     "output_type": "execute_result"
    },
    {
     "data": {
      "text/plain": [
       "['physical infrastructure',\n",
       " 'transport infrastructure',\n",
       " 'mail',\n",
       " 'air transport']"
      ]
     },
     "execution_count": 42,
     "metadata": {},
     "output_type": "execute_result"
    },
    {
     "data": {
      "text/plain": [
       "['industrialization', 'economic growth']"
      ]
     },
     "execution_count": 42,
     "metadata": {},
     "output_type": "execute_result"
    },
    {
     "data": {
      "text/plain": [
       "['industrialization', 'economic growth']"
      ]
     },
     "execution_count": 42,
     "metadata": {},
     "output_type": "execute_result"
    },
    {
     "data": {
      "text/plain": [
       "['industrialization', 'economic growth', 'employment']"
      ]
     },
     "execution_count": 42,
     "metadata": {},
     "output_type": "execute_result"
    },
    {
     "data": {
      "text/plain": [
       "['industrialization', 'economic growth']"
      ]
     },
     "execution_count": 42,
     "metadata": {},
     "output_type": "execute_result"
    },
    {
     "data": {
      "text/plain": [
       "['industrialization', 'economic growth']"
      ]
     },
     "execution_count": 42,
     "metadata": {},
     "output_type": "execute_result"
    },
    {
     "data": {
      "text/plain": [
       "['environmentally sound technology',\n",
       " 'carbon dioxide',\n",
       " 'greenhouse gases',\n",
       " 'global warming',\n",
       " 'pollution',\n",
       " 'air pollution',\n",
       " 'climate change']"
      ]
     },
     "execution_count": 42,
     "metadata": {},
     "output_type": "execute_result"
    },
    {
     "data": {
      "text/plain": [
       "['environmentally sound technology',\n",
       " 'carbon dioxide',\n",
       " 'greenhouse gases',\n",
       " 'global warming',\n",
       " 'pollution',\n",
       " 'air pollution',\n",
       " 'climate change']"
      ]
     },
     "execution_count": 42,
     "metadata": {},
     "output_type": "execute_result"
    },
    {
     "data": {
      "text/plain": [
       "['environmentally sound technology',\n",
       " 'carbon dioxide',\n",
       " 'greenhouse gases',\n",
       " 'global warming',\n",
       " 'pollution',\n",
       " 'air pollution',\n",
       " 'climate change']"
      ]
     },
     "execution_count": 42,
     "metadata": {},
     "output_type": "execute_result"
    },
    {
     "data": {
      "text/plain": [
       "['research and development', 'economic growth']"
      ]
     },
     "execution_count": 42,
     "metadata": {},
     "output_type": "execute_result"
    },
    {
     "data": {
      "text/plain": [
       "['research and development', 'human resources', 'scientific personnel']"
      ]
     },
     "execution_count": 42,
     "metadata": {},
     "output_type": "execute_result"
    },
    {
     "data": {
      "text/plain": [
       "['means of implementation', 'physical infrastructure']"
      ]
     },
     "execution_count": 42,
     "metadata": {},
     "output_type": "execute_result"
    },
    {
     "data": {
      "text/plain": [
       "['means of implementation',\n",
       " 'industrialization',\n",
       " 'technology',\n",
       " 'technological innovations']"
      ]
     },
     "execution_count": 42,
     "metadata": {},
     "output_type": "execute_result"
    },
    {
     "data": {
      "text/plain": [
       "['information and communication technology (ict)',\n",
       " 'mobile telecommunication services']"
      ]
     },
     "execution_count": 42,
     "metadata": {},
     "output_type": "execute_result"
    }
   ],
   "source": [
    "f = 'metadata_template_edited.xlsx'\n",
    "\n",
    "xlsx = pd.ExcelFile(wd_dir + f)\n",
    "x = pd.read_excel(xlsx, 'Sheet1')\n",
    "x.shape\n",
    "x.head(3)\n",
    "x.columns\n",
    "\n",
    "for index, row in x.iterrows():\n",
    "    seriesCode = row['seriesCode']\n",
    "    tags = row['TAGS']\n",
    "    tags = re.sub('[\\[\\]\\']', '', tags)\n",
    "    tags = tags.split(\",\")\n",
    "    tags = list(map(str.lstrip, tags))\n",
    "    \n",
    "    for m in series_metadata:\n",
    "        if m['seriesCode'] == row['seriesCode']:\n",
    "            m['TAGS'] = tags\n",
    "            break\n",
    "\n",
    "for m in series_metadata:\n",
    "    m['TAGS']"
   ]
  },
  {
   "cell_type": "markdown",
   "metadata": {},
   "source": [
    "#### Create list of target icons"
   ]
  },
  {
   "cell_type": "code",
   "execution_count": 10,
   "metadata": {},
   "outputs": [
    {
     "data": {
      "text/plain": [
       "[{'goalCode': '10',\n",
       "  'targetCode': '10.1',\n",
       "  'iconFile': 'GOAL_10_TARGET_10.1.png'},\n",
       " {'goalCode': '10',\n",
       "  'targetCode': '10.2',\n",
       "  'iconFile': 'GOAL_10_TARGET_10.2.png'},\n",
       " {'goalCode': '10',\n",
       "  'targetCode': '10.3',\n",
       "  'iconFile': 'GOAL_10_TARGET_10.3.png'},\n",
       " {'goalCode': '10',\n",
       "  'targetCode': '10.4',\n",
       "  'iconFile': 'GOAL_10_TARGET_10.4.png'},\n",
       " {'goalCode': '10',\n",
       "  'targetCode': '10.5',\n",
       "  'iconFile': 'GOAL_10_TARGET_10.5.png'}]"
      ]
     },
     "execution_count": 10,
     "metadata": {},
     "output_type": "execute_result"
    }
   ],
   "source": [
    "files = os.listdir(wd_dir + r'globalResources/sdgTargets/')\n",
    "target_icons = []\n",
    "for f in files:\n",
    "    dict = {}\n",
    "    x = f.split('_')\n",
    "    target = x[3][:len(x[3])-4]\n",
    "    goal = x[1]\n",
    "    dict['goalCode'] = goal\n",
    "    dict['targetCode'] = target\n",
    "    dict['iconFile'] = f\n",
    "    \n",
    "    target_icons.append(dict)\n",
    "    \n",
    "target_icons[0:5]"
   ]
  },
  {
   "cell_type": "markdown",
   "metadata": {},
   "source": [
    "### Read `json` with file information"
   ]
  },
  {
   "cell_type": "code",
   "execution_count": 11,
   "metadata": {},
   "outputs": [
    {
     "data": {
      "text/plain": [
       "{'fileName': 'Data_1.3.1_SI_COV_MATNL.xlsx',\n",
       " 'goalCode': '1',\n",
       " 'goalDesc': 'End poverty in all its forms everywhere',\n",
       " 'targetCode': '1.3',\n",
       " 'targetDesc': 'Implement nationally appropriate social protection systems and measures for all, including floors, and by 2030 achieve substantial coverage of the poor and the vulnerable',\n",
       " 'indicatorCode': '1.3.1',\n",
       " 'indicatorDesc': 'Proportion of population covered by social protection floors/systems, by sex, distinguishing children, unemployed persons, older persons, persons with disabilities, pregnant women, newborns, work-injury victims and the poor and the vulnerable',\n",
       " 'indicatorTier': '1',\n",
       " 'seriesCode': 'SI_COV_MATNL',\n",
       " 'seriesDesc': '[ILO] Proportion of mothers with newborns receiving maternity cash benefit (%)',\n",
       " 'seriesRelease': '2019.Q1.G.02',\n",
       " 'slices': [{'reportingTypeCode': 'G',\n",
       "   'seriesCode': 'SI_COV_MATNL',\n",
       "   'sexCode': 'BOTHSEX'},\n",
       "  {'reportingTypeCode': 'G',\n",
       "   'seriesCode': 'SI_COV_MATNL',\n",
       "   'sexCode': 'FEMALE'}],\n",
       " 'time_coverage': ['2016', '2017', '2018'],\n",
       " 'geo_coverage_groups': [],\n",
       " 'geo_coverage_regions': [{'geoAreaCode': '1', 'geoAreaName': 'World'},\n",
       "  {'geoAreaCode': '5', 'geoAreaName': 'South America'},\n",
       "  {'geoAreaCode': '9', 'geoAreaName': 'Oceania'},\n",
       "  {'geoAreaCode': '11', 'geoAreaName': 'Western Africa'},\n",
       "  {'geoAreaCode': '13', 'geoAreaName': 'Central America'},\n",
       "  {'geoAreaCode': '14', 'geoAreaName': 'Eastern Africa'},\n",
       "  {'geoAreaCode': '15', 'geoAreaName': 'Northern Africa'},\n",
       "  {'geoAreaCode': '17', 'geoAreaName': 'Middle Africa'},\n",
       "  {'geoAreaCode': '18', 'geoAreaName': 'Southern Africa'},\n",
       "  {'geoAreaCode': '21', 'geoAreaName': 'Northern America'},\n",
       "  {'geoAreaCode': '29', 'geoAreaName': 'Caribbean'},\n",
       "  {'geoAreaCode': '30', 'geoAreaName': 'Eastern Asia'},\n",
       "  {'geoAreaCode': '34', 'geoAreaName': 'Southern Asia'},\n",
       "  {'geoAreaCode': '35', 'geoAreaName': 'South-Eastern Asia'},\n",
       "  {'geoAreaCode': '39', 'geoAreaName': 'Southern Europe'},\n",
       "  {'geoAreaCode': '53', 'geoAreaName': 'Australia and New Zealand'},\n",
       "  {'geoAreaCode': '54', 'geoAreaName': 'Melanesia'},\n",
       "  {'geoAreaCode': '61', 'geoAreaName': 'Polynesia'},\n",
       "  {'geoAreaCode': '62', 'geoAreaName': 'Central and Southern Asia'},\n",
       "  {'geoAreaCode': '142', 'geoAreaName': 'Asia'},\n",
       "  {'geoAreaCode': '143', 'geoAreaName': 'Central Asia'},\n",
       "  {'geoAreaCode': '145', 'geoAreaName': 'Western Asia'},\n",
       "  {'geoAreaCode': '150', 'geoAreaName': 'Europe'},\n",
       "  {'geoAreaCode': '151', 'geoAreaName': 'Eastern Europe'},\n",
       "  {'geoAreaCode': '154', 'geoAreaName': 'Northern Europe'},\n",
       "  {'geoAreaCode': '155', 'geoAreaName': 'Western Europe'},\n",
       "  {'geoAreaCode': '202', 'geoAreaName': 'Sub-Saharan Africa'},\n",
       "  {'geoAreaCode': '419', 'geoAreaName': 'Latin America and the Caribbean'},\n",
       "  {'geoAreaCode': '513', 'geoAreaName': 'Europe and Northern America'},\n",
       "  {'geoAreaCode': '543',\n",
       "   'geoAreaName': 'Oceania (exc. Australia and New Zealand)'},\n",
       "  {'geoAreaCode': '747', 'geoAreaName': 'Northern Africa and Western Asia'},\n",
       "  {'geoAreaCode': '753', 'geoAreaName': 'Eastern and South-Eastern Asia'}],\n",
       " 'geo_coverage_countries': [{'geoAreaCode': '12', 'geoAreaName': 'Algeria'},\n",
       "  {'geoAreaCode': '28', 'geoAreaName': 'Antigua and Barbuda'},\n",
       "  {'geoAreaCode': '31', 'geoAreaName': 'Azerbaijan'},\n",
       "  {'geoAreaCode': '32', 'geoAreaName': 'Argentina'},\n",
       "  {'geoAreaCode': '40', 'geoAreaName': 'Austria'},\n",
       "  {'geoAreaCode': '50', 'geoAreaName': 'Bangladesh'},\n",
       "  {'geoAreaCode': '51', 'geoAreaName': 'Armenia'},\n",
       "  {'geoAreaCode': '56', 'geoAreaName': 'Belgium'},\n",
       "  {'geoAreaCode': '68', 'geoAreaName': 'Bolivia (Plurinational State of)'},\n",
       "  {'geoAreaCode': '76', 'geoAreaName': 'Brazil'},\n",
       "  {'geoAreaCode': '100', 'geoAreaName': 'Bulgaria'},\n",
       "  {'geoAreaCode': '104', 'geoAreaName': 'Myanmar'},\n",
       "  {'geoAreaCode': '120', 'geoAreaName': 'Cameroon'},\n",
       "  {'geoAreaCode': '124', 'geoAreaName': 'Canada'},\n",
       "  {'geoAreaCode': '152', 'geoAreaName': 'Chile'},\n",
       "  {'geoAreaCode': '156', 'geoAreaName': 'China'},\n",
       "  {'geoAreaCode': '191', 'geoAreaName': 'Croatia'},\n",
       "  {'geoAreaCode': '196', 'geoAreaName': 'Cyprus'},\n",
       "  {'geoAreaCode': '203', 'geoAreaName': 'Czechia'},\n",
       "  {'geoAreaCode': '208', 'geoAreaName': 'Denmark'},\n",
       "  {'geoAreaCode': '233', 'geoAreaName': 'Estonia'},\n",
       "  {'geoAreaCode': '246', 'geoAreaName': 'Finland'},\n",
       "  {'geoAreaCode': '250', 'geoAreaName': 'France'},\n",
       "  {'geoAreaCode': '268', 'geoAreaName': 'Georgia'},\n",
       "  {'geoAreaCode': '276', 'geoAreaName': 'Germany'},\n",
       "  {'geoAreaCode': '288', 'geoAreaName': 'Ghana'},\n",
       "  {'geoAreaCode': '300', 'geoAreaName': 'Greece'},\n",
       "  {'geoAreaCode': '320', 'geoAreaName': 'Guatemala'},\n",
       "  {'geoAreaCode': '348', 'geoAreaName': 'Hungary'},\n",
       "  {'geoAreaCode': '352', 'geoAreaName': 'Iceland'},\n",
       "  {'geoAreaCode': '356', 'geoAreaName': 'India'},\n",
       "  {'geoAreaCode': '372', 'geoAreaName': 'Ireland'},\n",
       "  {'geoAreaCode': '380', 'geoAreaName': 'Italy'},\n",
       "  {'geoAreaCode': '398', 'geoAreaName': 'Kazakhstan'},\n",
       "  {'geoAreaCode': '417', 'geoAreaName': 'Kyrgyzstan'},\n",
       "  {'geoAreaCode': '428', 'geoAreaName': 'Latvia'},\n",
       "  {'geoAreaCode': '438', 'geoAreaName': 'Liechtenstein'},\n",
       "  {'geoAreaCode': '440', 'geoAreaName': 'Lithuania'},\n",
       "  {'geoAreaCode': '442', 'geoAreaName': 'Luxembourg'},\n",
       "  {'geoAreaCode': '470', 'geoAreaName': 'Malta'},\n",
       "  {'geoAreaCode': '496', 'geoAreaName': 'Mongolia'},\n",
       "  {'geoAreaCode': '508', 'geoAreaName': 'Mozambique'},\n",
       "  {'geoAreaCode': '528', 'geoAreaName': 'Netherlands'},\n",
       "  {'geoAreaCode': '533', 'geoAreaName': 'Aruba'},\n",
       "  {'geoAreaCode': '566', 'geoAreaName': 'Nigeria'},\n",
       "  {'geoAreaCode': '578', 'geoAreaName': 'Norway'},\n",
       "  {'geoAreaCode': '600', 'geoAreaName': 'Paraguay'},\n",
       "  {'geoAreaCode': '608', 'geoAreaName': 'Philippines'},\n",
       "  {'geoAreaCode': '616', 'geoAreaName': 'Poland'},\n",
       "  {'geoAreaCode': '620', 'geoAreaName': 'Portugal'},\n",
       "  {'geoAreaCode': '642', 'geoAreaName': 'Romania'},\n",
       "  {'geoAreaCode': '643', 'geoAreaName': 'Russian Federation'},\n",
       "  {'geoAreaCode': '703', 'geoAreaName': 'Slovakia'},\n",
       "  {'geoAreaCode': '704', 'geoAreaName': 'Viet Nam'},\n",
       "  {'geoAreaCode': '705', 'geoAreaName': 'Slovenia'},\n",
       "  {'geoAreaCode': '724', 'geoAreaName': 'Spain'},\n",
       "  {'geoAreaCode': '752', 'geoAreaName': 'Sweden'},\n",
       "  {'geoAreaCode': '756', 'geoAreaName': 'Switzerland'},\n",
       "  {'geoAreaCode': '762', 'geoAreaName': 'Tajikistan'},\n",
       "  {'geoAreaCode': '804', 'geoAreaName': 'Ukraine'},\n",
       "  {'geoAreaCode': '818', 'geoAreaName': 'Egypt'},\n",
       "  {'geoAreaCode': '826',\n",
       "   'geoAreaName': 'United Kingdom of Great Britain and Northern Ireland'},\n",
       "  {'geoAreaCode': '834', 'geoAreaName': 'United Republic of Tanzania'},\n",
       "  {'geoAreaCode': '854', 'geoAreaName': 'Burkina Faso'},\n",
       "  {'geoAreaCode': '858', 'geoAreaName': 'Uruguay'},\n",
       "  {'geoAreaCode': '116', 'geoAreaName': 'Cambodia'},\n",
       "  {'geoAreaCode': '364', 'geoAreaName': 'Iran (Islamic Republic of)'},\n",
       "  {'geoAreaCode': '484', 'geoAreaName': 'Mexico'},\n",
       "  {'geoAreaCode': '860', 'geoAreaName': 'Uzbekistan'}]}"
      ]
     },
     "execution_count": 11,
     "metadata": {},
     "output_type": "execute_result"
    }
   ],
   "source": [
    "json_file = open(wd_dir + 'unsd/data/file_metadata.json')\n",
    "json_str = json_file.read()\n",
    "metadata_2 = json.loads(json_str)\n",
    "metadata_2[8]"
   ]
  },
  {
   "cell_type": "code",
   "execution_count": null,
   "metadata": {},
   "outputs": [],
   "source": []
  }
 ],
 "metadata": {
  "kernelspec": {
   "display_name": "Python 3",
   "language": "python",
   "name": "python3"
  },
  "language_info": {
   "codemirror_mode": {
    "name": "ipython",
    "version": 3
   },
   "file_extension": ".py",
   "mimetype": "text/x-python",
   "name": "python",
   "nbconvert_exporter": "python",
   "pygments_lexer": "ipython3",
   "version": "3.6.8"
  }
 },
 "nbformat": 4,
 "nbformat_minor": 2
}
