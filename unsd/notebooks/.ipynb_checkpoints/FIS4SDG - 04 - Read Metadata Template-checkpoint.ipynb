{
 "cells": [
  {
   "cell_type": "markdown",
   "metadata": {},
   "source": [
    "# Read edited metadata template\n",
    "Use this to add new tags"
   ]
  },
  {
   "cell_type": "code",
   "execution_count": null,
   "metadata": {},
   "outputs": [],
   "source": [
    "xlsx = pd.ExcelFile(wd_dir + 'metadata_template_edited.xlsx')\n",
    "x = pd.read_excel(xlsx, 'Sheet1')\n",
    "x.shape\n",
    "x.head(3)\n",
    "x.columns\n",
    "\n",
    "for index, row in x.iterrows():\n",
    "    seriesCode = row['seriesCode']\n",
    "    tags = row['TAGS']\n",
    "    tags = re.sub('[\\[\\]\\']', '', tags)\n",
    "    tags = tags.split(\",\")\n",
    "    tags = list(map(str.lstrip, tags))\n",
    "    \n",
    "    for m in series_metadata:\n",
    "        if m['seriesCode'] == row['seriesCode']:\n",
    "            m['TAGS'] = tags\n",
    "            break\n",
    "\n",
    "series_metadata[0]\n",
    "\n",
    "\n",
    "with open(wd_dir+'data/metadata.json', 'w') as file:\n",
    "    json.dump(series_metadata, file)\n"
   ]
  },
  {
   "cell_type": "code",
   "execution_count": null,
   "metadata": {},
   "outputs": [],
   "source": []
  },
  {
   "cell_type": "code",
   "execution_count": null,
   "metadata": {},
   "outputs": [],
   "source": [
    "json_file = open(wd_dir + 'unsd/data/file_metadata.json')\n",
    "json_str = json_file.read()\n",
    "metadata_2 = json.loads(json_str)\n",
    "metadata_2[8]"
   ]
  }
 ],
 "metadata": {
  "kernelspec": {
   "display_name": "Python 3",
   "language": "python",
   "name": "python3"
  },
  "language_info": {
   "codemirror_mode": {
    "name": "ipython",
    "version": 3
   },
   "file_extension": ".py",
   "mimetype": "text/x-python",
   "name": "python",
   "nbconvert_exporter": "python",
   "pygments_lexer": "ipython3",
   "version": "3.6.8"
  }
 },
 "nbformat": 4,
 "nbformat_minor": 2
}
