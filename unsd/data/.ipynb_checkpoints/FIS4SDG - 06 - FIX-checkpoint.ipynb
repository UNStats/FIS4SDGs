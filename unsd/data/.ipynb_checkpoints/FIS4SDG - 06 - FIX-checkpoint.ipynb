{
 "cells": [
  {
   "cell_type": "code",
   "execution_count": null,
   "metadata": {},
   "outputs": [],
   "source": []
  },
  {
   "cell_type": "markdown",
   "metadata": {},
   "source": [
    "# Fix: Remove duplicates for multi-purpose indicators"
   ]
  },
  {
   "cell_type": "markdown",
   "metadata": {},
   "source": [
    "## Load necessary libraries"
   ]
  },
  {
   "cell_type": "code",
   "execution_count": 1,
   "metadata": {},
   "outputs": [],
   "source": [
    "import csv\n",
    "import json\n",
    "import urllib3  # allows to access a URL with python\n",
    "import math\n",
    "import os\n",
    "import io\n",
    "import collections\n",
    "import copy\n",
    "import re\n",
    "import numpy as np\n",
    "import pandas as pd\n",
    "import xlsxwriter\n",
    "\n",
    "# https://volderette.de/jupyter-notebook-tip-multiple-outputs/\n",
    "from IPython.core.interactiveshell import InteractiveShell\n",
    "InteractiveShell.ast_node_interactivity = \"all\"\n"
   ]
  },
  {
   "cell_type": "markdown",
   "metadata": {},
   "source": [
    "## User parameters"
   ]
  },
  {
   "cell_type": "code",
   "execution_count": 2,
   "metadata": {},
   "outputs": [
    {
     "name": "stdout",
     "output_type": "stream",
     "text": [
      "Path: C:\\Users\\L.GonzalezMorales\\Documents\\GitHub\\FIS4SDGs\\unsd\\data\n",
      "Main dir: ../\n"
     ]
    }
   ],
   "source": [
    "release = '2019.Q1.G.02' # Make sure to have the correct release here\n",
    "\n",
    "dir_path = os.path.dirname(os.path.realpath('__file__'))\n",
    "print(\"Path: \" + dir_path)\n",
    "\n",
    "wd_dir = r'../'\n",
    "print('Main dir: ' + wd_dir)"
   ]
  },
  {
   "cell_type": "markdown",
   "metadata": {},
   "source": [
    "## Utilities"
   ]
  },
  {
   "cell_type": "markdown",
   "metadata": {},
   "source": [
    "#### Convert string to camelCase"
   ]
  },
  {
   "cell_type": "code",
   "execution_count": 3,
   "metadata": {},
   "outputs": [],
   "source": [
    "def camelCase(st):\n",
    "    \"\"\"\n",
    "    https://stackoverflow.com/questions/8347048/camelcase-every-string-any-standard-library\n",
    "    \n",
    "    \"\"\"\n",
    "    output = ''.join(x for x in st.title() if x.isalnum())\n",
    "    return output[0].lower() + output[1:]"
   ]
  },
  {
   "cell_type": "markdown",
   "metadata": {},
   "source": [
    "### Read list of excel files with data for each series"
   ]
  },
  {
   "cell_type": "code",
   "execution_count": 8,
   "metadata": {},
   "outputs": [
    {
     "name": "stdout",
     "output_type": "stream",
     "text": [
      "path: ../data/2019.Q1.G.02/\n"
     ]
    },
    {
     "data": {
      "text/plain": [
       "['Data_1.1.1_SI_POV_DAY1.xlsx',\n",
       " 'Data_1.1.1_SI_POV_EMP1.xlsx',\n",
       " 'Data_1.2.1_SI_POV_NAHC.xlsx']"
      ]
     },
     "execution_count": 8,
     "metadata": {},
     "output_type": "execute_result"
    }
   ],
   "source": [
    "path = wd_dir + r'data/' + release + '/' \n",
    "print(\"path: \" + path)\n",
    "files = os.listdir(path)\n",
    "files =  [x for x in files if x[-4:] == 'xlsx' and x[:4]=='Data']\n",
    "files[0:3]\n"
   ]
  },
  {
   "cell_type": "markdown",
   "metadata": {},
   "source": [
    "### For a selected file:"
   ]
  },
  {
   "cell_type": "markdown",
   "metadata": {},
   "source": [
    "#### 1)  Convert content of data file into a pandas DataFrame"
   ]
  },
  {
   "cell_type": "code",
   "execution_count": 10,
   "metadata": {},
   "outputs": [
    {
     "data": {
      "text/plain": [
       "(8060, 33)"
      ]
     },
     "execution_count": 10,
     "metadata": {},
     "output_type": "execute_result"
    },
    {
     "data": {
      "text/plain": [
       "Index(['goalCode', 'goalDesc', 'targetCode', 'targetDesc', 'indicatorCode',\n",
       "       'indicatorDesc', 'indicatorTier', 'seriesCode', 'seriesDesc',\n",
       "       'seriesRelease', 'timePeriod', 'geoAreaCode', 'geoAreaName', 'level',\n",
       "       'parentCode', 'parentName', 'type', 'CountryProfile', 'ISO3CD',\n",
       "       'UNMember', 'X', 'Y', 'value', 'valueType', 'timeDetail', 'source',\n",
       "       'footnotes', 'natureCode', 'unitsCode', 'reportingTypeCode',\n",
       "       'natureDesc', 'unitsDesc', 'reportingTypeDesc'],\n",
       "      dtype='object')"
      ]
     },
     "execution_count": 10,
     "metadata": {},
     "output_type": "execute_result"
    },
    {
     "data": {
      "text/html": [
       "<div>\n",
       "<style scoped>\n",
       "    .dataframe tbody tr th:only-of-type {\n",
       "        vertical-align: middle;\n",
       "    }\n",
       "\n",
       "    .dataframe tbody tr th {\n",
       "        vertical-align: top;\n",
       "    }\n",
       "\n",
       "    .dataframe thead th {\n",
       "        text-align: right;\n",
       "    }\n",
       "</style>\n",
       "<table border=\"1\" class=\"dataframe\">\n",
       "  <thead>\n",
       "    <tr style=\"text-align: right;\">\n",
       "      <th></th>\n",
       "      <th>goalCode</th>\n",
       "      <th>goalDesc</th>\n",
       "      <th>targetCode</th>\n",
       "      <th>targetDesc</th>\n",
       "      <th>indicatorCode</th>\n",
       "      <th>indicatorDesc</th>\n",
       "      <th>indicatorTier</th>\n",
       "      <th>seriesCode</th>\n",
       "      <th>seriesDesc</th>\n",
       "      <th>seriesRelease</th>\n",
       "      <th>...</th>\n",
       "      <th>valueType</th>\n",
       "      <th>timeDetail</th>\n",
       "      <th>source</th>\n",
       "      <th>footnotes</th>\n",
       "      <th>natureCode</th>\n",
       "      <th>unitsCode</th>\n",
       "      <th>reportingTypeCode</th>\n",
       "      <th>natureDesc</th>\n",
       "      <th>unitsDesc</th>\n",
       "      <th>reportingTypeDesc</th>\n",
       "    </tr>\n",
       "  </thead>\n",
       "  <tbody>\n",
       "    <tr>\n",
       "      <th>0</th>\n",
       "      <td>1</td>\n",
       "      <td>End poverty in all its forms everywhere</td>\n",
       "      <td>1.5</td>\n",
       "      <td>By 2030, build the resilience of the poor and ...</td>\n",
       "      <td>1.5.2</td>\n",
       "      <td>Direct economic loss attributed to disasters i...</td>\n",
       "      <td>1</td>\n",
       "      <td>VC_DSR_LSGP</td>\n",
       "      <td>Direct economic loss attributed to disasters r...</td>\n",
       "      <td>2019.Q1.G.02</td>\n",
       "      <td>...</td>\n",
       "      <td>NaN</td>\n",
       "      <td>NaN</td>\n",
       "      <td>NaN</td>\n",
       "      <td>NaN</td>\n",
       "      <td>NaN</td>\n",
       "      <td>NaN</td>\n",
       "      <td>NaN</td>\n",
       "      <td>NaN</td>\n",
       "      <td>NaN</td>\n",
       "      <td>NaN</td>\n",
       "    </tr>\n",
       "    <tr>\n",
       "      <th>1</th>\n",
       "      <td>1</td>\n",
       "      <td>End poverty in all its forms everywhere</td>\n",
       "      <td>1.5</td>\n",
       "      <td>By 2030, build the resilience of the poor and ...</td>\n",
       "      <td>1.5.2</td>\n",
       "      <td>Direct economic loss attributed to disasters i...</td>\n",
       "      <td>1</td>\n",
       "      <td>VC_DSR_LSGP</td>\n",
       "      <td>Direct economic loss attributed to disasters r...</td>\n",
       "      <td>2019.Q1.G.02</td>\n",
       "      <td>...</td>\n",
       "      <td>NaN</td>\n",
       "      <td>NaN</td>\n",
       "      <td>NaN</td>\n",
       "      <td>NaN</td>\n",
       "      <td>NaN</td>\n",
       "      <td>NaN</td>\n",
       "      <td>NaN</td>\n",
       "      <td>NaN</td>\n",
       "      <td>NaN</td>\n",
       "      <td>NaN</td>\n",
       "    </tr>\n",
       "    <tr>\n",
       "      <th>2</th>\n",
       "      <td>1</td>\n",
       "      <td>End poverty in all its forms everywhere</td>\n",
       "      <td>1.5</td>\n",
       "      <td>By 2030, build the resilience of the poor and ...</td>\n",
       "      <td>1.5.2</td>\n",
       "      <td>Direct economic loss attributed to disasters i...</td>\n",
       "      <td>1</td>\n",
       "      <td>VC_DSR_LSGP</td>\n",
       "      <td>Direct economic loss attributed to disasters r...</td>\n",
       "      <td>2019.Q1.G.02</td>\n",
       "      <td>...</td>\n",
       "      <td>NaN</td>\n",
       "      <td>NaN</td>\n",
       "      <td>NaN</td>\n",
       "      <td>NaN</td>\n",
       "      <td>NaN</td>\n",
       "      <td>NaN</td>\n",
       "      <td>NaN</td>\n",
       "      <td>NaN</td>\n",
       "      <td>NaN</td>\n",
       "      <td>NaN</td>\n",
       "    </tr>\n",
       "  </tbody>\n",
       "</table>\n",
       "<p>3 rows × 33 columns</p>\n",
       "</div>"
      ],
      "text/plain": [
       "   goalCode                                 goalDesc  targetCode  \\\n",
       "0         1  End poverty in all its forms everywhere         1.5   \n",
       "1         1  End poverty in all its forms everywhere         1.5   \n",
       "2         1  End poverty in all its forms everywhere         1.5   \n",
       "\n",
       "                                          targetDesc indicatorCode  \\\n",
       "0  By 2030, build the resilience of the poor and ...         1.5.2   \n",
       "1  By 2030, build the resilience of the poor and ...         1.5.2   \n",
       "2  By 2030, build the resilience of the poor and ...         1.5.2   \n",
       "\n",
       "                                       indicatorDesc  indicatorTier  \\\n",
       "0  Direct economic loss attributed to disasters i...              1   \n",
       "1  Direct economic loss attributed to disasters i...              1   \n",
       "2  Direct economic loss attributed to disasters i...              1   \n",
       "\n",
       "    seriesCode                                         seriesDesc  \\\n",
       "0  VC_DSR_LSGP  Direct economic loss attributed to disasters r...   \n",
       "1  VC_DSR_LSGP  Direct economic loss attributed to disasters r...   \n",
       "2  VC_DSR_LSGP  Direct economic loss attributed to disasters r...   \n",
       "\n",
       "  seriesRelease  ...  valueType  timeDetail source  footnotes  natureCode  \\\n",
       "0  2019.Q1.G.02  ...        NaN         NaN    NaN        NaN         NaN   \n",
       "1  2019.Q1.G.02  ...        NaN         NaN    NaN        NaN         NaN   \n",
       "2  2019.Q1.G.02  ...        NaN         NaN    NaN        NaN         NaN   \n",
       "\n",
       "  unitsCode reportingTypeCode  natureDesc unitsDesc  reportingTypeDesc  \n",
       "0       NaN               NaN         NaN       NaN                NaN  \n",
       "1       NaN               NaN         NaN       NaN                NaN  \n",
       "2       NaN               NaN         NaN       NaN                NaN  \n",
       "\n",
       "[3 rows x 33 columns]"
      ]
     },
     "execution_count": 10,
     "metadata": {},
     "output_type": "execute_result"
    },
    {
     "data": {
      "text/html": [
       "<div>\n",
       "<style scoped>\n",
       "    .dataframe tbody tr th:only-of-type {\n",
       "        vertical-align: middle;\n",
       "    }\n",
       "\n",
       "    .dataframe tbody tr th {\n",
       "        vertical-align: top;\n",
       "    }\n",
       "\n",
       "    .dataframe thead th {\n",
       "        text-align: right;\n",
       "    }\n",
       "</style>\n",
       "<table border=\"1\" class=\"dataframe\">\n",
       "  <thead>\n",
       "    <tr style=\"text-align: right;\">\n",
       "      <th></th>\n",
       "      <th>goalCode</th>\n",
       "      <th>goalDesc</th>\n",
       "      <th>targetCode</th>\n",
       "      <th>targetDesc</th>\n",
       "      <th>indicatorCode</th>\n",
       "      <th>indicatorDesc</th>\n",
       "      <th>indicatorTier</th>\n",
       "      <th>seriesCode</th>\n",
       "      <th>seriesDesc</th>\n",
       "      <th>seriesRelease</th>\n",
       "      <th>...</th>\n",
       "      <th>valueType</th>\n",
       "      <th>timeDetail</th>\n",
       "      <th>source</th>\n",
       "      <th>footnotes</th>\n",
       "      <th>natureCode</th>\n",
       "      <th>unitsCode</th>\n",
       "      <th>reportingTypeCode</th>\n",
       "      <th>natureDesc</th>\n",
       "      <th>unitsDesc</th>\n",
       "      <th>reportingTypeDesc</th>\n",
       "    </tr>\n",
       "  </thead>\n",
       "  <tbody>\n",
       "    <tr>\n",
       "      <th>8057</th>\n",
       "      <td>11</td>\n",
       "      <td>Make cities and human settlements inclusive, s...</td>\n",
       "      <td>11.5</td>\n",
       "      <td>By 2030, significantly reduce the number of de...</td>\n",
       "      <td>11.5.2</td>\n",
       "      <td>Direct economic loss in relation to global GDP...</td>\n",
       "      <td>1</td>\n",
       "      <td>VC_DSR_LSGP</td>\n",
       "      <td>Direct economic loss attributed to disasters r...</td>\n",
       "      <td>2019.Q1.G.02</td>\n",
       "      <td>...</td>\n",
       "      <td>NaN</td>\n",
       "      <td>NaN</td>\n",
       "      <td>NaN</td>\n",
       "      <td>NaN</td>\n",
       "      <td>NaN</td>\n",
       "      <td>NaN</td>\n",
       "      <td>NaN</td>\n",
       "      <td>NaN</td>\n",
       "      <td>NaN</td>\n",
       "      <td>NaN</td>\n",
       "    </tr>\n",
       "    <tr>\n",
       "      <th>8058</th>\n",
       "      <td>11</td>\n",
       "      <td>Make cities and human settlements inclusive, s...</td>\n",
       "      <td>11.5</td>\n",
       "      <td>By 2030, significantly reduce the number of de...</td>\n",
       "      <td>11.5.2</td>\n",
       "      <td>Direct economic loss in relation to global GDP...</td>\n",
       "      <td>1</td>\n",
       "      <td>VC_DSR_LSGP</td>\n",
       "      <td>Direct economic loss attributed to disasters r...</td>\n",
       "      <td>2019.Q1.G.02</td>\n",
       "      <td>...</td>\n",
       "      <td>NaN</td>\n",
       "      <td>NaN</td>\n",
       "      <td>NaN</td>\n",
       "      <td>NaN</td>\n",
       "      <td>NaN</td>\n",
       "      <td>NaN</td>\n",
       "      <td>NaN</td>\n",
       "      <td>NaN</td>\n",
       "      <td>NaN</td>\n",
       "      <td>NaN</td>\n",
       "    </tr>\n",
       "    <tr>\n",
       "      <th>8059</th>\n",
       "      <td>11</td>\n",
       "      <td>Make cities and human settlements inclusive, s...</td>\n",
       "      <td>11.5</td>\n",
       "      <td>By 2030, significantly reduce the number of de...</td>\n",
       "      <td>11.5.2</td>\n",
       "      <td>Direct economic loss in relation to global GDP...</td>\n",
       "      <td>1</td>\n",
       "      <td>VC_DSR_LSGP</td>\n",
       "      <td>Direct economic loss attributed to disasters r...</td>\n",
       "      <td>2019.Q1.G.02</td>\n",
       "      <td>...</td>\n",
       "      <td>NaN</td>\n",
       "      <td>NaN</td>\n",
       "      <td>NaN</td>\n",
       "      <td>NaN</td>\n",
       "      <td>NaN</td>\n",
       "      <td>NaN</td>\n",
       "      <td>NaN</td>\n",
       "      <td>NaN</td>\n",
       "      <td>NaN</td>\n",
       "      <td>NaN</td>\n",
       "    </tr>\n",
       "  </tbody>\n",
       "</table>\n",
       "<p>3 rows × 33 columns</p>\n",
       "</div>"
      ],
      "text/plain": [
       "      goalCode                                           goalDesc  targetCode  \\\n",
       "8057        11  Make cities and human settlements inclusive, s...        11.5   \n",
       "8058        11  Make cities and human settlements inclusive, s...        11.5   \n",
       "8059        11  Make cities and human settlements inclusive, s...        11.5   \n",
       "\n",
       "                                             targetDesc indicatorCode  \\\n",
       "8057  By 2030, significantly reduce the number of de...        11.5.2   \n",
       "8058  By 2030, significantly reduce the number of de...        11.5.2   \n",
       "8059  By 2030, significantly reduce the number of de...        11.5.2   \n",
       "\n",
       "                                          indicatorDesc  indicatorTier  \\\n",
       "8057  Direct economic loss in relation to global GDP...              1   \n",
       "8058  Direct economic loss in relation to global GDP...              1   \n",
       "8059  Direct economic loss in relation to global GDP...              1   \n",
       "\n",
       "       seriesCode                                         seriesDesc  \\\n",
       "8057  VC_DSR_LSGP  Direct economic loss attributed to disasters r...   \n",
       "8058  VC_DSR_LSGP  Direct economic loss attributed to disasters r...   \n",
       "8059  VC_DSR_LSGP  Direct economic loss attributed to disasters r...   \n",
       "\n",
       "     seriesRelease  ...  valueType  timeDetail source  footnotes  natureCode  \\\n",
       "8057  2019.Q1.G.02  ...        NaN         NaN    NaN        NaN         NaN   \n",
       "8058  2019.Q1.G.02  ...        NaN         NaN    NaN        NaN         NaN   \n",
       "8059  2019.Q1.G.02  ...        NaN         NaN    NaN        NaN         NaN   \n",
       "\n",
       "     unitsCode reportingTypeCode  natureDesc unitsDesc  reportingTypeDesc  \n",
       "8057       NaN               NaN         NaN       NaN                NaN  \n",
       "8058       NaN               NaN         NaN       NaN                NaN  \n",
       "8059       NaN               NaN         NaN       NaN                NaN  \n",
       "\n",
       "[3 rows x 33 columns]"
      ]
     },
     "execution_count": 10,
     "metadata": {},
     "output_type": "execute_result"
    }
   ],
   "source": [
    "f = 'Data_1.5.2_VC_DSR_LSGP.xlsx'\n",
    "\n",
    "xlsx = pd.ExcelFile(path + f)\n",
    "x = pd.read_excel(xlsx, 'Sheet1')\n",
    "x.shape\n",
    "x.columns\n",
    "x.head(3)\n",
    "x.tail(3)\n",
    "\n",
    "\n"
   ]
  },
  {
   "cell_type": "code",
   "execution_count": 23,
   "metadata": {},
   "outputs": [],
   "source": []
  }
 ],
 "metadata": {
  "kernelspec": {
   "display_name": "Python 3",
   "language": "python",
   "name": "python3"
  },
  "language_info": {
   "codemirror_mode": {
    "name": "ipython",
    "version": 3
   },
   "file_extension": ".py",
   "mimetype": "text/x-python",
   "name": "python",
   "nbconvert_exporter": "python",
   "pygments_lexer": "ipython3",
   "version": "3.6.8"
  }
 },
 "nbformat": 4,
 "nbformat_minor": 2
}
